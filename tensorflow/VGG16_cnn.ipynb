{
 "cells": [
  {
   "cell_type": "markdown",
   "metadata": {},
   "source": [
    "# CNN Model VGG16"
   ]
  },
  {
   "cell_type": "markdown",
   "metadata": {},
   "source": [
    "## Imports and inital setup"
   ]
  },
  {
   "cell_type": "code",
   "execution_count": 85,
   "metadata": {},
   "outputs": [],
   "source": [
    "# Imports\n",
    "import pandas as pd\n",
    "import tensorflow as tf\n",
    "import matplotlib.pyplot as plt\n",
    "\n",
    "from tensorflow.keras.preprocessing.image import ImageDataGenerator\n",
    "from tensorflow.keras.applications.vgg16 import VGG16\n",
    "from tensorflow.keras.applications.vgg16 import preprocess_input\n",
    "import sys\n",
    "\n",
    "sys.path.append(\"..\")\n",
    "from helperfunctions import modelhelper as mh\n",
    "\n",
    "SEED = 42\n",
    "NUM_EPOCHS = 30\n",
    "BATCH_SIZE = 32\n",
    "\n",
    "# File path variables\n",
    "# please make sure to use the correct path to the meta data file\n",
    "\n",
    "FILEPATH_JPGS = './../data/jpgs/'\n",
    "FILEPATH_PROCESSED=\"./../data/processed/\"\n",
    "FILEPATH_OUTPUT = './../data/jpgs/'  # Replace with your folder path\n",
    "\n",
    "TARGET_LABEL=\"dx\"\n",
    "BALANCE_LABEL=\"dx\"\n",
    "IMAGE_SIZE = (224, 224)"
   ]
  },
  {
   "cell_type": "markdown",
   "metadata": {},
   "source": [
    "### Loading (augmented) metadata as test, train, validation from files"
   ]
  },
  {
   "cell_type": "code",
   "execution_count": 86,
   "metadata": {},
   "outputs": [
    {
     "data": {
      "text/html": [
       "<div>\n",
       "<style scoped>\n",
       "    .dataframe tbody tr th:only-of-type {\n",
       "        vertical-align: middle;\n",
       "    }\n",
       "\n",
       "    .dataframe tbody tr th {\n",
       "        vertical-align: top;\n",
       "    }\n",
       "\n",
       "    .dataframe thead th {\n",
       "        text-align: right;\n",
       "    }\n",
       "</style>\n",
       "<table border=\"1\" class=\"dataframe\">\n",
       "  <thead>\n",
       "    <tr style=\"text-align: right;\">\n",
       "      <th></th>\n",
       "      <th>lesion_id</th>\n",
       "      <th>image_id</th>\n",
       "      <th>dx</th>\n",
       "      <th>dx_type</th>\n",
       "      <th>age</th>\n",
       "      <th>sex</th>\n",
       "      <th>localization</th>\n",
       "      <th>dataset</th>\n",
       "      <th>dx_binary</th>\n",
       "      <th>image_path</th>\n",
       "    </tr>\n",
       "  </thead>\n",
       "  <tbody>\n",
       "    <tr>\n",
       "      <th>3116</th>\n",
       "      <td>HAM_0007225</td>\n",
       "      <td>aug_aigEr3ISIC_0032247.jpg</td>\n",
       "      <td>df</td>\n",
       "      <td>histo</td>\n",
       "      <td>75.0</td>\n",
       "      <td>male</td>\n",
       "      <td>lower extremity</td>\n",
       "      <td>vienna_dias</td>\n",
       "      <td>not_skin_cancer</td>\n",
       "      <td>./../data/jpgs/aug_aigEr3ISIC_0032247.jpg</td>\n",
       "    </tr>\n",
       "    <tr>\n",
       "      <th>3471</th>\n",
       "      <td>HAM_0005663</td>\n",
       "      <td>aug_fpWsaUISIC_0026417.jpg</td>\n",
       "      <td>df</td>\n",
       "      <td>consensus</td>\n",
       "      <td>30.0</td>\n",
       "      <td>male</td>\n",
       "      <td>lower extremity</td>\n",
       "      <td>vidir_modern</td>\n",
       "      <td>not_skin_cancer</td>\n",
       "      <td>./../data/jpgs/aug_fpWsaUISIC_0026417.jpg</td>\n",
       "    </tr>\n",
       "    <tr>\n",
       "      <th>1189</th>\n",
       "      <td>HAM_0005711</td>\n",
       "      <td>ISIC_0033911.jpg</td>\n",
       "      <td>mel</td>\n",
       "      <td>histo</td>\n",
       "      <td>35.0</td>\n",
       "      <td>male</td>\n",
       "      <td>back</td>\n",
       "      <td>vidir_modern</td>\n",
       "      <td>skin_cancer</td>\n",
       "      <td>./../data/jpgs/ISIC_0033911.jpg</td>\n",
       "    </tr>\n",
       "    <tr>\n",
       "      <th>3251</th>\n",
       "      <td>HAM_0000024</td>\n",
       "      <td>aug_FJvLmuISIC_0027141.jpg</td>\n",
       "      <td>df</td>\n",
       "      <td>consensus</td>\n",
       "      <td>45.0</td>\n",
       "      <td>female</td>\n",
       "      <td>lower extremity</td>\n",
       "      <td>vidir_molemax</td>\n",
       "      <td>not_skin_cancer</td>\n",
       "      <td>./../data/jpgs/aug_FJvLmuISIC_0027141.jpg</td>\n",
       "    </tr>\n",
       "    <tr>\n",
       "      <th>276</th>\n",
       "      <td>HAM_0004517</td>\n",
       "      <td>ISIC_0025359.jpg</td>\n",
       "      <td>nv</td>\n",
       "      <td>follow_up</td>\n",
       "      <td>5.0</td>\n",
       "      <td>male</td>\n",
       "      <td>lower extremity</td>\n",
       "      <td>vidir_molemax</td>\n",
       "      <td>not_skin_cancer</td>\n",
       "      <td>./../data/jpgs/ISIC_0025359.jpg</td>\n",
       "    </tr>\n",
       "    <tr>\n",
       "      <th>2449</th>\n",
       "      <td>HAM_0005989</td>\n",
       "      <td>aug_uHkXlrISIC_0033123.jpg</td>\n",
       "      <td>vasc</td>\n",
       "      <td>histo</td>\n",
       "      <td>25.0</td>\n",
       "      <td>female</td>\n",
       "      <td>back</td>\n",
       "      <td>vidir_modern</td>\n",
       "      <td>not_skin_cancer</td>\n",
       "      <td>./../data/jpgs/aug_uHkXlrISIC_0033123.jpg</td>\n",
       "    </tr>\n",
       "    <tr>\n",
       "      <th>2122</th>\n",
       "      <td>HAM_0001852</td>\n",
       "      <td>aug_kxwgeEISIC_0033749.jpg</td>\n",
       "      <td>vasc</td>\n",
       "      <td>histo</td>\n",
       "      <td>80.0</td>\n",
       "      <td>male</td>\n",
       "      <td>lower extremity</td>\n",
       "      <td>vidir_modern</td>\n",
       "      <td>not_skin_cancer</td>\n",
       "      <td>./../data/jpgs/aug_kxwgeEISIC_0033749.jpg</td>\n",
       "    </tr>\n",
       "    <tr>\n",
       "      <th>739</th>\n",
       "      <td>HAM_0000719</td>\n",
       "      <td>ISIC_0026902.jpg</td>\n",
       "      <td>bcc</td>\n",
       "      <td>histo</td>\n",
       "      <td>80.0</td>\n",
       "      <td>male</td>\n",
       "      <td>abdomen</td>\n",
       "      <td>rosendahl</td>\n",
       "      <td>skin_cancer</td>\n",
       "      <td>./../data/jpgs/ISIC_0026902.jpg</td>\n",
       "    </tr>\n",
       "    <tr>\n",
       "      <th>1124</th>\n",
       "      <td>HAM_0006802</td>\n",
       "      <td>ISIC_0032610.jpg</td>\n",
       "      <td>mel</td>\n",
       "      <td>histo</td>\n",
       "      <td>40.0</td>\n",
       "      <td>male</td>\n",
       "      <td>upper extremity</td>\n",
       "      <td>vidir_modern</td>\n",
       "      <td>skin_cancer</td>\n",
       "      <td>./../data/jpgs/ISIC_0032610.jpg</td>\n",
       "    </tr>\n",
       "    <tr>\n",
       "      <th>2099</th>\n",
       "      <td>HAM_0005155</td>\n",
       "      <td>aug_Ws7OGnISIC_0032076.jpg</td>\n",
       "      <td>vasc</td>\n",
       "      <td>histo</td>\n",
       "      <td>85.0</td>\n",
       "      <td>male</td>\n",
       "      <td>lower extremity</td>\n",
       "      <td>vidir_modern</td>\n",
       "      <td>not_skin_cancer</td>\n",
       "      <td>./../data/jpgs/aug_Ws7OGnISIC_0032076.jpg</td>\n",
       "    </tr>\n",
       "    <tr>\n",
       "      <th>1284</th>\n",
       "      <td>HAM_0005724</td>\n",
       "      <td>ISIC_0024805.jpg</td>\n",
       "      <td>mel</td>\n",
       "      <td>histo</td>\n",
       "      <td>75.0</td>\n",
       "      <td>male</td>\n",
       "      <td>upper extremity</td>\n",
       "      <td>rosendahl</td>\n",
       "      <td>skin_cancer</td>\n",
       "      <td>./../data/jpgs/ISIC_0024805.jpg</td>\n",
       "    </tr>\n",
       "    <tr>\n",
       "      <th>873</th>\n",
       "      <td>HAM_0000719</td>\n",
       "      <td>aug_ki16g8ISIC_0026337.jpg</td>\n",
       "      <td>bcc</td>\n",
       "      <td>histo</td>\n",
       "      <td>80.0</td>\n",
       "      <td>male</td>\n",
       "      <td>abdomen</td>\n",
       "      <td>rosendahl</td>\n",
       "      <td>skin_cancer</td>\n",
       "      <td>./../data/jpgs/aug_ki16g8ISIC_0026337.jpg</td>\n",
       "    </tr>\n",
       "    <tr>\n",
       "      <th>3367</th>\n",
       "      <td>HAM_0001785</td>\n",
       "      <td>aug_rdYj1ZISIC_0034169.jpg</td>\n",
       "      <td>df</td>\n",
       "      <td>histo</td>\n",
       "      <td>50.0</td>\n",
       "      <td>male</td>\n",
       "      <td>upper extremity</td>\n",
       "      <td>vidir_modern</td>\n",
       "      <td>not_skin_cancer</td>\n",
       "      <td>./../data/jpgs/aug_rdYj1ZISIC_0034169.jpg</td>\n",
       "    </tr>\n",
       "    <tr>\n",
       "      <th>305</th>\n",
       "      <td>HAM_0003035</td>\n",
       "      <td>ISIC_0025168.jpg</td>\n",
       "      <td>nv</td>\n",
       "      <td>consensus</td>\n",
       "      <td>10.0</td>\n",
       "      <td>female</td>\n",
       "      <td>upper extremity</td>\n",
       "      <td>vidir_modern</td>\n",
       "      <td>not_skin_cancer</td>\n",
       "      <td>./../data/jpgs/ISIC_0025168.jpg</td>\n",
       "    </tr>\n",
       "    <tr>\n",
       "      <th>3444</th>\n",
       "      <td>HAM_0005112</td>\n",
       "      <td>aug_XnTz6bISIC_0024386.jpg</td>\n",
       "      <td>df</td>\n",
       "      <td>consensus</td>\n",
       "      <td>40.0</td>\n",
       "      <td>female</td>\n",
       "      <td>lower extremity</td>\n",
       "      <td>vidir_molemax</td>\n",
       "      <td>not_skin_cancer</td>\n",
       "      <td>./../data/jpgs/aug_XnTz6bISIC_0024386.jpg</td>\n",
       "    </tr>\n",
       "  </tbody>\n",
       "</table>\n",
       "</div>"
      ],
      "text/plain": [
       "        lesion_id                    image_id    dx    dx_type   age     sex   \n",
       "3116  HAM_0007225  aug_aigEr3ISIC_0032247.jpg    df      histo  75.0    male  \\\n",
       "3471  HAM_0005663  aug_fpWsaUISIC_0026417.jpg    df  consensus  30.0    male   \n",
       "1189  HAM_0005711            ISIC_0033911.jpg   mel      histo  35.0    male   \n",
       "3251  HAM_0000024  aug_FJvLmuISIC_0027141.jpg    df  consensus  45.0  female   \n",
       "276   HAM_0004517            ISIC_0025359.jpg    nv  follow_up   5.0    male   \n",
       "2449  HAM_0005989  aug_uHkXlrISIC_0033123.jpg  vasc      histo  25.0  female   \n",
       "2122  HAM_0001852  aug_kxwgeEISIC_0033749.jpg  vasc      histo  80.0    male   \n",
       "739   HAM_0000719            ISIC_0026902.jpg   bcc      histo  80.0    male   \n",
       "1124  HAM_0006802            ISIC_0032610.jpg   mel      histo  40.0    male   \n",
       "2099  HAM_0005155  aug_Ws7OGnISIC_0032076.jpg  vasc      histo  85.0    male   \n",
       "1284  HAM_0005724            ISIC_0024805.jpg   mel      histo  75.0    male   \n",
       "873   HAM_0000719  aug_ki16g8ISIC_0026337.jpg   bcc      histo  80.0    male   \n",
       "3367  HAM_0001785  aug_rdYj1ZISIC_0034169.jpg    df      histo  50.0    male   \n",
       "305   HAM_0003035            ISIC_0025168.jpg    nv  consensus  10.0  female   \n",
       "3444  HAM_0005112  aug_XnTz6bISIC_0024386.jpg    df  consensus  40.0  female   \n",
       "\n",
       "         localization        dataset        dx_binary   \n",
       "3116  lower extremity    vienna_dias  not_skin_cancer  \\\n",
       "3471  lower extremity   vidir_modern  not_skin_cancer   \n",
       "1189             back   vidir_modern      skin_cancer   \n",
       "3251  lower extremity  vidir_molemax  not_skin_cancer   \n",
       "276   lower extremity  vidir_molemax  not_skin_cancer   \n",
       "2449             back   vidir_modern  not_skin_cancer   \n",
       "2122  lower extremity   vidir_modern  not_skin_cancer   \n",
       "739           abdomen      rosendahl      skin_cancer   \n",
       "1124  upper extremity   vidir_modern      skin_cancer   \n",
       "2099  lower extremity   vidir_modern  not_skin_cancer   \n",
       "1284  upper extremity      rosendahl      skin_cancer   \n",
       "873           abdomen      rosendahl      skin_cancer   \n",
       "3367  upper extremity   vidir_modern  not_skin_cancer   \n",
       "305   upper extremity   vidir_modern  not_skin_cancer   \n",
       "3444  lower extremity  vidir_molemax  not_skin_cancer   \n",
       "\n",
       "                                     image_path  \n",
       "3116  ./../data/jpgs/aug_aigEr3ISIC_0032247.jpg  \n",
       "3471  ./../data/jpgs/aug_fpWsaUISIC_0026417.jpg  \n",
       "1189            ./../data/jpgs/ISIC_0033911.jpg  \n",
       "3251  ./../data/jpgs/aug_FJvLmuISIC_0027141.jpg  \n",
       "276             ./../data/jpgs/ISIC_0025359.jpg  \n",
       "2449  ./../data/jpgs/aug_uHkXlrISIC_0033123.jpg  \n",
       "2122  ./../data/jpgs/aug_kxwgeEISIC_0033749.jpg  \n",
       "739             ./../data/jpgs/ISIC_0026902.jpg  \n",
       "1124            ./../data/jpgs/ISIC_0032610.jpg  \n",
       "2099  ./../data/jpgs/aug_Ws7OGnISIC_0032076.jpg  \n",
       "1284            ./../data/jpgs/ISIC_0024805.jpg  \n",
       "873   ./../data/jpgs/aug_ki16g8ISIC_0026337.jpg  \n",
       "3367  ./../data/jpgs/aug_rdYj1ZISIC_0034169.jpg  \n",
       "305             ./../data/jpgs/ISIC_0025168.jpg  \n",
       "3444  ./../data/jpgs/aug_XnTz6bISIC_0024386.jpg  "
      ]
     },
     "execution_count": 86,
     "metadata": {},
     "output_type": "execute_result"
    }
   ],
   "source": [
    "# Read the metadata file\n",
    "train_df = pd.read_csv(FILEPATH_PROCESSED+\"train_from_Metadata_processed.csv\")\n",
    "validation_df = pd.read_csv(FILEPATH_PROCESSED+\"validation_from_Metadata_processed.csv\")\n",
    "test_df = pd.read_csv(FILEPATH_PROCESSED+\"test_from_Metadata_processed.csv\")\n",
    "\n",
    "train_df.sample(15)"
   ]
  },
  {
   "cell_type": "markdown",
   "metadata": {},
   "source": [
    "## Setting up the image data generator for training and validation"
   ]
  },
  {
   "cell_type": "markdown",
   "metadata": {},
   "source": [
    "Note: each Keras Application expects a specific kind of input preprocessing. For VGG16, call tf.keras.applications.vgg16.preprocess_input on your inputs before passing them to the model. vgg16.preprocess_input will convert the input images from RGB to BGR, then will zero-center each color channel with respect to the ImageNet dataset, without scaling"
   ]
  },
  {
   "cell_type": "code",
   "execution_count": 87,
   "metadata": {},
   "outputs": [
    {
     "name": "stdout",
     "output_type": "stream",
     "text": [
      "Found 2003 validated image filenames belonging to 7 classes.\n",
      "Found 3504 validated image filenames belonging to 7 classes.\n"
     ]
    }
   ],
   "source": [
    "# Setting up the Image Data Generator for the train data set - including augmentation\n",
    "\n",
    "\n",
    "datagen_train = ImageDataGenerator(\n",
    "    rescale=1.0 / 255.0,  # Rescale pixel values to [0, 1], important for CNNs to perform better, deactivate to see images down below\n",
    "    preprocessing_function=preprocess_input,  # VGG16 specific preprocessing\n",
    ")\n",
    "\n",
    "datagen_validation = ImageDataGenerator(\n",
    "    rescale=1.0 / 255.0, #see above\n",
    "    preprocessing_function=preprocess_input,  # VGG16 specific preprocessing\n",
    ")\n",
    "\n",
    "validation_generator = datagen_validation.flow_from_dataframe(\n",
    "    dataframe=validation_df,\n",
    "    directory=FILEPATH_JPGS,\n",
    "    x_col=\"image_id\",\n",
    "    y_col=TARGET_LABEL,\n",
    "    class_mode=\"categorical\",\n",
    "    target_size=IMAGE_SIZE,\n",
    "    batch_size=32\n",
    ")\n",
    "\n",
    "train_data_generator = datagen_train.flow_from_dataframe(\n",
    "        dataframe=train_df,\n",
    "        directory=FILEPATH_JPGS,\n",
    "        x_col=\"image_id\",\n",
    "        y_col=TARGET_LABEL,\n",
    "        class_mode=\"categorical\",\n",
    "        target_size=IMAGE_SIZE,\n",
    "        batch_size=32\n",
    ")"
   ]
  },
  {
   "cell_type": "markdown",
   "metadata": {},
   "source": [
    "# Adding an neural network model to test the data"
   ]
  },
  {
   "cell_type": "markdown",
   "metadata": {},
   "source": [
    "## VGG16 Model\n",
    "The VGG16 is a pre-trained Convolutional Neural Network (CNN) model proposed by K. Simonyan and A. Zisserman from the University of Oxford's Visual Geometry Group Lab. The model was proposed in their 2014 paper \"Very Deep Convolutional Networks for Large-Scale Image Recognition\" and won the 1st and 2nd places in the ImageNet Large Scale Visual Recognition Challenge (ILSVRC) in 2014 geeksforgeeks.org. It is considered one of the best vision model architectures to date due to its simplicity and high performance builtin.com.\n",
    "\n",
    "[Source:Tensorflow Applications](https://www.tensorflow.org/api_docs/python/tf/keras/applications/vgg16/VGG16)\n",
    "\n",
    "Architecture:\n",
    "\n",
    "*Input:*\n",
    "\n",
    "Conv 1-1,\n",
    "Conv 1-2,\n",
    "Pooling\n",
    "\n",
    "Conv 2-1,\n",
    "Conv 2-2,\n",
    "Pooling\n",
    "\n",
    "Conv 3-1,\n",
    "Conv 3-2,\n",
    "Conv 3-3,\n",
    "Pooling\n",
    "\n",
    "Conv 4-1,\n",
    "Conv 4-2,\n",
    "Conv 4-3,\n",
    "Pooling\n",
    "\n",
    "Conv 5-1,\n",
    "Conv 5-2,\n",
    "Conv 5-3,\n",
    "Pooling\n",
    "\n",
    "Dense,\n",
    "Dense,\n",
    "Dense\n",
    "\n",
    "*Output*\n"
   ]
  },
  {
   "cell_type": "code",
   "execution_count": 88,
   "metadata": {},
   "outputs": [],
   "source": [
    "from tensorflow.keras.applications import VGG16\n",
    "from tensorflow.keras.layers import Input, Conv2D, Flatten, Dense\n",
    "from tensorflow.keras.models import Model\n",
    "\n",
    "# Load the pre-trained VGG16 model\n",
    "vgg16_model = VGG16(weights='imagenet', include_top=False, input_shape=(224, 224, 3))\n",
    "# Freeze the VGG16 model\n",
    "vgg16_model.trainable = False\n",
    "# Add custom layers on top of VGG16\n",
    "x = Conv2D(64, (3, 3), activation='relu')(vgg16_model.output)\n",
    "x = Flatten()(x)\n",
    "x = Dense(128, activation='relu')(x)\n",
    "x = Dense(7, activation='softmax')(x)  # Replace num_classes with your number of classes\n",
    "\n",
    "# Create the combined model\n",
    "model = Model(inputs=vgg16_model.input, outputs=x)\n",
    "\n",
    "\n"
   ]
  },
  {
   "cell_type": "markdown",
   "metadata": {},
   "source": [
    "loading the VGG16 model\n",
    "from matplotlib.dates import drange\n",
    "\n",
    "\n",
    "vgg16_model = VGG16(\n",
    "    include_top=False, # do not include the top layer, we will add our own\n",
    "    weights= \"imagenet\", # use the weights that the model was trained on\n",
    "    input_shape=(IMAGE_SIZE[0], IMAGE_SIZE[1], 3), # the input shape of the images (3 channels, width, height)\n",
    "    pooling=\"max\", # the type of pooling to use when we add the top layer (average pooling)\n",
    ")\n",
    "\n",
    "# Add custom layers on top of VGG16\n",
    "x = Conv2D(64, (3, 3), activation='relu')(base_model.output)\n",
    "x = Flatten()(x)\n",
    "x = Dense(128, activation='relu')(x)\n",
    "x = Dense(, activation='softmax')(x)"
   ]
  },
  {
   "cell_type": "code",
   "execution_count": 89,
   "metadata": {},
   "outputs": [
    {
     "name": "stdout",
     "output_type": "stream",
     "text": [
      "Model: \"model_3\"\n",
      "_________________________________________________________________\n",
      " Layer (type)                Output Shape              Param #   \n",
      "=================================================================\n",
      " input_8 (InputLayer)        [(None, 224, 224, 3)]     0         \n",
      "                                                                 \n",
      " block1_conv1 (Conv2D)       (None, 224, 224, 64)      1792      \n",
      "                                                                 \n",
      " block1_conv2 (Conv2D)       (None, 224, 224, 64)      36928     \n",
      "                                                                 \n",
      " block1_pool (MaxPooling2D)  (None, 112, 112, 64)      0         \n",
      "                                                                 \n",
      " block2_conv1 (Conv2D)       (None, 112, 112, 128)     73856     \n",
      "                                                                 \n",
      " block2_conv2 (Conv2D)       (None, 112, 112, 128)     147584    \n",
      "                                                                 \n",
      " block2_pool (MaxPooling2D)  (None, 56, 56, 128)       0         \n",
      "                                                                 \n",
      " block3_conv1 (Conv2D)       (None, 56, 56, 256)       295168    \n",
      "                                                                 \n",
      " block3_conv2 (Conv2D)       (None, 56, 56, 256)       590080    \n",
      "                                                                 \n",
      " block3_conv3 (Conv2D)       (None, 56, 56, 256)       590080    \n",
      "                                                                 \n",
      " block3_pool (MaxPooling2D)  (None, 28, 28, 256)       0         \n",
      "                                                                 \n",
      " block4_conv1 (Conv2D)       (None, 28, 28, 512)       1180160   \n",
      "                                                                 \n",
      " block4_conv2 (Conv2D)       (None, 28, 28, 512)       2359808   \n",
      "                                                                 \n",
      " block4_conv3 (Conv2D)       (None, 28, 28, 512)       2359808   \n",
      "                                                                 \n",
      " block4_pool (MaxPooling2D)  (None, 14, 14, 512)       0         \n",
      "                                                                 \n",
      " block5_conv1 (Conv2D)       (None, 14, 14, 512)       2359808   \n",
      "                                                                 \n",
      " block5_conv2 (Conv2D)       (None, 14, 14, 512)       2359808   \n",
      "                                                                 \n",
      " block5_conv3 (Conv2D)       (None, 14, 14, 512)       2359808   \n",
      "                                                                 \n",
      " block5_pool (MaxPooling2D)  (None, 7, 7, 512)         0         \n",
      "                                                                 \n",
      " conv2d_4 (Conv2D)           (None, 5, 5, 64)          294976    \n",
      "                                                                 \n",
      " flatten_6 (Flatten)         (None, 1600)              0         \n",
      "                                                                 \n",
      " dense_15 (Dense)            (None, 128)               204928    \n",
      "                                                                 \n",
      " dense_16 (Dense)            (None, 7)                 903       \n",
      "                                                                 \n",
      "=================================================================\n",
      "Total params: 15215495 (58.04 MB)\n",
      "Trainable params: 500807 (1.91 MB)\n",
      "Non-trainable params: 14714688 (56.13 MB)\n",
      "_________________________________________________________________\n"
     ]
    }
   ],
   "source": [
    "\n",
    "from tensorflow.keras.optimizers import SGD\n",
    "\n",
    "opt = tf.keras.optimizers.legacy.SGD(learning_rate=0.001, momentum=0.9)\n",
    "\n",
    "# compile your model with the optimizer\n",
    "model.compile(loss='categorical_crossentropy', optimizer=opt, metrics=['accuracy'])\n",
    "\n",
    "# Summary of the model architecture\n",
    "model.summary()"
   ]
  },
  {
   "cell_type": "markdown",
   "metadata": {},
   "source": [
    "## Model Training"
   ]
  },
  {
   "cell_type": "code",
   "execution_count": 90,
   "metadata": {},
   "outputs": [
    {
     "name": "stdout",
     "output_type": "stream",
     "text": [
      "Epoch 1/30\n",
      "110/110 [==============================] - 713s 7s/step - loss: 1.8502 - accuracy: 0.2326 - val_loss: 1.8238 - val_accuracy: 0.0789\n",
      "Epoch 2/30\n",
      "110/110 [==============================] - 748s 7s/step - loss: 1.6157 - accuracy: 0.3599 - val_loss: 2.0896 - val_accuracy: 0.1633\n",
      "Epoch 3/30\n",
      "110/110 [==============================] - 744s 7s/step - loss: 1.4927 - accuracy: 0.4192 - val_loss: 2.0964 - val_accuracy: 0.1043\n",
      "Epoch 4/30\n",
      "110/110 [==============================] - 765s 7s/step - loss: 1.4312 - accuracy: 0.4426 - val_loss: 1.4762 - val_accuracy: 0.3375\n",
      "Epoch 5/30\n",
      "110/110 [==============================] - 756s 7s/step - loss: 1.3271 - accuracy: 0.5034 - val_loss: 1.6525 - val_accuracy: 0.3545\n",
      "Epoch 6/30\n",
      "110/110 [==============================] - 876s 8s/step - loss: 1.2773 - accuracy: 0.5071 - val_loss: 1.6969 - val_accuracy: 0.3550\n",
      "Epoch 7/30\n",
      "110/110 [==============================] - 868s 8s/step - loss: 1.2081 - accuracy: 0.5414 - val_loss: 1.4589 - val_accuracy: 0.4368\n",
      "Epoch 8/30\n",
      "110/110 [==============================] - 873s 8s/step - loss: 1.1353 - accuracy: 0.5751 - val_loss: 1.1444 - val_accuracy: 0.5886\n",
      "Epoch 9/30\n",
      "110/110 [==============================] - 1048s 10s/step - loss: 1.1340 - accuracy: 0.5719 - val_loss: 1.1785 - val_accuracy: 0.5597\n",
      "Epoch 10/30\n",
      "110/110 [==============================] - 1392s 13s/step - loss: 1.0742 - accuracy: 0.5979 - val_loss: 1.0382 - val_accuracy: 0.6251\n",
      "Epoch 11/30\n",
      "110/110 [==============================] - 1275s 12s/step - loss: 1.0594 - accuracy: 0.6022 - val_loss: 1.1887 - val_accuracy: 0.5462\n",
      "Epoch 12/30\n",
      "110/110 [==============================] - 881s 8s/step - loss: 1.0090 - accuracy: 0.6241 - val_loss: 1.3922 - val_accuracy: 0.4468\n",
      "Epoch 13/30\n",
      "110/110 [==============================] - 912s 8s/step - loss: 0.9876 - accuracy: 0.6304 - val_loss: 1.1357 - val_accuracy: 0.5821\n",
      "Epoch 14/30\n",
      "110/110 [==============================] - 934s 9s/step - loss: 0.9670 - accuracy: 0.6453 - val_loss: 0.9744 - val_accuracy: 0.6515\n",
      "Epoch 15/30\n"
     ]
    },
    {
     "name": "stderr",
     "output_type": "stream",
     "text": [
      "2023-09-27 16:32:02.269486: W tensorflow/core/framework/op_kernel.cc:1816] UNKNOWN: FileNotFoundError: [Errno 2] No such file or directory: './../data/jpgs/aug_e0RklNISIC_0033001.jpg'\n",
      "Traceback (most recent call last):\n",
      "\n",
      "  File \"/Users/da.ma.ro/Documents/Capstone/capstone-healthy-skin/.venv/lib/python3.11/site-packages/tensorflow/python/ops/script_ops.py\", line 268, in __call__\n",
      "    ret = func(*args)\n",
      "          ^^^^^^^^^^^\n",
      "\n",
      "  File \"/Users/da.ma.ro/Documents/Capstone/capstone-healthy-skin/.venv/lib/python3.11/site-packages/tensorflow/python/autograph/impl/api.py\", line 643, in wrapper\n",
      "    return func(*args, **kwargs)\n",
      "           ^^^^^^^^^^^^^^^^^^^^^\n",
      "\n",
      "  File \"/Users/da.ma.ro/Documents/Capstone/capstone-healthy-skin/.venv/lib/python3.11/site-packages/tensorflow/python/data/ops/from_generator_op.py\", line 198, in generator_py_func\n",
      "    values = next(generator_state.get_iterator(iterator_id))\n",
      "             ^^^^^^^^^^^^^^^^^^^^^^^^^^^^^^^^^^^^^^^^^^^^^^^\n",
      "\n",
      "  File \"/Users/da.ma.ro/Documents/Capstone/capstone-healthy-skin/.venv/lib/python3.11/site-packages/keras/src/engine/data_adapter.py\", line 917, in wrapped_generator\n",
      "    for data in generator_fn():\n",
      "\n",
      "  File \"/Users/da.ma.ro/Documents/Capstone/capstone-healthy-skin/.venv/lib/python3.11/site-packages/keras/src/engine/data_adapter.py\", line 1064, in generator_fn\n",
      "    yield x[i]\n",
      "          ~^^^\n",
      "\n",
      "  File \"/Users/da.ma.ro/Documents/Capstone/capstone-healthy-skin/.venv/lib/python3.11/site-packages/keras/src/preprocessing/image.py\", line 116, in __getitem__\n",
      "    return self._get_batches_of_transformed_samples(index_array)\n",
      "           ^^^^^^^^^^^^^^^^^^^^^^^^^^^^^^^^^^^^^^^^^^^^^^^^^^^^^\n",
      "\n",
      "  File \"/Users/da.ma.ro/Documents/Capstone/capstone-healthy-skin/.venv/lib/python3.11/site-packages/keras/src/preprocessing/image.py\", line 370, in _get_batches_of_transformed_samples\n",
      "    img = image_utils.load_img(\n",
      "          ^^^^^^^^^^^^^^^^^^^^^\n",
      "\n",
      "  File \"/Users/da.ma.ro/Documents/Capstone/capstone-healthy-skin/.venv/lib/python3.11/site-packages/keras/src/utils/image_utils.py\", line 422, in load_img\n",
      "    with open(path, \"rb\") as f:\n",
      "         ^^^^^^^^^^^^^^^^\n",
      "\n",
      "FileNotFoundError: [Errno 2] No such file or directory: './../data/jpgs/aug_e0RklNISIC_0033001.jpg'\n",
      "\n",
      "\n"
     ]
    },
    {
     "ename": "UnknownError",
     "evalue": "Graph execution error:\n\nFileNotFoundError: [Errno 2] No such file or directory: './../data/jpgs/aug_e0RklNISIC_0033001.jpg'\nTraceback (most recent call last):\n\n  File \"/Users/da.ma.ro/Documents/Capstone/capstone-healthy-skin/.venv/lib/python3.11/site-packages/tensorflow/python/ops/script_ops.py\", line 268, in __call__\n    ret = func(*args)\n          ^^^^^^^^^^^\n\n  File \"/Users/da.ma.ro/Documents/Capstone/capstone-healthy-skin/.venv/lib/python3.11/site-packages/tensorflow/python/autograph/impl/api.py\", line 643, in wrapper\n    return func(*args, **kwargs)\n           ^^^^^^^^^^^^^^^^^^^^^\n\n  File \"/Users/da.ma.ro/Documents/Capstone/capstone-healthy-skin/.venv/lib/python3.11/site-packages/tensorflow/python/data/ops/from_generator_op.py\", line 198, in generator_py_func\n    values = next(generator_state.get_iterator(iterator_id))\n             ^^^^^^^^^^^^^^^^^^^^^^^^^^^^^^^^^^^^^^^^^^^^^^^\n\n  File \"/Users/da.ma.ro/Documents/Capstone/capstone-healthy-skin/.venv/lib/python3.11/site-packages/keras/src/engine/data_adapter.py\", line 917, in wrapped_generator\n    for data in generator_fn():\n\n  File \"/Users/da.ma.ro/Documents/Capstone/capstone-healthy-skin/.venv/lib/python3.11/site-packages/keras/src/engine/data_adapter.py\", line 1064, in generator_fn\n    yield x[i]\n          ~^^^\n\n  File \"/Users/da.ma.ro/Documents/Capstone/capstone-healthy-skin/.venv/lib/python3.11/site-packages/keras/src/preprocessing/image.py\", line 116, in __getitem__\n    return self._get_batches_of_transformed_samples(index_array)\n           ^^^^^^^^^^^^^^^^^^^^^^^^^^^^^^^^^^^^^^^^^^^^^^^^^^^^^\n\n  File \"/Users/da.ma.ro/Documents/Capstone/capstone-healthy-skin/.venv/lib/python3.11/site-packages/keras/src/preprocessing/image.py\", line 370, in _get_batches_of_transformed_samples\n    img = image_utils.load_img(\n          ^^^^^^^^^^^^^^^^^^^^^\n\n  File \"/Users/da.ma.ro/Documents/Capstone/capstone-healthy-skin/.venv/lib/python3.11/site-packages/keras/src/utils/image_utils.py\", line 422, in load_img\n    with open(path, \"rb\") as f:\n         ^^^^^^^^^^^^^^^^\n\nFileNotFoundError: [Errno 2] No such file or directory: './../data/jpgs/aug_e0RklNISIC_0033001.jpg'\n\n\n\t [[{{node PyFunc}}]]\n\t [[IteratorGetNext]] [Op:__inference_train_function_89685]",
     "output_type": "error",
     "traceback": [
      "\u001b[0;31m---------------------------------------------------------------------------\u001b[0m",
      "\u001b[0;31mUnknownError\u001b[0m                              Traceback (most recent call last)",
      "\u001b[1;32m/Users/da.ma.ro/Documents/Capstone/capstone-healthy-skin/tensorflow/VGG16_cnn.ipynb Cell 15\u001b[0m line \u001b[0;36m3\n\u001b[1;32m      <a href='vscode-notebook-cell:/Users/da.ma.ro/Documents/Capstone/capstone-healthy-skin/tensorflow/VGG16_cnn.ipynb#X16sZmlsZQ%3D%3D?line=0'>1</a>\u001b[0m \u001b[39m# Train the model\u001b[39;00m\n\u001b[0;32m----> <a href='vscode-notebook-cell:/Users/da.ma.ro/Documents/Capstone/capstone-healthy-skin/tensorflow/VGG16_cnn.ipynb#X16sZmlsZQ%3D%3D?line=2'>3</a>\u001b[0m history \u001b[39m=\u001b[39m model\u001b[39m.\u001b[39;49mfit(\n\u001b[1;32m      <a href='vscode-notebook-cell:/Users/da.ma.ro/Documents/Capstone/capstone-healthy-skin/tensorflow/VGG16_cnn.ipynb#X16sZmlsZQ%3D%3D?line=3'>4</a>\u001b[0m     train_data_generator,\n\u001b[1;32m      <a href='vscode-notebook-cell:/Users/da.ma.ro/Documents/Capstone/capstone-healthy-skin/tensorflow/VGG16_cnn.ipynb#X16sZmlsZQ%3D%3D?line=4'>5</a>\u001b[0m     epochs\u001b[39m=\u001b[39;49mNUM_EPOCHS,              \n\u001b[1;32m      <a href='vscode-notebook-cell:/Users/da.ma.ro/Documents/Capstone/capstone-healthy-skin/tensorflow/VGG16_cnn.ipynb#X16sZmlsZQ%3D%3D?line=5'>6</a>\u001b[0m     verbose\u001b[39m=\u001b[39;49m\u001b[39m1\u001b[39;49m,                      \u001b[39m# Adjust verbosity level\u001b[39;49;00m\n\u001b[1;32m      <a href='vscode-notebook-cell:/Users/da.ma.ro/Documents/Capstone/capstone-healthy-skin/tensorflow/VGG16_cnn.ipynb#X16sZmlsZQ%3D%3D?line=6'>7</a>\u001b[0m     batch_size\u001b[39m=\u001b[39;49mBATCH_SIZE,                \u001b[39m# Set the batch size, default is 32, can be increased to speed up training\u001b[39;49;00m\n\u001b[1;32m      <a href='vscode-notebook-cell:/Users/da.ma.ro/Documents/Capstone/capstone-healthy-skin/tensorflow/VGG16_cnn.ipynb#X16sZmlsZQ%3D%3D?line=7'>8</a>\u001b[0m     callbacks\u001b[39m=\u001b[39;49m\u001b[39mNone\u001b[39;49;00m,                 \u001b[39m# List of callbacks to apply during training \u001b[39;49;00m\n\u001b[1;32m      <a href='vscode-notebook-cell:/Users/da.ma.ro/Documents/Capstone/capstone-healthy-skin/tensorflow/VGG16_cnn.ipynb#X16sZmlsZQ%3D%3D?line=8'>9</a>\u001b[0m     validation_split\u001b[39m=\u001b[39;49m\u001b[39m0.0\u001b[39;49m,           \u001b[39m# not needed as we use a validation data generator\u001b[39;49;00m\n\u001b[1;32m     <a href='vscode-notebook-cell:/Users/da.ma.ro/Documents/Capstone/capstone-healthy-skin/tensorflow/VGG16_cnn.ipynb#X16sZmlsZQ%3D%3D?line=9'>10</a>\u001b[0m     validation_data\u001b[39m=\u001b[39;49mvalidation_generator,\n\u001b[1;32m     <a href='vscode-notebook-cell:/Users/da.ma.ro/Documents/Capstone/capstone-healthy-skin/tensorflow/VGG16_cnn.ipynb#X16sZmlsZQ%3D%3D?line=10'>11</a>\u001b[0m     shuffle\u001b[39m=\u001b[39;49m\u001b[39mTrue\u001b[39;49;00m,                   \u001b[39m# Shuffle the training data before each epoch\u001b[39;49;00m\n\u001b[1;32m     <a href='vscode-notebook-cell:/Users/da.ma.ro/Documents/Capstone/capstone-healthy-skin/tensorflow/VGG16_cnn.ipynb#X16sZmlsZQ%3D%3D?line=11'>12</a>\u001b[0m     sample_weight\u001b[39m=\u001b[39;49m\u001b[39mNone\u001b[39;49;00m,             \u001b[39m# Set the weights for the train data set !\u001b[39;49;00m\n\u001b[1;32m     <a href='vscode-notebook-cell:/Users/da.ma.ro/Documents/Capstone/capstone-healthy-skin/tensorflow/VGG16_cnn.ipynb#X16sZmlsZQ%3D%3D?line=12'>13</a>\u001b[0m     class_weight\u001b[39m=\u001b[39;49m\u001b[39mNone\u001b[39;49;00m,              \u001b[39m# Set the weights for the classes, not needed if we use sample weights\u001b[39;49;00m\n\u001b[1;32m     <a href='vscode-notebook-cell:/Users/da.ma.ro/Documents/Capstone/capstone-healthy-skin/tensorflow/VGG16_cnn.ipynb#X16sZmlsZQ%3D%3D?line=13'>14</a>\u001b[0m     initial_epoch\u001b[39m=\u001b[39;49m\u001b[39m0\u001b[39;49m,                \u001b[39m# Use this to continue training from a specific epoch\u001b[39;49;00m\n\u001b[1;32m     <a href='vscode-notebook-cell:/Users/da.ma.ro/Documents/Capstone/capstone-healthy-skin/tensorflow/VGG16_cnn.ipynb#X16sZmlsZQ%3D%3D?line=14'>15</a>\u001b[0m     steps_per_epoch\u001b[39m=\u001b[39;49m\u001b[39mNone\u001b[39;49;00m,           \u001b[39m# Set the number of steps per epoch, default is len(x_train) // batch_size\u001b[39;49;00m\n\u001b[1;32m     <a href='vscode-notebook-cell:/Users/da.ma.ro/Documents/Capstone/capstone-healthy-skin/tensorflow/VGG16_cnn.ipynb#X16sZmlsZQ%3D%3D?line=15'>16</a>\u001b[0m     validation_steps\u001b[39m=\u001b[39;49m\u001b[39mNone\u001b[39;49;00m,          \u001b[39m# Set the number of steps for validation, default is len(x_val) // batch_size\u001b[39;49;00m\n\u001b[1;32m     <a href='vscode-notebook-cell:/Users/da.ma.ro/Documents/Capstone/capstone-healthy-skin/tensorflow/VGG16_cnn.ipynb#X16sZmlsZQ%3D%3D?line=16'>17</a>\u001b[0m     validation_batch_size\u001b[39m=\u001b[39;49m\u001b[39mNone\u001b[39;49;00m,     \u001b[39m# Set the batch size for validation, default is batch_size\u001b[39;49;00m\n\u001b[1;32m     <a href='vscode-notebook-cell:/Users/da.ma.ro/Documents/Capstone/capstone-healthy-skin/tensorflow/VGG16_cnn.ipynb#X16sZmlsZQ%3D%3D?line=17'>18</a>\u001b[0m     validation_freq\u001b[39m=\u001b[39;49m\u001b[39m1\u001b[39;49m,              \u001b[39m# Only relevant if validation data is a generator. Set the frequency to validate the model on the validation set\u001b[39;49;00m\n\u001b[1;32m     <a href='vscode-notebook-cell:/Users/da.ma.ro/Documents/Capstone/capstone-healthy-skin/tensorflow/VGG16_cnn.ipynb#X16sZmlsZQ%3D%3D?line=18'>19</a>\u001b[0m     max_queue_size\u001b[39m=\u001b[39;49m\u001b[39m10\u001b[39;49m,              \u001b[39m# Set the max size for the generator queue\u001b[39;49;00m\n\u001b[1;32m     <a href='vscode-notebook-cell:/Users/da.ma.ro/Documents/Capstone/capstone-healthy-skin/tensorflow/VGG16_cnn.ipynb#X16sZmlsZQ%3D%3D?line=19'>20</a>\u001b[0m     workers\u001b[39m=\u001b[39;49m\u001b[39m-\u001b[39;49m\u001b[39m1\u001b[39;49m,                     \u001b[39m# Set the max number of processes to generate the data in parallel, -1 means all CPUs\u001b[39;49;00m\n\u001b[1;32m     <a href='vscode-notebook-cell:/Users/da.ma.ro/Documents/Capstone/capstone-healthy-skin/tensorflow/VGG16_cnn.ipynb#X16sZmlsZQ%3D%3D?line=20'>21</a>\u001b[0m     use_multiprocessing\u001b[39m=\u001b[39;49m\u001b[39mFalse\u001b[39;49;00m       \u001b[39m# Set to True if you use a generator in parallel, e.g. model.predict_generator()\u001b[39;49;00m\n\u001b[1;32m     <a href='vscode-notebook-cell:/Users/da.ma.ro/Documents/Capstone/capstone-healthy-skin/tensorflow/VGG16_cnn.ipynb#X16sZmlsZQ%3D%3D?line=21'>22</a>\u001b[0m )\n",
      "File \u001b[0;32m~/Documents/Capstone/capstone-healthy-skin/.venv/lib/python3.11/site-packages/keras/src/utils/traceback_utils.py:70\u001b[0m, in \u001b[0;36mfilter_traceback.<locals>.error_handler\u001b[0;34m(*args, **kwargs)\u001b[0m\n\u001b[1;32m     67\u001b[0m     filtered_tb \u001b[39m=\u001b[39m _process_traceback_frames(e\u001b[39m.\u001b[39m__traceback__)\n\u001b[1;32m     68\u001b[0m     \u001b[39m# To get the full stack trace, call:\u001b[39;00m\n\u001b[1;32m     69\u001b[0m     \u001b[39m# `tf.debugging.disable_traceback_filtering()`\u001b[39;00m\n\u001b[0;32m---> 70\u001b[0m     \u001b[39mraise\u001b[39;00m e\u001b[39m.\u001b[39mwith_traceback(filtered_tb) \u001b[39mfrom\u001b[39;00m \u001b[39mNone\u001b[39;00m\n\u001b[1;32m     71\u001b[0m \u001b[39mfinally\u001b[39;00m:\n\u001b[1;32m     72\u001b[0m     \u001b[39mdel\u001b[39;00m filtered_tb\n",
      "File \u001b[0;32m~/Documents/Capstone/capstone-healthy-skin/.venv/lib/python3.11/site-packages/tensorflow/python/eager/execute.py:53\u001b[0m, in \u001b[0;36mquick_execute\u001b[0;34m(op_name, num_outputs, inputs, attrs, ctx, name)\u001b[0m\n\u001b[1;32m     51\u001b[0m \u001b[39mtry\u001b[39;00m:\n\u001b[1;32m     52\u001b[0m   ctx\u001b[39m.\u001b[39mensure_initialized()\n\u001b[0;32m---> 53\u001b[0m   tensors \u001b[39m=\u001b[39m pywrap_tfe\u001b[39m.\u001b[39mTFE_Py_Execute(ctx\u001b[39m.\u001b[39m_handle, device_name, op_name,\n\u001b[1;32m     54\u001b[0m                                       inputs, attrs, num_outputs)\n\u001b[1;32m     55\u001b[0m \u001b[39mexcept\u001b[39;00m core\u001b[39m.\u001b[39m_NotOkStatusException \u001b[39mas\u001b[39;00m e:\n\u001b[1;32m     56\u001b[0m   \u001b[39mif\u001b[39;00m name \u001b[39mis\u001b[39;00m \u001b[39mnot\u001b[39;00m \u001b[39mNone\u001b[39;00m:\n",
      "\u001b[0;31mUnknownError\u001b[0m: Graph execution error:\n\nFileNotFoundError: [Errno 2] No such file or directory: './../data/jpgs/aug_e0RklNISIC_0033001.jpg'\nTraceback (most recent call last):\n\n  File \"/Users/da.ma.ro/Documents/Capstone/capstone-healthy-skin/.venv/lib/python3.11/site-packages/tensorflow/python/ops/script_ops.py\", line 268, in __call__\n    ret = func(*args)\n          ^^^^^^^^^^^\n\n  File \"/Users/da.ma.ro/Documents/Capstone/capstone-healthy-skin/.venv/lib/python3.11/site-packages/tensorflow/python/autograph/impl/api.py\", line 643, in wrapper\n    return func(*args, **kwargs)\n           ^^^^^^^^^^^^^^^^^^^^^\n\n  File \"/Users/da.ma.ro/Documents/Capstone/capstone-healthy-skin/.venv/lib/python3.11/site-packages/tensorflow/python/data/ops/from_generator_op.py\", line 198, in generator_py_func\n    values = next(generator_state.get_iterator(iterator_id))\n             ^^^^^^^^^^^^^^^^^^^^^^^^^^^^^^^^^^^^^^^^^^^^^^^\n\n  File \"/Users/da.ma.ro/Documents/Capstone/capstone-healthy-skin/.venv/lib/python3.11/site-packages/keras/src/engine/data_adapter.py\", line 917, in wrapped_generator\n    for data in generator_fn():\n\n  File \"/Users/da.ma.ro/Documents/Capstone/capstone-healthy-skin/.venv/lib/python3.11/site-packages/keras/src/engine/data_adapter.py\", line 1064, in generator_fn\n    yield x[i]\n          ~^^^\n\n  File \"/Users/da.ma.ro/Documents/Capstone/capstone-healthy-skin/.venv/lib/python3.11/site-packages/keras/src/preprocessing/image.py\", line 116, in __getitem__\n    return self._get_batches_of_transformed_samples(index_array)\n           ^^^^^^^^^^^^^^^^^^^^^^^^^^^^^^^^^^^^^^^^^^^^^^^^^^^^^\n\n  File \"/Users/da.ma.ro/Documents/Capstone/capstone-healthy-skin/.venv/lib/python3.11/site-packages/keras/src/preprocessing/image.py\", line 370, in _get_batches_of_transformed_samples\n    img = image_utils.load_img(\n          ^^^^^^^^^^^^^^^^^^^^^\n\n  File \"/Users/da.ma.ro/Documents/Capstone/capstone-healthy-skin/.venv/lib/python3.11/site-packages/keras/src/utils/image_utils.py\", line 422, in load_img\n    with open(path, \"rb\") as f:\n         ^^^^^^^^^^^^^^^^\n\nFileNotFoundError: [Errno 2] No such file or directory: './../data/jpgs/aug_e0RklNISIC_0033001.jpg'\n\n\n\t [[{{node PyFunc}}]]\n\t [[IteratorGetNext]] [Op:__inference_train_function_89685]"
     ]
    }
   ],
   "source": [
    "# Train the model\n",
    "\n",
    "history = model.fit(\n",
    "    train_data_generator,\n",
    "    epochs=NUM_EPOCHS,              \n",
    "    verbose=1,                      # Adjust verbosity level\n",
    "    batch_size=BATCH_SIZE,                # Set the batch size, default is 32, can be increased to speed up training\n",
    "    callbacks=None,                 # List of callbacks to apply during training \n",
    "    validation_split=0.0,           # not needed as we use a validation data generator\n",
    "    validation_data=validation_generator,\n",
    "    shuffle=True,                   # Shuffle the training data before each epoch\n",
    "    sample_weight=None,             # Set the weights for the train data set !\n",
    "    class_weight=None,              # Set the weights for the classes, not needed if we use sample weights\n",
    "    initial_epoch=0,                # Use this to continue training from a specific epoch\n",
    "    steps_per_epoch=None,           # Set the number of steps per epoch, default is len(x_train) // batch_size\n",
    "    validation_steps=None,          # Set the number of steps for validation, default is len(x_val) // batch_size\n",
    "    validation_batch_size=None,     # Set the batch size for validation, default is batch_size\n",
    "    validation_freq=1,              # Only relevant if validation data is a generator. Set the frequency to validate the model on the validation set\n",
    "    max_queue_size=10,              # Set the max size for the generator queue\n",
    "    workers=-1,                     # Set the max number of processes to generate the data in parallel, -1 means all CPUs\n",
    "    use_multiprocessing=False       # Set to True if you use a generator in parallel, e.g. model.predict_generator()\n",
    ")"
   ]
  },
  {
   "cell_type": "markdown",
   "metadata": {},
   "source": [
    "## Plotting accuracy and loss of train and validation set"
   ]
  },
  {
   "cell_type": "code",
   "execution_count": null,
   "metadata": {},
   "outputs": [
    {
     "data": {
      "text/plain": [
       "<matplotlib.legend.Legend at 0x28b09d910>"
      ]
     },
     "execution_count": 79,
     "metadata": {},
     "output_type": "execute_result"
    },
    {
     "data": {
      "image/png": "[encoded data removed]",
      "text/plain": [
       "<Figure size 640x480 with 1 Axes>"
      ]
     },
     "metadata": {},
     "output_type": "display_data"
    }
   ],
   "source": [
    "# plot the loss functions \n",
    "plt.plot(history.history['loss'], label = 'loss')\n",
    "plt.plot(history.history['val_loss'], label = 'val_loss')\n",
    "plt.xlabel('Epoch')\n",
    "plt.ylabel('Loss')\n",
    "plt.ylim([0, 3])\n",
    "plt.legend(loc='lower right')"
   ]
  },
  {
   "cell_type": "code",
   "execution_count": null,
   "metadata": {},
   "outputs": [
    {
     "data": {
      "text/plain": [
       "<matplotlib.legend.Legend at 0x15e7a6c50>"
      ]
     },
     "execution_count": 80,
     "metadata": {},
     "output_type": "execute_result"
    },
    {
     "data": {
      "image/png": "[encoded data removed]",
      "text/plain": [
       "<Figure size 640x480 with 1 Axes>"
      ]
     },
     "metadata": {},
     "output_type": "display_data"
    }
   ],
   "source": [
    "# plot the loss functions \n",
    "plt.plot(history.history['accuracy'], label = 'accuracy')\n",
    "plt.plot(history.history['val_accuracy'], label = 'val_accuracy')\n",
    "plt.xlabel('Epoch')\n",
    "plt.ylabel('accuracy')\n",
    "plt.ylim([0, 1])\n",
    "plt.legend(loc='lower right')"
   ]
  },
  {
   "cell_type": "markdown",
   "metadata": {},
   "source": [
    "## Evaluating the model on the test set"
   ]
  },
  {
   "cell_type": "code",
   "execution_count": null,
   "metadata": {},
   "outputs": [
    {
     "name": "stdout",
     "output_type": "stream",
     "text": [
      "Found 2003 validated image filenames belonging to 7 classes.\n"
     ]
    }
   ],
   "source": [
    "#preprocess the test images into BGR format\n",
    "test_datagen = ImageDataGenerator(preprocessing_function=preprocess_input)\n",
    "\n",
    "test_generator = test_datagen.flow_from_dataframe(\n",
    "    dataframe=test_df,\n",
    "    directory=FILEPATH_JPGS,\n",
    "    x_col=\"image_id\",\n",
    "    y_col=TARGET_LABEL,\n",
    "    class_mode=\"categorical\",\n",
    "    target_size=IMAGE_SIZE,\n",
    "    batch_size=32\n",
    ")"
   ]
  },
  {
   "cell_type": "code",
   "execution_count": null,
   "metadata": {},
   "outputs": [
    {
     "name": "stdout",
     "output_type": "stream",
     "text": [
      "Evaluate on test data\n",
      "63/63 [==============================] - 258s 4s/step - loss: 20.0888 - accuracy: 0.4518\n",
      "test loss, test acc: [20.088777542114258, 0.45182228088378906]\n"
     ]
    }
   ],
   "source": [
    "# Evaluate the model on the test data using `evaluate`\n",
    "print(\"Evaluate on test data\")\n",
    "results = model.evaluate(test_generator, batch_size=32)\n",
    "print(\"test loss, test acc:\", results)\n",
    "\n",
    "\n"
   ]
  },
  {
   "cell_type": "code",
   "execution_count": null,
   "metadata": {},
   "outputs": [
    {
     "name": "stdout",
     "output_type": "stream",
     "text": [
      "63/63 - 255s - loss: 32.4261 - accuracy: 0.2851 - 255s/epoch - 4s/step\n"
     ]
    }
   ],
   "source": [
    "mh.model_accuracy_on_test(model, test_df, TARGET_LABEL, IMAGE_SIZE)"
   ]
  },
  {
   "cell_type": "markdown",
   "metadata": {},
   "source": [
    "## Saving the model"
   ]
  },
  {
   "cell_type": "code",
   "execution_count": null,
   "metadata": {},
   "outputs": [
    {
     "name": "stderr",
     "output_type": "stream",
     "text": [
      "/Users/da.ma.ro/Documents/Capstone/capstone-healthy-skin/.venv/lib/python3.11/site-packages/keras/src/engine/training.py:3000: UserWarning: You are saving your model as an HDF5 file via `model.save()`. This file format is considered legacy. We recommend using instead the native Keras format, e.g. `model.save('my_model.keras')`.\n",
      "  saving_api.save_model(\n"
     ]
    }
   ],
   "source": [
    "from datetime import datetime\n",
    "timestamp = datetime.now()\n",
    "model_path = f\"../models/model_{timestamp}.h5\"\n",
    "model.save(model_path)"
   ]
  }
 ],
 "metadata": {
  "kernelspec": {
   "display_name": ".venv",
   "language": "python",
   "name": "python3"
  },
  "language_info": {
   "codemirror_mode": {
    "name": "ipython",
    "version": 3
   },
   "file_extension": ".py",
   "mimetype": "text/x-python",
   "name": "python",
   "nbconvert_exporter": "python",
   "pygments_lexer": "ipython3",
   "version": "3.11.3"
  },
  "orig_nbformat": 4
 },
 "nbformat": 4,
 "nbformat_minor": 2
}
