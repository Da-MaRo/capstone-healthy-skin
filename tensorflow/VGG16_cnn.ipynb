{
 "cells": [
  {
   "cell_type": "markdown",
   "metadata": {},
   "source": [
    "# CNN Model VGG16"
   ]
  },
  {
   "cell_type": "markdown",
   "metadata": {},
   "source": [
    "## Imports and inital setup"
   ]
  },
  {
   "cell_type": "code",
   "execution_count": 54,
   "metadata": {},
   "outputs": [],
   "source": [
    "# Imports\n",
    "import pandas as pd\n",
    "import tensorflow as tf\n",
    "import matplotlib.pyplot as plt\n",
    "\n",
    "from tensorflow.keras.preprocessing.image import ImageDataGenerator\n",
    "from tensorflow.keras.applications.vgg16 import VGG16\n",
    "from tensorflow.keras.applications.vgg16 import preprocess_input\n",
    "import sys\n",
    "\n",
    "sys.path.append(\"..\")\n",
    "from helperfunctions import modelhelper as mh\n",
    "\n",
    "SEED = 42\n",
    "NUM_EPOCHS = 10\n",
    "BATCH_SIZE = 32\n",
    "\n",
    "# File path variables\n",
    "# please make sure to use the correct path to the meta data file\n",
    "\n",
    "FILEPATH_JPGS = './../data/jpgs/'\n",
    "FILEPATH_PROCESSED=\"./../data/processed/\"\n",
    "FILEPATH_OUTPUT = './../data/jpgs/'  # Replace with your folder path\n",
    "\n",
    "TARGET_LABEL=\"dx\"\n",
    "BALANCE_LABEL=\"dx\"\n",
    "IMAGE_SIZE = (224, 224)"
   ]
  },
  {
   "cell_type": "markdown",
   "metadata": {},
   "source": [
    "### Loading (augmented) metadata as test, train, validation from files"
   ]
  },
  {
   "cell_type": "code",
   "execution_count": 55,
   "metadata": {},
   "outputs": [
    {
     "data": {
      "text/html": [
       "<div>\n",
       "<style scoped>\n",
       "    .dataframe tbody tr th:only-of-type {\n",
       "        vertical-align: middle;\n",
       "    }\n",
       "\n",
       "    .dataframe tbody tr th {\n",
       "        vertical-align: top;\n",
       "    }\n",
       "\n",
       "    .dataframe thead th {\n",
       "        text-align: right;\n",
       "    }\n",
       "</style>\n",
       "<table border=\"1\" class=\"dataframe\">\n",
       "  <thead>\n",
       "    <tr style=\"text-align: right;\">\n",
       "      <th></th>\n",
       "      <th>lesion_id</th>\n",
       "      <th>image_id</th>\n",
       "      <th>dx</th>\n",
       "      <th>dx_type</th>\n",
       "      <th>age</th>\n",
       "      <th>sex</th>\n",
       "      <th>localization</th>\n",
       "      <th>dataset</th>\n",
       "      <th>dx_binary</th>\n",
       "      <th>image_path</th>\n",
       "    </tr>\n",
       "  </thead>\n",
       "  <tbody>\n",
       "    <tr>\n",
       "      <th>5505</th>\n",
       "      <td>HAM_0001772</td>\n",
       "      <td>ISIC_0033270.jpg</td>\n",
       "      <td>bkl</td>\n",
       "      <td>consensus</td>\n",
       "      <td>85.0</td>\n",
       "      <td>male</td>\n",
       "      <td>back</td>\n",
       "      <td>vidir_modern</td>\n",
       "      <td>not_skin_cancer</td>\n",
       "      <td>./../data/jpgs/ISIC_0033270.jpg</td>\n",
       "    </tr>\n",
       "    <tr>\n",
       "      <th>6240</th>\n",
       "      <td>HAM_0001785</td>\n",
       "      <td>aug_TY3DXJISIC_0034169.jpg</td>\n",
       "      <td>df</td>\n",
       "      <td>histo</td>\n",
       "      <td>50.0</td>\n",
       "      <td>male</td>\n",
       "      <td>upper extremity</td>\n",
       "      <td>vidir_modern</td>\n",
       "      <td>not_skin_cancer</td>\n",
       "      <td>./../data/jpgs/aug_TY3DXJISIC_0034169.jpg</td>\n",
       "    </tr>\n",
       "    <tr>\n",
       "      <th>3215</th>\n",
       "      <td>HAM_0004592</td>\n",
       "      <td>aug_p5ZEVnISIC_0029141.jpg</td>\n",
       "      <td>akiec</td>\n",
       "      <td>histo</td>\n",
       "      <td>60.0</td>\n",
       "      <td>female</td>\n",
       "      <td>face</td>\n",
       "      <td>rosendahl</td>\n",
       "      <td>skin_cancer</td>\n",
       "      <td>./../data/jpgs/aug_p5ZEVnISIC_0029141.jpg</td>\n",
       "    </tr>\n",
       "    <tr>\n",
       "      <th>5388</th>\n",
       "      <td>HAM_0001781</td>\n",
       "      <td>ISIC_0025515.jpg</td>\n",
       "      <td>bkl</td>\n",
       "      <td>consensus</td>\n",
       "      <td>30.0</td>\n",
       "      <td>female</td>\n",
       "      <td>back</td>\n",
       "      <td>vidir_modern</td>\n",
       "      <td>not_skin_cancer</td>\n",
       "      <td>./../data/jpgs/ISIC_0025515.jpg</td>\n",
       "    </tr>\n",
       "    <tr>\n",
       "      <th>4070</th>\n",
       "      <td>HAM_0004542</td>\n",
       "      <td>ISIC_0027256.jpg</td>\n",
       "      <td>vasc</td>\n",
       "      <td>consensus</td>\n",
       "      <td>0.0</td>\n",
       "      <td>female</td>\n",
       "      <td>back</td>\n",
       "      <td>vidir_modern</td>\n",
       "      <td>not_skin_cancer</td>\n",
       "      <td>./../data/jpgs/ISIC_0027256.jpg</td>\n",
       "    </tr>\n",
       "    <tr>\n",
       "      <th>4678</th>\n",
       "      <td>HAM_0000934</td>\n",
       "      <td>aug_autOu2ISIC_0031706.jpg</td>\n",
       "      <td>vasc</td>\n",
       "      <td>consensus</td>\n",
       "      <td>60.0</td>\n",
       "      <td>male</td>\n",
       "      <td>trunk</td>\n",
       "      <td>vidir_molemax</td>\n",
       "      <td>not_skin_cancer</td>\n",
       "      <td>./../data/jpgs/aug_autOu2ISIC_0031706.jpg</td>\n",
       "    </tr>\n",
       "    <tr>\n",
       "      <th>3085</th>\n",
       "      <td>HAM_0000688</td>\n",
       "      <td>ISIC_0026720.jpg</td>\n",
       "      <td>akiec</td>\n",
       "      <td>histo</td>\n",
       "      <td>75.0</td>\n",
       "      <td>male</td>\n",
       "      <td>lower extremity</td>\n",
       "      <td>rosendahl</td>\n",
       "      <td>skin_cancer</td>\n",
       "      <td>./../data/jpgs/ISIC_0026720.jpg</td>\n",
       "    </tr>\n",
       "    <tr>\n",
       "      <th>6482</th>\n",
       "      <td>HAM_0004103</td>\n",
       "      <td>aug_UbXJUJISIC_0031309.jpg</td>\n",
       "      <td>df</td>\n",
       "      <td>histo</td>\n",
       "      <td>55.0</td>\n",
       "      <td>male</td>\n",
       "      <td>lower extremity</td>\n",
       "      <td>vidir_modern</td>\n",
       "      <td>not_skin_cancer</td>\n",
       "      <td>./../data/jpgs/aug_UbXJUJISIC_0031309.jpg</td>\n",
       "    </tr>\n",
       "    <tr>\n",
       "      <th>6470</th>\n",
       "      <td>HAM_0004371</td>\n",
       "      <td>aug_94xU3TISIC_0027626.jpg</td>\n",
       "      <td>df</td>\n",
       "      <td>histo</td>\n",
       "      <td>45.0</td>\n",
       "      <td>female</td>\n",
       "      <td>upper extremity</td>\n",
       "      <td>rosendahl</td>\n",
       "      <td>not_skin_cancer</td>\n",
       "      <td>./../data/jpgs/aug_94xU3TISIC_0027626.jpg</td>\n",
       "    </tr>\n",
       "    <tr>\n",
       "      <th>1816</th>\n",
       "      <td>HAM_0002744</td>\n",
       "      <td>aug_XYfSDhISIC_0031236.jpg</td>\n",
       "      <td>bcc</td>\n",
       "      <td>histo</td>\n",
       "      <td>45.0</td>\n",
       "      <td>female</td>\n",
       "      <td>upper extremity</td>\n",
       "      <td>rosendahl</td>\n",
       "      <td>skin_cancer</td>\n",
       "      <td>./../data/jpgs/aug_XYfSDhISIC_0031236.jpg</td>\n",
       "    </tr>\n",
       "    <tr>\n",
       "      <th>497</th>\n",
       "      <td>HAM_0004269</td>\n",
       "      <td>ISIC_0025003.jpg</td>\n",
       "      <td>nv</td>\n",
       "      <td>follow_up</td>\n",
       "      <td>50.0</td>\n",
       "      <td>female</td>\n",
       "      <td>lower extremity</td>\n",
       "      <td>vidir_molemax</td>\n",
       "      <td>not_skin_cancer</td>\n",
       "      <td>./../data/jpgs/ISIC_0025003.jpg</td>\n",
       "    </tr>\n",
       "    <tr>\n",
       "      <th>1030</th>\n",
       "      <td>HAM_0004711</td>\n",
       "      <td>ISIC_0029831.jpg</td>\n",
       "      <td>bcc</td>\n",
       "      <td>histo</td>\n",
       "      <td>85.0</td>\n",
       "      <td>male</td>\n",
       "      <td>upper extremity</td>\n",
       "      <td>rosendahl</td>\n",
       "      <td>skin_cancer</td>\n",
       "      <td>./../data/jpgs/ISIC_0029831.jpg</td>\n",
       "    </tr>\n",
       "    <tr>\n",
       "      <th>5268</th>\n",
       "      <td>HAM_0007431</td>\n",
       "      <td>ISIC_0031620.jpg</td>\n",
       "      <td>bkl</td>\n",
       "      <td>histo</td>\n",
       "      <td>50.0</td>\n",
       "      <td>male</td>\n",
       "      <td>face</td>\n",
       "      <td>rosendahl</td>\n",
       "      <td>not_skin_cancer</td>\n",
       "      <td>./../data/jpgs/ISIC_0031620.jpg</td>\n",
       "    </tr>\n",
       "    <tr>\n",
       "      <th>3160</th>\n",
       "      <td>HAM_0004609</td>\n",
       "      <td>ISIC_0030785.jpg</td>\n",
       "      <td>akiec</td>\n",
       "      <td>histo</td>\n",
       "      <td>75.0</td>\n",
       "      <td>male</td>\n",
       "      <td>back</td>\n",
       "      <td>rosendahl</td>\n",
       "      <td>skin_cancer</td>\n",
       "      <td>./../data/jpgs/ISIC_0030785.jpg</td>\n",
       "    </tr>\n",
       "    <tr>\n",
       "      <th>3748</th>\n",
       "      <td>HAM_0004439</td>\n",
       "      <td>aug_rvbN9tISIC_0030986.jpg</td>\n",
       "      <td>akiec</td>\n",
       "      <td>histo</td>\n",
       "      <td>55.0</td>\n",
       "      <td>female</td>\n",
       "      <td>face</td>\n",
       "      <td>rosendahl</td>\n",
       "      <td>skin_cancer</td>\n",
       "      <td>./../data/jpgs/aug_rvbN9tISIC_0030986.jpg</td>\n",
       "    </tr>\n",
       "  </tbody>\n",
       "</table>\n",
       "</div>"
      ],
      "text/plain": [
       "        lesion_id                    image_id     dx    dx_type   age     sex   \n",
       "5505  HAM_0001772            ISIC_0033270.jpg    bkl  consensus  85.0    male  \\\n",
       "6240  HAM_0001785  aug_TY3DXJISIC_0034169.jpg     df      histo  50.0    male   \n",
       "3215  HAM_0004592  aug_p5ZEVnISIC_0029141.jpg  akiec      histo  60.0  female   \n",
       "5388  HAM_0001781            ISIC_0025515.jpg    bkl  consensus  30.0  female   \n",
       "4070  HAM_0004542            ISIC_0027256.jpg   vasc  consensus   0.0  female   \n",
       "4678  HAM_0000934  aug_autOu2ISIC_0031706.jpg   vasc  consensus  60.0    male   \n",
       "3085  HAM_0000688            ISIC_0026720.jpg  akiec      histo  75.0    male   \n",
       "6482  HAM_0004103  aug_UbXJUJISIC_0031309.jpg     df      histo  55.0    male   \n",
       "6470  HAM_0004371  aug_94xU3TISIC_0027626.jpg     df      histo  45.0  female   \n",
       "1816  HAM_0002744  aug_XYfSDhISIC_0031236.jpg    bcc      histo  45.0  female   \n",
       "497   HAM_0004269            ISIC_0025003.jpg     nv  follow_up  50.0  female   \n",
       "1030  HAM_0004711            ISIC_0029831.jpg    bcc      histo  85.0    male   \n",
       "5268  HAM_0007431            ISIC_0031620.jpg    bkl      histo  50.0    male   \n",
       "3160  HAM_0004609            ISIC_0030785.jpg  akiec      histo  75.0    male   \n",
       "3748  HAM_0004439  aug_rvbN9tISIC_0030986.jpg  akiec      histo  55.0  female   \n",
       "\n",
       "         localization        dataset        dx_binary   \n",
       "5505             back   vidir_modern  not_skin_cancer  \\\n",
       "6240  upper extremity   vidir_modern  not_skin_cancer   \n",
       "3215             face      rosendahl      skin_cancer   \n",
       "5388             back   vidir_modern  not_skin_cancer   \n",
       "4070             back   vidir_modern  not_skin_cancer   \n",
       "4678            trunk  vidir_molemax  not_skin_cancer   \n",
       "3085  lower extremity      rosendahl      skin_cancer   \n",
       "6482  lower extremity   vidir_modern  not_skin_cancer   \n",
       "6470  upper extremity      rosendahl  not_skin_cancer   \n",
       "1816  upper extremity      rosendahl      skin_cancer   \n",
       "497   lower extremity  vidir_molemax  not_skin_cancer   \n",
       "1030  upper extremity      rosendahl      skin_cancer   \n",
       "5268             face      rosendahl  not_skin_cancer   \n",
       "3160             back      rosendahl      skin_cancer   \n",
       "3748             face      rosendahl      skin_cancer   \n",
       "\n",
       "                                     image_path  \n",
       "5505            ./../data/jpgs/ISIC_0033270.jpg  \n",
       "6240  ./../data/jpgs/aug_TY3DXJISIC_0034169.jpg  \n",
       "3215  ./../data/jpgs/aug_p5ZEVnISIC_0029141.jpg  \n",
       "5388            ./../data/jpgs/ISIC_0025515.jpg  \n",
       "4070            ./../data/jpgs/ISIC_0027256.jpg  \n",
       "4678  ./../data/jpgs/aug_autOu2ISIC_0031706.jpg  \n",
       "3085            ./../data/jpgs/ISIC_0026720.jpg  \n",
       "6482  ./../data/jpgs/aug_UbXJUJISIC_0031309.jpg  \n",
       "6470  ./../data/jpgs/aug_94xU3TISIC_0027626.jpg  \n",
       "1816  ./../data/jpgs/aug_XYfSDhISIC_0031236.jpg  \n",
       "497             ./../data/jpgs/ISIC_0025003.jpg  \n",
       "1030            ./../data/jpgs/ISIC_0029831.jpg  \n",
       "5268            ./../data/jpgs/ISIC_0031620.jpg  \n",
       "3160            ./../data/jpgs/ISIC_0030785.jpg  \n",
       "3748  ./../data/jpgs/aug_rvbN9tISIC_0030986.jpg  "
      ]
     },
     "execution_count": 55,
     "metadata": {},
     "output_type": "execute_result"
    }
   ],
   "source": [
    "# Read the metadata file\n",
    "train_df = pd.read_csv(FILEPATH_PROCESSED+\"train_from_Metadata_processed.csv\")\n",
    "validation_df = pd.read_csv(FILEPATH_PROCESSED+\"validation_from_Metadata_processed.csv\")\n",
    "test_df = pd.read_csv(FILEPATH_PROCESSED+\"test_from_Metadata_processed.csv\")\n",
    "\n",
    "train_df.sample(15)"
   ]
  },
  {
   "cell_type": "markdown",
   "metadata": {},
   "source": [
    "## Setting up the image data generator for training and validation"
   ]
  },
  {
   "cell_type": "markdown",
   "metadata": {},
   "source": [
    "Note: each Keras Application expects a specific kind of input preprocessing. For VGG16, call tf.keras.applications.vgg16.preprocess_input on your inputs before passing them to the model. vgg16.preprocess_input will convert the input images from RGB to BGR, then will zero-center each color channel with respect to the ImageNet dataset, without scaling"
   ]
  },
  {
   "cell_type": "code",
   "execution_count": 56,
   "metadata": {},
   "outputs": [
    {
     "name": "stdout",
     "output_type": "stream",
     "text": [
      "Found 2003 validated image filenames belonging to 7 classes.\n",
      "Found 7006 validated image filenames belonging to 7 classes.\n"
     ]
    }
   ],
   "source": [
    "# Setting up the Image Data Generator for the train data set - including augmentation\n",
    "\n",
    "\n",
    "datagen_train = ImageDataGenerator(\n",
    "    rescale=1.0 / 255.0,  # Rescale pixel values to [0, 1], important for CNNs to perform better, deactivate to see images down below\n",
    "    preprocessing_function=preprocess_input,  # VGG16 specific preprocessing\n",
    ")\n",
    "\n",
    "datagen_validation = ImageDataGenerator(\n",
    "    rescale=1.0 / 255.0, #see above\n",
    "    preprocessing_function=preprocess_input,  # VGG16 specific preprocessing\n",
    ")\n",
    "\n",
    "validation_generator = datagen_validation.flow_from_dataframe(\n",
    "    dataframe=validation_df,\n",
    "    directory=FILEPATH_JPGS,\n",
    "    x_col=\"image_id\",\n",
    "    y_col=TARGET_LABEL,\n",
    "    class_mode=\"categorical\",\n",
    "    target_size=IMAGE_SIZE,\n",
    "    batch_size=32\n",
    ")\n",
    "\n",
    "train_data_generator = datagen_train.flow_from_dataframe(\n",
    "        dataframe=train_df,\n",
    "        directory=FILEPATH_JPGS,\n",
    "        x_col=\"image_id\",\n",
    "        y_col=TARGET_LABEL,\n",
    "        class_mode=\"categorical\",\n",
    "        target_size=IMAGE_SIZE,\n",
    "        batch_size=32\n",
    ")"
   ]
  },
  {
   "cell_type": "markdown",
   "metadata": {},
   "source": [
    "# Adding an neural network model to test the data"
   ]
  },
  {
   "cell_type": "markdown",
   "metadata": {},
   "source": [
    "## VGG16 Model\n",
    "The VGG16 is a pre-trained Convolutional Neural Network (CNN) model proposed by K. Simonyan and A. Zisserman from the University of Oxford's Visual Geometry Group Lab. The model was proposed in their 2014 paper \"Very Deep Convolutional Networks for Large-Scale Image Recognition\" and won the 1st and 2nd places in the ImageNet Large Scale Visual Recognition Challenge (ILSVRC) in 2014 geeksforgeeks.org. It is considered one of the best vision model architectures to date due to its simplicity and high performance builtin.com.\n",
    "\n",
    "[Source:Tensorflow Applications](https://www.tensorflow.org/api_docs/python/tf/keras/applications/vgg16/VGG16)\n",
    "\n",
    "Architecture:\n",
    "\n",
    "*Input:*\n",
    "\n",
    "Conv 1-1,\n",
    "Conv 1-2,\n",
    "Pooling\n",
    "\n",
    "Conv 2-1,\n",
    "Conv 2-2,\n",
    "Pooling\n",
    "\n",
    "Conv 3-1,\n",
    "Conv 3-2,\n",
    "Conv 3-3,\n",
    "Pooling\n",
    "\n",
    "Conv 4-1,\n",
    "Conv 4-2,\n",
    "Conv 4-3,\n",
    "Pooling\n",
    "\n",
    "Conv 5-1,\n",
    "Conv 5-2,\n",
    "Conv 5-3,\n",
    "Pooling\n",
    "\n",
    "Dense,\n",
    "Dense,\n",
    "Dense\n",
    "\n",
    "*Output*\n"
   ]
  },
  {
   "cell_type": "code",
   "execution_count": 57,
   "metadata": {},
   "outputs": [],
   "source": [
    "from tensorflow.keras.applications import VGG16\n",
    "from tensorflow.keras.layers import Input, Conv2D, Flatten, Dense\n",
    "from tensorflow.keras.models import Model\n",
    "\n",
    "# Load the pre-trained VGG16 model\n",
    "vgg16_model = VGG16(weights='imagenet', include_top=False, input_shape=(224, 224, 3))\n",
    "# Freeze the VGG16 model\n",
    "vgg16_model.trainable = False\n",
    "# Add custom layers on top of VGG16\n",
    "x = Conv2D(64, (3, 3), activation='relu')(vgg16_model.output)\n",
    "x = Flatten()(x)\n",
    "x = Dense(128, activation='relu')(x)\n",
    "x = Dense(7, activation='softmax')(x)  # Replace num_classes with your number of classes\n",
    "\n",
    "# Create the combined model\n",
    "model = Model(inputs=vgg16_model.input, outputs=x)\n",
    "\n",
    "\n"
   ]
  },
  {
   "cell_type": "markdown",
   "metadata": {},
   "source": [
    "loading the VGG16 model\n",
    "from matplotlib.dates import drange\n",
    "\n",
    "\n",
    "vgg16_model = VGG16(\n",
    "    include_top=False, # do not include the top layer, we will add our own\n",
    "    weights= \"imagenet\", # use the weights that the model was trained on\n",
    "    input_shape=(IMAGE_SIZE[0], IMAGE_SIZE[1], 3), # the input shape of the images (3 channels, width, height)\n",
    "    pooling=\"max\", # the type of pooling to use when we add the top layer (average pooling)\n",
    ")\n",
    "\n",
    "# Add custom layers on top of VGG16\n",
    "x = Conv2D(64, (3, 3), activation='relu')(base_model.output)\n",
    "x = Flatten()(x)\n",
    "x = Dense(128, activation='relu')(x)\n",
    "x = Dense(, activation='softmax')(x)"
   ]
  },
  {
   "cell_type": "code",
   "execution_count": 58,
   "metadata": {},
   "outputs": [
    {
     "name": "stdout",
     "output_type": "stream",
     "text": [
      "Model: \"model_1\"\n",
      "_________________________________________________________________\n",
      " Layer (type)                Output Shape              Param #   \n",
      "=================================================================\n",
      " input_6 (InputLayer)        [(None, 224, 224, 3)]     0         \n",
      "                                                                 \n",
      " block1_conv1 (Conv2D)       (None, 224, 224, 64)      1792      \n",
      "                                                                 \n",
      " block1_conv2 (Conv2D)       (None, 224, 224, 64)      36928     \n",
      "                                                                 \n",
      " block1_pool (MaxPooling2D)  (None, 112, 112, 64)      0         \n",
      "                                                                 \n",
      " block2_conv1 (Conv2D)       (None, 112, 112, 128)     73856     \n",
      "                                                                 \n",
      " block2_conv2 (Conv2D)       (None, 112, 112, 128)     147584    \n",
      "                                                                 \n",
      " block2_pool (MaxPooling2D)  (None, 56, 56, 128)       0         \n",
      "                                                                 \n",
      " block3_conv1 (Conv2D)       (None, 56, 56, 256)       295168    \n",
      "                                                                 \n",
      " block3_conv2 (Conv2D)       (None, 56, 56, 256)       590080    \n",
      "                                                                 \n",
      " block3_conv3 (Conv2D)       (None, 56, 56, 256)       590080    \n",
      "                                                                 \n",
      " block3_pool (MaxPooling2D)  (None, 28, 28, 256)       0         \n",
      "                                                                 \n",
      " block4_conv1 (Conv2D)       (None, 28, 28, 512)       1180160   \n",
      "                                                                 \n",
      " block4_conv2 (Conv2D)       (None, 28, 28, 512)       2359808   \n",
      "                                                                 \n",
      " block4_conv3 (Conv2D)       (None, 28, 28, 512)       2359808   \n",
      "                                                                 \n",
      " block4_pool (MaxPooling2D)  (None, 14, 14, 512)       0         \n",
      "                                                                 \n",
      " block5_conv1 (Conv2D)       (None, 14, 14, 512)       2359808   \n",
      "                                                                 \n",
      " block5_conv2 (Conv2D)       (None, 14, 14, 512)       2359808   \n",
      "                                                                 \n",
      " block5_conv3 (Conv2D)       (None, 14, 14, 512)       2359808   \n",
      "                                                                 \n",
      " block5_pool (MaxPooling2D)  (None, 7, 7, 512)         0         \n",
      "                                                                 \n",
      " conv2d_2 (Conv2D)           (None, 5, 5, 64)          294976    \n",
      "                                                                 \n",
      " flatten_4 (Flatten)         (None, 1600)              0         \n",
      "                                                                 \n",
      " dense_11 (Dense)            (None, 128)               204928    \n",
      "                                                                 \n",
      " dense_12 (Dense)            (None, 7)                 903       \n",
      "                                                                 \n",
      "=================================================================\n",
      "Total params: 15215495 (58.04 MB)\n",
      "Trainable params: 500807 (1.91 MB)\n",
      "Non-trainable params: 14714688 (56.13 MB)\n",
      "_________________________________________________________________\n"
     ]
    }
   ],
   "source": [
    "\n",
    "from tensorflow.keras.optimizers import SGD\n",
    "\n",
    "opt = tf.keras.optimizers.legacy.SGD(learning_rate=0.001, momentum=0.9)\n",
    "\n",
    "# compile your model with the optimizer\n",
    "model.compile(loss='categorical_crossentropy', optimizer=opt, metrics=['accuracy'])\n",
    "\n",
    "# Summary of the model architecture\n",
    "model.summary()"
   ]
  },
  {
   "cell_type": "markdown",
   "metadata": {},
   "source": [
    "## Model Training"
   ]
  },
  {
   "cell_type": "code",
   "execution_count": 59,
   "metadata": {},
   "outputs": [
    {
     "name": "stdout",
     "output_type": "stream",
     "text": [
      "Epoch 1/10\n",
      "219/219 [==============================] - 1486s 7s/step - loss: 1.7565 - accuracy: 0.2888 - val_loss: 1.6167 - val_accuracy: 0.3824\n",
      "Epoch 2/10\n",
      "219/219 [==============================] - 1383s 6s/step - loss: 1.5401 - accuracy: 0.4059 - val_loss: 1.8116 - val_accuracy: 0.2386\n",
      "Epoch 3/10\n",
      "219/219 [==============================] - 1404s 6s/step - loss: 1.3969 - accuracy: 0.4733 - val_loss: 1.4956 - val_accuracy: 0.4134\n",
      "Epoch 4/10\n",
      "219/219 [==============================] - 1238s 6s/step - loss: 1.3084 - accuracy: 0.4997 - val_loss: 1.1740 - val_accuracy: 0.5836\n",
      "Epoch 5/10\n",
      "219/219 [==============================] - 1219s 6s/step - loss: 1.2143 - accuracy: 0.5415 - val_loss: 1.3928 - val_accuracy: 0.4668\n",
      "Epoch 6/10\n",
      "219/219 [==============================] - 1257s 6s/step - loss: 1.1717 - accuracy: 0.5617 - val_loss: 1.1202 - val_accuracy: 0.5771\n",
      "Epoch 7/10\n",
      "219/219 [==============================] - 1290s 6s/step - loss: 1.1034 - accuracy: 0.5869 - val_loss: 1.0586 - val_accuracy: 0.6206\n",
      "Epoch 8/10\n",
      "219/219 [==============================] - 1356s 6s/step - loss: 1.0572 - accuracy: 0.6072 - val_loss: 1.0829 - val_accuracy: 0.5946\n",
      "Epoch 9/10\n",
      "179/219 [=======================>......] - ETA: 3:14 - loss: 1.0254 - accuracy: 0.6151"
     ]
    }
   ],
   "source": [
    "# Train the model\n",
    "\n",
    "history = model.fit(\n",
    "    train_data_generator,\n",
    "    epochs=NUM_EPOCHS,              \n",
    "    verbose=1,                      # Adjust verbosity level\n",
    "    batch_size=BATCH_SIZE,                # Set the batch size, default is 32, can be increased to speed up training\n",
    "    callbacks=None,                 # List of callbacks to apply during training \n",
    "    validation_split=0.0,           # not needed as we use a validation data generator\n",
    "    validation_data=validation_generator,\n",
    "    shuffle=True,                   # Shuffle the training data before each epoch\n",
    "    sample_weight=None,             # Set the weights for the train data set !\n",
    "    class_weight=None,              # Set the weights for the classes, not needed if we use sample weights\n",
    "    initial_epoch=0,                # Use this to continue training from a specific epoch\n",
    "    steps_per_epoch=None,           # Set the number of steps per epoch, default is len(x_train) // batch_size\n",
    "    validation_steps=None,          # Set the number of steps for validation, default is len(x_val) // batch_size\n",
    "    validation_batch_size=None,     # Set the batch size for validation, default is batch_size\n",
    "    validation_freq=1,              # Only relevant if validation data is a generator. Set the frequency to validate the model on the validation set\n",
    "    max_queue_size=10,              # Set the max size for the generator queue\n",
    "    workers=-1,                     # Set the max number of processes to generate the data in parallel, -1 means all CPUs\n",
    "    use_multiprocessing=False       # Set to True if you use a generator in parallel, e.g. model.predict_generator()\n",
    ")"
   ]
  },
  {
   "cell_type": "markdown",
   "metadata": {},
   "source": [
    "## Plotting accuracy and loss of train and validation set"
   ]
  },
  {
   "cell_type": "code",
   "execution_count": null,
   "metadata": {},
   "outputs": [
    {
     "data": {
      "text/plain": [
       "<matplotlib.legend.Legend at 0x2979d1d10>"
      ]
     },
     "execution_count": 49,
     "metadata": {},
     "output_type": "execute_result"
    },
    {
     "data": {
      "image/png": "[encoded data removed]",
      "text/plain": [
       "<Figure size 640x480 with 1 Axes>"
      ]
     },
     "metadata": {},
     "output_type": "display_data"
    }
   ],
   "source": [
    "# plot the loss functions \n",
    "plt.plot(history.history['loss'], label = 'loss')\n",
    "plt.plot(history.history['val_loss'], label = 'val_loss')\n",
    "plt.xlabel('Epoch')\n",
    "plt.ylabel('Loss')\n",
    "plt.ylim([0, 3])\n",
    "plt.legend(loc='lower right')"
   ]
  },
  {
   "cell_type": "code",
   "execution_count": null,
   "metadata": {},
   "outputs": [
    {
     "data": {
      "text/plain": [
       "<matplotlib.legend.Legend at 0x291588ed0>"
      ]
     },
     "execution_count": 52,
     "metadata": {},
     "output_type": "execute_result"
    },
    {
     "data": {
      "image/png": "[encoded data removed]",
      "text/plain": [
       "<Figure size 640x480 with 1 Axes>"
      ]
     },
     "metadata": {},
     "output_type": "display_data"
    }
   ],
   "source": [
    "# plot the loss functions \n",
    "plt.plot(history.history['accuracy'], label = 'accuracy')\n",
    "plt.plot(history.history['val_accuracy'], label = 'val_accuracy')\n",
    "plt.xlabel('Epoch')\n",
    "plt.ylabel('accuracy')\n",
    "plt.ylim([0, 1])\n",
    "plt.legend(loc='lower right')"
   ]
  },
  {
   "cell_type": "markdown",
   "metadata": {},
   "source": [
    "## Evaluating the model on the test set"
   ]
  },
  {
   "cell_type": "code",
   "execution_count": null,
   "metadata": {},
   "outputs": [
    {
     "name": "stdout",
     "output_type": "stream",
     "text": [
      "63/63 - 309s - loss: 7.6763 - accuracy: 0.2661 - 309s/epoch - 5s/step\n"
     ]
    }
   ],
   "source": [
    "mh.model_accuracy_on_test(model, test_df, TARGET_LABEL, IMAGE_SIZE)"
   ]
  },
  {
   "cell_type": "markdown",
   "metadata": {},
   "source": [
    "## Saving the model"
   ]
  },
  {
   "cell_type": "code",
   "execution_count": null,
   "metadata": {},
   "outputs": [
    {
     "name": "stderr",
     "output_type": "stream",
     "text": [
      "/Users/da.ma.ro/Documents/Capstone/capstone-healthy-skin/.venv/lib/python3.11/site-packages/keras/src/engine/training.py:3000: UserWarning: You are saving your model as an HDF5 file via `model.save()`. This file format is considered legacy. We recommend using instead the native Keras format, e.g. `model.save('my_model.keras')`.\n",
      "  saving_api.save_model(\n"
     ]
    }
   ],
   "source": [
    "from datetime import datetime\n",
    "timestamp = datetime.now()\n",
    "model_path = f\"../models/model_{timestamp}.h5\"\n",
    "model.save(model_path)"
   ]
  }
 ],
 "metadata": {
  "kernelspec": {
   "display_name": ".venv",
   "language": "python",
   "name": "python3"
  },
  "language_info": {
   "codemirror_mode": {
    "name": "ipython",
    "version": 3
   },
   "file_extension": ".py",
   "mimetype": "text/x-python",
   "name": "python",
   "nbconvert_exporter": "python",
   "pygments_lexer": "ipython3",
   "version": "3.11.3"
  },
  "orig_nbformat": 4
 },
 "nbformat": 4,
 "nbformat_minor": 2
}
