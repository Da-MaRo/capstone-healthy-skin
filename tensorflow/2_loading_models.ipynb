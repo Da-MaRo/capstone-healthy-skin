{
 "cells": [
  {
   "cell_type": "markdown",
   "metadata": {},
   "source": [
    "## This notebook reloads previously saved models and prints the evaluation for comparison"
   ]
  },
  {
   "cell_type": "code",
   "execution_count": 6,
   "metadata": {},
   "outputs": [],
   "source": [
    "# Imports\n",
    "\n",
    "import tensorflow as tf\n",
    "import numpy as np\n",
    "import pandas as pd\n",
    "\n",
    "import os\n",
    "\n",
    "import sys\n",
    "sys.path.append('..')\n",
    "from helperfunctions import modelhelper as mh\n",
    "\n",
    "TARGET_VAR = \"dx_binary\"\n",
    "IMAGE_SIZE = (64, 64)"
   ]
  },
  {
   "cell_type": "code",
   "execution_count": 7,
   "metadata": {},
   "outputs": [],
   "source": [
    "MODEL_PATH = \"../models/\""
   ]
  },
  {
   "cell_type": "code",
   "execution_count": 8,
   "metadata": {},
   "outputs": [],
   "source": [
    "# Load test_df from file\n",
    "test_df = pd.read_csv(\"../data/processed/test_from_Metadata_processed.csv\")"
   ]
  },
  {
   "cell_type": "code",
   "execution_count": 9,
   "metadata": {},
   "outputs": [],
   "source": [
    "# List all the models in MODEL_PATH\n",
    "model_list = os.listdir(MODEL_PATH)\n",
    "\n",
    "# just keep elements with -h5 extension\n",
    "model_list = [model for model in model_list if model[-3:] == \".h5\"]\n"
   ]
  },
  {
   "cell_type": "code",
   "execution_count": 10,
   "metadata": {},
   "outputs": [
    {
     "name": "stdout",
     "output_type": "stream",
     "text": [
      "length of image list:  2003\n",
      "Shape of an image:  (64, 64, 3)\n",
      "length of label list:  2003\n",
      "a label:  not_skin_cancer\n",
      "length of label list (After LabelEncode):  2003\n",
      "a label  (After LabelEncode):  0\n",
      "length of label list (After to cat):  2003\n",
      " a label  (After to cat):  [1. 0.]\n",
      "length of image list after reshape:  2003\n",
      "Shape of an image after reshape:  (64, 64, 3)\n",
      "63/63 - 1s - loss: 10.1852 - accuracy: 0.3165 - 889ms/epoch - 14ms/step\n"
     ]
    }
   ],
   "source": [
    "for model_name in model_list:\n",
    "    model = tf.keras.models.load_model(MODEL_PATH + model_name)\n",
    "    mh.model_accuracy_on_test(model, test_df, TARGET_VAR, IMAGE_SIZE)"
   ]
  },
  {
   "cell_type": "code",
   "execution_count": 11,
   "metadata": {},
   "outputs": [
    {
     "data": {
      "text/plain": [
       "(2003, 10)"
      ]
     },
     "execution_count": 11,
     "metadata": {},
     "output_type": "execute_result"
    }
   ],
   "source": [
    "test_df.shape"
   ]
  }
 ],
 "metadata": {
  "kernelspec": {
   "display_name": ".venv",
   "language": "python",
   "name": "python3"
  },
  "language_info": {
   "codemirror_mode": {
    "name": "ipython",
    "version": 3
   },
   "file_extension": ".py",
   "mimetype": "text/x-python",
   "name": "python",
   "nbconvert_exporter": "python",
   "pygments_lexer": "ipython3",
   "version": "3.11.3"
  },
  "orig_nbformat": 4
 },
 "nbformat": 4,
 "nbformat_minor": 2
}
