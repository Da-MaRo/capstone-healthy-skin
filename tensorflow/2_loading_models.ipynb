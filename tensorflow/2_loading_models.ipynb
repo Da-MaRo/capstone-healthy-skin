{
 "cells": [
  {
   "cell_type": "markdown",
   "metadata": {},
   "source": [
    "## This notebook reloads previously saved models and prints the evaluation for comparison"
   ]
  },
  {
   "cell_type": "code",
   "execution_count": 1,
   "metadata": {},
   "outputs": [],
   "source": [
    "# Imports\n",
    "\n",
    "import tensorflow as tf\n",
    "import numpy as np\n",
    "import pandas as pd\n",
    "\n",
    "import os\n",
    "\n",
    "import sys\n",
    "sys.path.append('..')\n",
    "from helperfunctions import modelhelper as mh\n",
    "\n",
    "TARGET_VAR = \"dx_tertiary\"\n",
    "IMAGE_SIZE = (224, 224) # Change to fit your model"
   ]
  },
  {
   "cell_type": "code",
   "execution_count": 2,
   "metadata": {},
   "outputs": [],
   "source": [
    "MODEL_PATH = \"../models/\""
   ]
  },
  {
   "cell_type": "code",
   "execution_count": 3,
   "metadata": {},
   "outputs": [],
   "source": [
    "# Load test_df from file\n",
    "test_df = pd.read_csv(\"../data/processed/test_from_Metadata_processed.csv\")"
   ]
  },
  {
   "cell_type": "code",
   "execution_count": 7,
   "metadata": {},
   "outputs": [],
   "source": [
    "# List all the models in MODEL_PATH\n",
    "model_list = os.listdir(MODEL_PATH)\n",
    "\n",
    "# just keep elements with -h5 extension\n",
    "model_list = [model for model in model_list if model.endswith((\"99.h5\", \"82.h5\"))]"
   ]
  },
  {
   "cell_type": "code",
   "execution_count": 9,
   "metadata": {},
   "outputs": [
    {
     "name": "stdout",
     "output_type": "stream",
     "text": [
      "Loading file: 'model_2023-10-02 15:37:28.231299.h5'\n",
      "Evaluation model: 'ResNet50_binary_with_new_imageloader'...\n",
      "Image size: (None, None)\n",
      "Target variable is set to: dx_tertiary\n",
      "\n",
      "\n",
      " > Evaluating model ResNet50_binary_with_new_imageloader:\n",
      " > Loading test images...\n"
     ]
    },
    {
     "ename": "TypeError",
     "evalue": "'NoneType' object cannot be interpreted as an integer",
     "output_type": "error",
     "traceback": [
      "\u001b[0;31m---------------------------------------------------------------------------\u001b[0m",
      "\u001b[0;31mTypeError\u001b[0m                                 Traceback (most recent call last)",
      "\u001b[1;32m/Users/janicepelzer/Documents/neuefische/capstone-healthy-skin/tensorflow/2_loading_models.ipynb Cell 6\u001b[0m line \u001b[0;36m1\n\u001b[1;32m     <a href='vscode-notebook-cell:/Users/janicepelzer/Documents/neuefische/capstone-healthy-skin/tensorflow/2_loading_models.ipynb#X41sZmlsZQ%3D%3D?line=11'>12</a>\u001b[0m \u001b[39mprint\u001b[39m(\u001b[39mf\u001b[39m\u001b[39m\"\u001b[39m\u001b[39mTarget variable is set to: \u001b[39m\u001b[39m{\u001b[39;00mTARGET_VAR\u001b[39m}\u001b[39;00m\u001b[39m\"\u001b[39m)\n\u001b[1;32m     <a href='vscode-notebook-cell:/Users/janicepelzer/Documents/neuefische/capstone-healthy-skin/tensorflow/2_loading_models.ipynb#X41sZmlsZQ%3D%3D?line=12'>13</a>\u001b[0m \u001b[39mprint\u001b[39m(\u001b[39m\"\u001b[39m\u001b[39m\\n\u001b[39;00m\u001b[39m\"\u001b[39m)\n\u001b[0;32m---> <a href='vscode-notebook-cell:/Users/janicepelzer/Documents/neuefische/capstone-healthy-skin/tensorflow/2_loading_models.ipynb#X41sZmlsZQ%3D%3D?line=13'>14</a>\u001b[0m mh\u001b[39m.\u001b[39;49mmodel_accuracy_on_test(model, test_df, TARGET_VAR, IMAGE_SIZE)\n\u001b[1;32m     <a href='vscode-notebook-cell:/Users/janicepelzer/Documents/neuefische/capstone-healthy-skin/tensorflow/2_loading_models.ipynb#X41sZmlsZQ%3D%3D?line=15'>16</a>\u001b[0m \u001b[39mprint\u001b[39m(\u001b[39m\"\u001b[39m\u001b[39m====\u001b[39m\u001b[39m\"\u001b[39m\u001b[39m*\u001b[39m\u001b[39m10\u001b[39m)\n\u001b[1;32m     <a href='vscode-notebook-cell:/Users/janicepelzer/Documents/neuefische/capstone-healthy-skin/tensorflow/2_loading_models.ipynb#X41sZmlsZQ%3D%3D?line=16'>17</a>\u001b[0m \u001b[39mprint\u001b[39m(\u001b[39m\"\u001b[39m\u001b[39m\\n\u001b[39;00m\u001b[39m\"\u001b[39m)\n",
      "File \u001b[0;32m~/Documents/neuefische/capstone-healthy-skin/tensorflow/../helperfunctions/modelhelper.py:58\u001b[0m, in \u001b[0;36mmodel_accuracy_on_test\u001b[0;34m(model, test_df, targetvar, imagesize, verbose)\u001b[0m\n\u001b[1;32m     56\u001b[0m \u001b[39mfor\u001b[39;00m i \u001b[39min\u001b[39;00m \u001b[39mrange\u001b[39m(test_df\u001b[39m.\u001b[39mshape[\u001b[39m0\u001b[39m]):\n\u001b[1;32m     57\u001b[0m     image_path \u001b[39m=\u001b[39m test_df\u001b[39m.\u001b[39miloc[i][\u001b[39m'\u001b[39m\u001b[39mimage_path\u001b[39m\u001b[39m'\u001b[39m]\n\u001b[0;32m---> 58\u001b[0m     img \u001b[39m=\u001b[39m img_load_and_transform(image_path, imagesize)\n\u001b[1;32m     60\u001b[0m     \u001b[39m# convert img to np array \u001b[39;00m\n\u001b[1;32m     61\u001b[0m     test_images\u001b[39m.\u001b[39mappend(np\u001b[39m.\u001b[39marray(img)\u001b[39m/\u001b[39m\u001b[39m255.0\u001b[39m)\n",
      "File \u001b[0;32m~/Documents/neuefische/capstone-healthy-skin/tensorflow/../helperfunctions/imagehelper.py:44\u001b[0m, in \u001b[0;36mimg_load_and_transform\u001b[0;34m(image_path, target_size)\u001b[0m\n\u001b[1;32m     41\u001b[0m image \u001b[39m=\u001b[39m image\u001b[39m.\u001b[39mcrop((left, top, right, bottom))\n\u001b[1;32m     43\u001b[0m \u001b[39m# Resize the image to the target size\u001b[39;00m\n\u001b[0;32m---> 44\u001b[0m image \u001b[39m=\u001b[39m image\u001b[39m.\u001b[39;49mresize(target_size)\n\u001b[1;32m     46\u001b[0m \u001b[39m# Convert the PIL image to a NumPy array\u001b[39;00m\n\u001b[1;32m     47\u001b[0m image_array \u001b[39m=\u001b[39m np\u001b[39m.\u001b[39marray(image)\n",
      "File \u001b[0;32m~/Documents/neuefische/capstone-healthy-skin/.venv/lib/python3.11/site-packages/PIL/Image.py:2174\u001b[0m, in \u001b[0;36mImage.resize\u001b[0;34m(self, size, resample, box, reducing_gap)\u001b[0m\n\u001b[1;32m   2166\u001b[0m             \u001b[39mself\u001b[39m \u001b[39m=\u001b[39m Image\u001b[39m.\u001b[39mreduce(\u001b[39mself\u001b[39m, factor, box\u001b[39m=\u001b[39mreduce_box)\n\u001b[1;32m   2167\u001b[0m         box \u001b[39m=\u001b[39m (\n\u001b[1;32m   2168\u001b[0m             (box[\u001b[39m0\u001b[39m] \u001b[39m-\u001b[39m reduce_box[\u001b[39m0\u001b[39m]) \u001b[39m/\u001b[39m factor_x,\n\u001b[1;32m   2169\u001b[0m             (box[\u001b[39m1\u001b[39m] \u001b[39m-\u001b[39m reduce_box[\u001b[39m1\u001b[39m]) \u001b[39m/\u001b[39m factor_y,\n\u001b[1;32m   2170\u001b[0m             (box[\u001b[39m2\u001b[39m] \u001b[39m-\u001b[39m reduce_box[\u001b[39m0\u001b[39m]) \u001b[39m/\u001b[39m factor_x,\n\u001b[1;32m   2171\u001b[0m             (box[\u001b[39m3\u001b[39m] \u001b[39m-\u001b[39m reduce_box[\u001b[39m1\u001b[39m]) \u001b[39m/\u001b[39m factor_y,\n\u001b[1;32m   2172\u001b[0m         )\n\u001b[0;32m-> 2174\u001b[0m \u001b[39mreturn\u001b[39;00m \u001b[39mself\u001b[39m\u001b[39m.\u001b[39m_new(\u001b[39mself\u001b[39;49m\u001b[39m.\u001b[39;49mim\u001b[39m.\u001b[39;49mresize(size, resample, box))\n",
      "\u001b[0;31mTypeError\u001b[0m: 'NoneType' object cannot be interpreted as an integer"
     ]
    }
   ],
   "source": [
    "for file_name in model_list:\n",
    "    # load the model\n",
    "    model = tf.keras.models.load_model(MODEL_PATH + file_name)\n",
    "    print(f\"Loading file: '{file_name}'\")\n",
    "    # get the model name\n",
    "    model_name = model.name\n",
    "    print(f\"Evaluation model: '{model_name}'...\")\n",
    "    # get the image dimension from the loaded model\n",
    "    IMAGE_SIZE = model.input_shape[1:3]\n",
    "    print(f\"Image size: {IMAGE_SIZE}\")\n",
    "    # get the target variable from global variable\n",
    "    print(f\"Target variable is set to: {TARGET_VAR}\")\n",
    "    print(\"\\n\")\n",
    "    mh.model_accuracy_on_test(model, test_df, TARGET_VAR, IMAGE_SIZE)\n",
    "    \n",
    "    print(\"====\"*10)\n",
    "    print(\"\\n\")"
   ]
  },
  {
   "cell_type": "code",
   "execution_count": 12,
   "metadata": {},
   "outputs": [
    {
     "data": {
      "text/plain": [
       "(2003, 10)"
      ]
     },
     "execution_count": 12,
     "metadata": {},
     "output_type": "execute_result"
    }
   ],
   "source": [
    "test_df.shape"
   ]
  }
 ],
 "metadata": {
  "kernelspec": {
   "display_name": ".venv",
   "language": "python",
   "name": "python3"
  },
  "language_info": {
   "codemirror_mode": {
    "name": "ipython",
    "version": 3
   },
   "file_extension": ".py",
   "mimetype": "text/x-python",
   "name": "python",
   "nbconvert_exporter": "python",
   "pygments_lexer": "ipython3",
   "version": "3.11.3"
  },
  "orig_nbformat": 4
 },
 "nbformat": 4,
 "nbformat_minor": 2
}
