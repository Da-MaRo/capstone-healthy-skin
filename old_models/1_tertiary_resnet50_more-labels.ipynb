{
 "cells": [
  {
   "cell_type": "markdown",
   "metadata": {},
   "source": [
    "# CNN pretrained ResNet50 model "
   ]
  },
  {
   "cell_type": "markdown",
   "metadata": {},
   "source": [
    "Source of idea: https://www.ejcancer.com/article/S0959-8049(19)30349-1/fulltext#secsectitle0050 Chapter 2.2 Methods"
   ]
  },
  {
   "cell_type": "markdown",
   "metadata": {},
   "source": [
    "#### Pretrained ResNet50 CNN:\n",
    "\n",
    "* Tests have shown that adding a dropout layer to the architecture, batch size of 16 as well as regularization increased the models performance. This is included in this model as well as setting model checkpoints.\n",
    "* Thoughts on model checkpoints:\n",
    "  * model.evaluate() in Keras uses the weights of the model at the time the method is called. So if you train a model for 20 epochs and call model.evaluate() immediately after training without making any further changes to the weights, then it will use the weights from the last, 20th epoch.\n",
    "  * However, if you use a ModelCheckpoint with save_best_only=True during training, then the model's weights will only be saved if a particular metric (such as validation accuracy) improves. If you load these best weights into your model after training and then call model.evaluate(), the weights of the epoch with the best results will be used.\n",
    "  * In summary, model.evaluate() always uses the current weights of the model. It is up to you to determine which weights are loaded in the model at which point in time. This is why we should use ModelCheckpoint with save_best_only=True to evaluate the *best* model.\n",
    "* ResNet50 Model: ResNet50 is a deep convolutional neural network architecture originally designed for image classification tasks. It consists of 50 layers, including convolutional layers, batch normalization, and skip connections (residual connections), which allow it to effectively learn from very deep networks. The model is pretrained on a large dataset (typically ImageNet) to capture a wide range of features from images\n",
    "* Transfer Learning: In transfer learning, we start with a pretrained model (ResNet50 in this case) and fine-tune it for a specific task. By doing this, we leverage the knowledge the model has gained from the original dataset and adapt it to a new task, such as classifying skin lesions"
   ]
  },
  {
   "cell_type": "markdown",
   "metadata": {},
   "source": [
    "## Imports and loading Data"
   ]
  },
  {
   "cell_type": "code",
   "execution_count": 1,
   "metadata": {},
   "outputs": [],
   "source": [
    "# Imports\n",
    "import pandas as pd\n",
    "import numpy as np\n",
    "import matplotlib.pyplot as plt\n",
    "import sys\n",
    "from datetime import datetime\n",
    "import math\n",
    "\n",
    "from tensorflow.keras.preprocessing.image import ImageDataGenerator\n",
    "from keras.utils import Sequence\n",
    "from tensorflow.keras.models import Model\n",
    "from tensorflow.keras.regularizers import l2\n",
    "from tensorflow.keras.applications import ResNet50\n",
    "from tensorflow.keras.layers import Dense, GlobalAveragePooling2D, Conv2D, Dropout, concatenate, Input, Embedding\n",
    "from tensorflow.keras.models import Model\n",
    "from tensorflow.keras.callbacks import ModelCheckpoint, EarlyStopping\n",
    "from tensorflow.keras.optimizers.legacy import Adam as Adam_legacy\n",
    "from tensorflow.keras.callbacks import LearningRateScheduler\n",
    "from keras.layers.experimental import preprocessing\n",
    "from keras.models import load_model\n",
    "\n",
    "from sklearn.utils import class_weight\n",
    "\n",
    "\n",
    "sys.path.append(\"..\")\n",
    "from helperfunctions import modelhelper as mh\n",
    "from helperfunctions import imagehelper as ih\n",
    "\n",
    "SEED = 226\n",
    "NUM_EPOCHS = 20\n",
    "\n",
    "# File path variables\n",
    "# please make sure to use the correct path to the meta data file\n",
    "\n",
    "FILEPATH_JPGS = './../data/jpgs/'\n",
    "FILEPATH_PROCESSED=\"./../data/processed/\"\n",
    "FILEPATH_OUTPUT = './../data/jpgs/'  # Replace with your folder path\n",
    "FIELPATH_TESTOUTPUT= \"./../data/testoutput/\"\n",
    "FILEPATH_MODELS = \"../models/\"\n",
    "\n",
    "MODEL_NAME = 'Resnet50_tertiary_new_setup' # please adapt according to your changes using _ and - instead of \" \"\n",
    "\n",
    "TARGET_LABEL=\"dx_tertiary\"\n",
    "\n",
    "IMAGE_SIZE = (224, 224)\n",
    "\n",
    "BATCH_SIZE = 16 # Adapted according to findings"
   ]
  },
  {
   "cell_type": "markdown",
   "metadata": {},
   "source": [
    "### Loading (augmented) metadata as test, train, validation from files"
   ]
  },
  {
   "cell_type": "code",
   "execution_count": 2,
   "metadata": {},
   "outputs": [
    {
     "data": {
      "text/html": [
       "<div>\n",
       "<style scoped>\n",
       "    .dataframe tbody tr th:only-of-type {\n",
       "        vertical-align: middle;\n",
       "    }\n",
       "\n",
       "    .dataframe tbody tr th {\n",
       "        vertical-align: top;\n",
       "    }\n",
       "\n",
       "    .dataframe thead th {\n",
       "        text-align: right;\n",
       "    }\n",
       "</style>\n",
       "<table border=\"1\" class=\"dataframe\">\n",
       "  <thead>\n",
       "    <tr style=\"text-align: right;\">\n",
       "      <th></th>\n",
       "      <th>lesion_id</th>\n",
       "      <th>image_id</th>\n",
       "      <th>dx</th>\n",
       "      <th>dx_type</th>\n",
       "      <th>age</th>\n",
       "      <th>sex</th>\n",
       "      <th>localization</th>\n",
       "      <th>dataset</th>\n",
       "      <th>dx_binary</th>\n",
       "      <th>dx_tertiary</th>\n",
       "      <th>image_path</th>\n",
       "    </tr>\n",
       "  </thead>\n",
       "  <tbody>\n",
       "    <tr>\n",
       "      <th>1099</th>\n",
       "      <td>HAM_0006128</td>\n",
       "      <td>ISIC_0031770.jpg</td>\n",
       "      <td>bkl</td>\n",
       "      <td>histo</td>\n",
       "      <td>55.0</td>\n",
       "      <td>1</td>\n",
       "      <td>8</td>\n",
       "      <td>rosendahl</td>\n",
       "      <td>not_skin_cancer</td>\n",
       "      <td>non-neoplastic</td>\n",
       "      <td>./../data/jpgs/ISIC_0031770.jpg</td>\n",
       "    </tr>\n",
       "    <tr>\n",
       "      <th>2030</th>\n",
       "      <td>HAM_0002538</td>\n",
       "      <td>ISIC_0030770.jpg</td>\n",
       "      <td>vasc</td>\n",
       "      <td>histo</td>\n",
       "      <td>65.0</td>\n",
       "      <td>1</td>\n",
       "      <td>0</td>\n",
       "      <td>vidir_modern</td>\n",
       "      <td>not_skin_cancer</td>\n",
       "      <td>non-neoplastic</td>\n",
       "      <td>./../data/jpgs/ISIC_0030770.jpg</td>\n",
       "    </tr>\n",
       "    <tr>\n",
       "      <th>4258</th>\n",
       "      <td>HAM_0003081</td>\n",
       "      <td>aug_3VFbpBISIC_0033847.jpg</td>\n",
       "      <td>df</td>\n",
       "      <td>consensus</td>\n",
       "      <td>45.0</td>\n",
       "      <td>0</td>\n",
       "      <td>0</td>\n",
       "      <td>vidir_modern</td>\n",
       "      <td>not_skin_cancer</td>\n",
       "      <td>non-neoplastic</td>\n",
       "      <td>./../data/jpgs/aug_3VFbpBISIC_0033847.jpg</td>\n",
       "    </tr>\n",
       "    <tr>\n",
       "      <th>1608</th>\n",
       "      <td>HAM_0004397</td>\n",
       "      <td>ISIC_0025589.jpg</td>\n",
       "      <td>mel</td>\n",
       "      <td>histo</td>\n",
       "      <td>55.0</td>\n",
       "      <td>1</td>\n",
       "      <td>9</td>\n",
       "      <td>vidir_modern</td>\n",
       "      <td>skin_cancer</td>\n",
       "      <td>malignant</td>\n",
       "      <td>./../data/jpgs/ISIC_0025589.jpg</td>\n",
       "    </tr>\n",
       "    <tr>\n",
       "      <th>478</th>\n",
       "      <td>HAM_0006060</td>\n",
       "      <td>ISIC_0030513.jpg</td>\n",
       "      <td>nv</td>\n",
       "      <td>follow_up</td>\n",
       "      <td>50.0</td>\n",
       "      <td>1</td>\n",
       "      <td>8</td>\n",
       "      <td>vidir_molemax</td>\n",
       "      <td>not_skin_cancer</td>\n",
       "      <td>benign</td>\n",
       "      <td>./../data/jpgs/ISIC_0030513.jpg</td>\n",
       "    </tr>\n",
       "    <tr>\n",
       "      <th>2227</th>\n",
       "      <td>HAM_0003480</td>\n",
       "      <td>aug_DXqgIoISIC_0031996.jpg</td>\n",
       "      <td>vasc</td>\n",
       "      <td>consensus</td>\n",
       "      <td>70.0</td>\n",
       "      <td>1</td>\n",
       "      <td>8</td>\n",
       "      <td>vidir_modern</td>\n",
       "      <td>not_skin_cancer</td>\n",
       "      <td>non-neoplastic</td>\n",
       "      <td>./../data/jpgs/aug_DXqgIoISIC_0031996.jpg</td>\n",
       "    </tr>\n",
       "    <tr>\n",
       "      <th>713</th>\n",
       "      <td>HAM_0000351</td>\n",
       "      <td>ISIC_0024324.jpg</td>\n",
       "      <td>bkl</td>\n",
       "      <td>histo</td>\n",
       "      <td>85.0</td>\n",
       "      <td>0</td>\n",
       "      <td>1</td>\n",
       "      <td>vidir_modern</td>\n",
       "      <td>not_skin_cancer</td>\n",
       "      <td>non-neoplastic</td>\n",
       "      <td>./../data/jpgs/ISIC_0024324.jpg</td>\n",
       "    </tr>\n",
       "    <tr>\n",
       "      <th>4434</th>\n",
       "      <td>HAM_0004317</td>\n",
       "      <td>aug_P8b1uqISIC_0025504.jpg</td>\n",
       "      <td>df</td>\n",
       "      <td>histo</td>\n",
       "      <td>50.0</td>\n",
       "      <td>1</td>\n",
       "      <td>8</td>\n",
       "      <td>rosendahl</td>\n",
       "      <td>not_skin_cancer</td>\n",
       "      <td>non-neoplastic</td>\n",
       "      <td>./../data/jpgs/aug_P8b1uqISIC_0025504.jpg</td>\n",
       "    </tr>\n",
       "    <tr>\n",
       "      <th>2413</th>\n",
       "      <td>HAM_0004776</td>\n",
       "      <td>aug_MSy4n9ISIC_0032867.jpg</td>\n",
       "      <td>vasc</td>\n",
       "      <td>histo</td>\n",
       "      <td>45.0</td>\n",
       "      <td>1</td>\n",
       "      <td>2</td>\n",
       "      <td>vidir_modern</td>\n",
       "      <td>not_skin_cancer</td>\n",
       "      <td>non-neoplastic</td>\n",
       "      <td>./../data/jpgs/aug_MSy4n9ISIC_0032867.jpg</td>\n",
       "    </tr>\n",
       "    <tr>\n",
       "      <th>2957</th>\n",
       "      <td>HAM_0001036</td>\n",
       "      <td>aug_t7rM18ISIC_0027588.jpg</td>\n",
       "      <td>akiec</td>\n",
       "      <td>histo</td>\n",
       "      <td>50.0</td>\n",
       "      <td>1</td>\n",
       "      <td>4</td>\n",
       "      <td>rosendahl</td>\n",
       "      <td>skin_cancer</td>\n",
       "      <td>malignant</td>\n",
       "      <td>./../data/jpgs/aug_t7rM18ISIC_0027588.jpg</td>\n",
       "    </tr>\n",
       "    <tr>\n",
       "      <th>2646</th>\n",
       "      <td>HAM_0005551</td>\n",
       "      <td>ISIC_0029900.jpg</td>\n",
       "      <td>akiec</td>\n",
       "      <td>histo</td>\n",
       "      <td>60.0</td>\n",
       "      <td>0</td>\n",
       "      <td>4</td>\n",
       "      <td>rosendahl</td>\n",
       "      <td>skin_cancer</td>\n",
       "      <td>malignant</td>\n",
       "      <td>./../data/jpgs/ISIC_0029900.jpg</td>\n",
       "    </tr>\n",
       "    <tr>\n",
       "      <th>3303</th>\n",
       "      <td>HAM_0002733</td>\n",
       "      <td>ISIC_0031041.jpg</td>\n",
       "      <td>bcc</td>\n",
       "      <td>histo</td>\n",
       "      <td>70.0</td>\n",
       "      <td>0</td>\n",
       "      <td>2</td>\n",
       "      <td>rosendahl</td>\n",
       "      <td>skin_cancer</td>\n",
       "      <td>malignant</td>\n",
       "      <td>./../data/jpgs/ISIC_0031041.jpg</td>\n",
       "    </tr>\n",
       "    <tr>\n",
       "      <th>4107</th>\n",
       "      <td>HAM_0004065</td>\n",
       "      <td>aug_KmQ8hDISIC_0026629.jpg</td>\n",
       "      <td>df</td>\n",
       "      <td>consensus</td>\n",
       "      <td>65.0</td>\n",
       "      <td>1</td>\n",
       "      <td>8</td>\n",
       "      <td>vidir_molemax</td>\n",
       "      <td>not_skin_cancer</td>\n",
       "      <td>non-neoplastic</td>\n",
       "      <td>./../data/jpgs/aug_KmQ8hDISIC_0026629.jpg</td>\n",
       "    </tr>\n",
       "    <tr>\n",
       "      <th>228</th>\n",
       "      <td>HAM_0003450</td>\n",
       "      <td>ISIC_0027746.jpg</td>\n",
       "      <td>nv</td>\n",
       "      <td>follow_up</td>\n",
       "      <td>40.0</td>\n",
       "      <td>0</td>\n",
       "      <td>11</td>\n",
       "      <td>vidir_molemax</td>\n",
       "      <td>not_skin_cancer</td>\n",
       "      <td>benign</td>\n",
       "      <td>./../data/jpgs/ISIC_0027746.jpg</td>\n",
       "    </tr>\n",
       "    <tr>\n",
       "      <th>450</th>\n",
       "      <td>HAM_0004349</td>\n",
       "      <td>ISIC_0033896.jpg</td>\n",
       "      <td>nv</td>\n",
       "      <td>consensus</td>\n",
       "      <td>40.0</td>\n",
       "      <td>1</td>\n",
       "      <td>12</td>\n",
       "      <td>vidir_modern</td>\n",
       "      <td>not_skin_cancer</td>\n",
       "      <td>benign</td>\n",
       "      <td>./../data/jpgs/ISIC_0033896.jpg</td>\n",
       "    </tr>\n",
       "  </tbody>\n",
       "</table>\n",
       "</div>"
      ],
      "text/plain": [
       "        lesion_id                    image_id     dx    dx_type   age  sex   \n",
       "1099  HAM_0006128            ISIC_0031770.jpg    bkl      histo  55.0    1  \\\n",
       "2030  HAM_0002538            ISIC_0030770.jpg   vasc      histo  65.0    1   \n",
       "4258  HAM_0003081  aug_3VFbpBISIC_0033847.jpg     df  consensus  45.0    0   \n",
       "1608  HAM_0004397            ISIC_0025589.jpg    mel      histo  55.0    1   \n",
       "478   HAM_0006060            ISIC_0030513.jpg     nv  follow_up  50.0    1   \n",
       "2227  HAM_0003480  aug_DXqgIoISIC_0031996.jpg   vasc  consensus  70.0    1   \n",
       "713   HAM_0000351            ISIC_0024324.jpg    bkl      histo  85.0    0   \n",
       "4434  HAM_0004317  aug_P8b1uqISIC_0025504.jpg     df      histo  50.0    1   \n",
       "2413  HAM_0004776  aug_MSy4n9ISIC_0032867.jpg   vasc      histo  45.0    1   \n",
       "2957  HAM_0001036  aug_t7rM18ISIC_0027588.jpg  akiec      histo  50.0    1   \n",
       "2646  HAM_0005551            ISIC_0029900.jpg  akiec      histo  60.0    0   \n",
       "3303  HAM_0002733            ISIC_0031041.jpg    bcc      histo  70.0    0   \n",
       "4107  HAM_0004065  aug_KmQ8hDISIC_0026629.jpg     df  consensus  65.0    1   \n",
       "228   HAM_0003450            ISIC_0027746.jpg     nv  follow_up  40.0    0   \n",
       "450   HAM_0004349            ISIC_0033896.jpg     nv  consensus  40.0    1   \n",
       "\n",
       "      localization        dataset        dx_binary     dx_tertiary   \n",
       "1099             8      rosendahl  not_skin_cancer  non-neoplastic  \\\n",
       "2030             0   vidir_modern  not_skin_cancer  non-neoplastic   \n",
       "4258             0   vidir_modern  not_skin_cancer  non-neoplastic   \n",
       "1608             9   vidir_modern      skin_cancer       malignant   \n",
       "478              8  vidir_molemax  not_skin_cancer          benign   \n",
       "2227             8   vidir_modern  not_skin_cancer  non-neoplastic   \n",
       "713              1   vidir_modern  not_skin_cancer  non-neoplastic   \n",
       "4434             8      rosendahl  not_skin_cancer  non-neoplastic   \n",
       "2413             2   vidir_modern  not_skin_cancer  non-neoplastic   \n",
       "2957             4      rosendahl      skin_cancer       malignant   \n",
       "2646             4      rosendahl      skin_cancer       malignant   \n",
       "3303             2      rosendahl      skin_cancer       malignant   \n",
       "4107             8  vidir_molemax  not_skin_cancer  non-neoplastic   \n",
       "228             11  vidir_molemax  not_skin_cancer          benign   \n",
       "450             12   vidir_modern  not_skin_cancer          benign   \n",
       "\n",
       "                                     image_path  \n",
       "1099            ./../data/jpgs/ISIC_0031770.jpg  \n",
       "2030            ./../data/jpgs/ISIC_0030770.jpg  \n",
       "4258  ./../data/jpgs/aug_3VFbpBISIC_0033847.jpg  \n",
       "1608            ./../data/jpgs/ISIC_0025589.jpg  \n",
       "478             ./../data/jpgs/ISIC_0030513.jpg  \n",
       "2227  ./../data/jpgs/aug_DXqgIoISIC_0031996.jpg  \n",
       "713             ./../data/jpgs/ISIC_0024324.jpg  \n",
       "4434  ./../data/jpgs/aug_P8b1uqISIC_0025504.jpg  \n",
       "2413  ./../data/jpgs/aug_MSy4n9ISIC_0032867.jpg  \n",
       "2957  ./../data/jpgs/aug_t7rM18ISIC_0027588.jpg  \n",
       "2646            ./../data/jpgs/ISIC_0029900.jpg  \n",
       "3303            ./../data/jpgs/ISIC_0031041.jpg  \n",
       "4107  ./../data/jpgs/aug_KmQ8hDISIC_0026629.jpg  \n",
       "228             ./../data/jpgs/ISIC_0027746.jpg  \n",
       "450             ./../data/jpgs/ISIC_0033896.jpg  "
      ]
     },
     "execution_count": 2,
     "metadata": {},
     "output_type": "execute_result"
    }
   ],
   "source": [
    "# Read the metadata file\n",
    "train_df = pd.read_csv(FILEPATH_PROCESSED+\"train_from_Metadata_processed.csv\")\n",
    "validation_df = pd.read_csv(FILEPATH_PROCESSED+\"validation_from_Metadata_processed.csv\")\n",
    "test_df = pd.read_csv(FILEPATH_PROCESSED+\"test_from_Metadata_processed.csv\")\n",
    "\n",
    "# encode sex and localization as categorical variables for test data\n",
    "train_df['sex'].replace({'female': 1, 'male': 0, 'unknown': 1}, inplace=True)\n",
    "train_df['localization'] = pd.Categorical(train_df['localization']).codes\n",
    "\n",
    "# encode sex and localization as categorical variables for validation data\n",
    "validation_df['sex'].replace({'female': 1, 'male': 0, 'unknown': 1}, inplace=True)\n",
    "validation_df['localization'] = pd.Categorical(validation_df['localization']).codes\n",
    "\n",
    "# encode sex and localization as categorical variables for validation data\n",
    "test_df['sex'].replace({'female': 1, 'male': 0, 'unknown': 1}, inplace=True)\n",
    "test_df['localization'] = pd.Categorical(test_df['localization']).codes\n",
    "\n",
    "\n",
    "# Setting datatypes\n",
    "train_df['age'] = train_df['age'].astype(np.float32)\n",
    "train_df['sex'] = train_df['sex'].astype(np.int32)\n",
    "train_df['localization'] = train_df['localization'].astype(np.int32)\n",
    "\n",
    "train_df.sample(15)"
   ]
  },
  {
   "cell_type": "code",
   "execution_count": null,
   "metadata": {},
   "outputs": [
    {
     "data": {
      "text/plain": [
       "14"
      ]
     },
     "execution_count": 27,
     "metadata": {},
     "output_type": "execute_result"
    }
   ],
   "source": [
    "train_df['localization'].nunique()"
   ]
  },
  {
   "cell_type": "markdown",
   "metadata": {},
   "source": [
    "## Setting up the image data generator for training and validation"
   ]
  },
  {
   "cell_type": "markdown",
   "metadata": {},
   "source": [
    "#### Function for custom preprocessing of the images"
   ]
  },
  {
   "cell_type": "code",
   "execution_count": null,
   "metadata": {},
   "outputs": [],
   "source": [
    "def custom_preprocessing(np_image, image_size, show_image=False):\n",
    "    # print the image\n",
    "    # print(\"From custom_preprocessing: Image + shape before preprocessing:\", np_image.shape)\n",
    "    np_image = np_image.astype(np.uint8)\n",
    "    \n",
    "    #print(np_image)\n",
    "    if show_image:\n",
    "        plt.imshow(np_image.astype(np.uint8))\n",
    "        plt.show()\n",
    "\n",
    "    # rescale \n",
    "    np_image = np_image / 255.0\n",
    "\n",
    "    # Using the image helper functions\n",
    "    np_image = ih.center_crop_image(np_image) # Crop image to square format\n",
    "    \n",
    "    if show_image:\n",
    "        print(\"From custom_preprocessing: Image after center crop:\", np_image.shape)\n",
    "        plt.imshow(np_image)\n",
    "        plt.show()\n",
    "\n",
    "    np_image = ih.resize_as_preprocess(np_image, image_size) # resize the image\n",
    "\n",
    "    if show_image:\n",
    "        print(\"From custom_preprocessing: Image after after resizing:\", np_image.shape)\n",
    "        plt.imshow(np_image)\n",
    "        plt.show()\n",
    "\n",
    "    return np_image"
   ]
  },
  {
   "cell_type": "markdown",
   "metadata": {},
   "source": [
    "#### Data Image generator for Train and Validation"
   ]
  },
  {
   "cell_type": "code",
   "execution_count": null,
   "metadata": {},
   "outputs": [],
   "source": [
    "# Normalizing the age\n",
    "\n",
    "mean_age = train_df['age'].mean()\n",
    "std_age = train_df['age'].std()\n",
    "mean_age = np.float32(mean_age)\n",
    "std_age = np.float32(std_age)\n",
    "age_normalizer = preprocessing.Normalization(mean=mean_age, variance=std_age**2, axis=None)"
   ]
  },
  {
   "cell_type": "code",
   "execution_count": null,
   "metadata": {},
   "outputs": [],
   "source": [
    "class MultiInputDataGenerator(ImageDataGenerator):\n",
    "    def flow_from_dataframe(self, dataframe, tabular_features, *args, **kwargs):\n",
    "        # This would be a standard flow_from_dataframe generator\n",
    "        base_generator = super().flow_from_dataframe(dataframe, *args, **kwargs)\n",
    "        \n",
    "        # Wrap it with our custom generator\n",
    "        return MultiInputGenerator(base_generator, dataframe, tabular_features)\n",
    "\n",
    "class MultiInputGenerator(Sequence):\n",
    "    def __init__(self, base_generator, dataframe, tabular_features):\n",
    "        self.base_generator = base_generator\n",
    "        self.dataframe = dataframe\n",
    "        self.tabular_features = tabular_features\n",
    "\n",
    "    def __len__(self):\n",
    "        return len(self.base_generator)\n",
    "\n",
    "    def __getitem__(self, index):\n",
    "        # Get the image and its label from the base generator\n",
    "        x_img, y_label = self.base_generator[index]\n",
    "\n",
    "        # For the corresponding index, get the tabular data\n",
    "        x_tabular = self.dataframe.iloc[index * self.base_generator.batch_size:\n",
    "                                        (index + 1) * self.base_generator.batch_size][self.tabular_features].values\n",
    "\n",
    "        return [x_img, x_tabular], y_label\n"
   ]
  },
  {
   "cell_type": "code",
   "execution_count": null,
   "metadata": {},
   "outputs": [
    {
     "name": "stdout",
     "output_type": "stream",
     "text": [
      "Found 4554 validated image filenames belonging to 3 classes.\n",
      "Found 1001 validated image filenames belonging to 3 classes.\n"
     ]
    }
   ],
   "source": [
    "# Setting up the Image Data Generator for the train data set\n",
    "\n",
    "datagen_train = MultiInputDataGenerator(\n",
    "    preprocessing_function=lambda x: custom_preprocessing(x, IMAGE_SIZE), # Apply the custom preprocessing function \n",
    "    horizontal_flip=True,        # Randomly flip images horizontally\n",
    "    vertical_flip=True,          # Randomly flip images vertically\n",
    "    zoom_range=0.2,              # Randomly zoom in and out by up to 20%\n",
    "    width_shift_range=0.2,       # Randomly shift images horizontally by up to 20%\n",
    "    height_shift_range=0.2,      # Randomly shift images vertically by up to 20%\n",
    "    rotation_range=30,           # Randomly rotate images by up to 30 degrees\n",
    "    shear_range=0.2,             # Shear intensity (shear angle in radians)\n",
    "    fill_mode='nearest'          # Strategy for filling in newly created pixels after transformations\n",
    ")\n",
    "\n",
    "datagen_validation = MultiInputDataGenerator(\n",
    "    preprocessing_function=lambda x: custom_preprocessing(x, IMAGE_SIZE)\n",
    ")\n",
    "\n",
    "train_data_generator = datagen_train.flow_from_dataframe(\n",
    "    dataframe=train_df,\n",
    "    tabular_features=[\"age\",\"sex\",\"localization\"],\n",
    "    color_mode='rgb',\n",
    "    directory=FILEPATH_JPGS,\n",
    "    target_size=IMAGE_SIZE,\n",
    "    x_col=\"image_id\",\n",
    "    y_col=TARGET_LABEL,\n",
    "    class_mode=\"categorical\",\n",
    "    batch_size=BATCH_SIZE,\n",
    ")\n",
    "\n",
    "validation_generator = datagen_validation.flow_from_dataframe(\n",
    "    dataframe=validation_df,\n",
    "    tabular_features=[\"age\",\"sex\",\"localization\"],\n",
    "    directory=FILEPATH_JPGS,\n",
    "    target_size=IMAGE_SIZE,\n",
    "    color_mode='rgb',\n",
    "    x_col=\"image_id\",\n",
    "    y_col=TARGET_LABEL,\n",
    "    class_mode=\"categorical\",\n",
    "    batch_size=BATCH_SIZE\n",
    ")"
   ]
  },
  {
   "cell_type": "markdown",
   "metadata": {},
   "source": [
    "### Control: Show some images from the train data set after preprocessing"
   ]
  },
  {
   "cell_type": "code",
   "execution_count": null,
   "metadata": {},
   "outputs": [],
   "source": [
    "def show_image_samples(gen):\n",
    "    t_dict = gen.class_indices\n",
    "    classes = list(t_dict.keys())    \n",
    "    images, labels = next(gen)  \n",
    "    plt.figure(figsize=(25, 25))\n",
    "    length = len(labels)\n",
    "    if length < 25:  \n",
    "        r = length\n",
    "    else:\n",
    "        r = 25\n",
    "    for i in range(r):        \n",
    "        plt.subplot(5, 5, i + 1)\n",
    "        image = images[i]  \n",
    "        plt.imshow(image)\n",
    "        index = np.argmax(labels[i])\n",
    "        class_name = classes[index]\n",
    "        plt.title(class_name, color='blue', fontsize=18)\n",
    "        plt.axis('off')\n",
    "    plt.show()"
   ]
  },
  {
   "cell_type": "code",
   "execution_count": null,
   "metadata": {},
   "outputs": [],
   "source": [
    "#images, labels = next(train_data_generator)\n",
    "#print(images.min(), images.max(), images.dtype)"
   ]
  },
  {
   "cell_type": "code",
   "execution_count": null,
   "metadata": {},
   "outputs": [],
   "source": [
    "#show_image_samples(train_data_generator)"
   ]
  },
  {
   "cell_type": "markdown",
   "metadata": {},
   "source": [
    "## ResNet50 Setup\n"
   ]
  },
  {
   "cell_type": "markdown",
   "metadata": {},
   "source": [
    "### Model architecture"
   ]
  },
  {
   "cell_type": "code",
   "execution_count": null,
   "metadata": {},
   "outputs": [],
   "source": [
    "num_classes = train_df[TARGET_LABEL].nunique() \n",
    "\n",
    "# Image Input (ResNet50)\n",
    "image_input = Input(shape=(224, 224, 3))\n",
    "base_model = ResNet50(weights='imagenet', include_top=False, input_tensor=image_input)\n",
    "\n",
    "# Un-Freeze layers in the base model\n",
    "for layer in base_model.layers:\n",
    "    layer.trainable = True\n",
    "\n",
    "x = base_model.output\n",
    "x = Conv2D(64, (3, 3), activation='relu', kernel_regularizer=l2(0.1))(x)\n",
    "x = GlobalAveragePooling2D()(x)\n",
    "image_features = Dense(128, activation='relu', kernel_regularizer=l2(0.1))(x)\n",
    "\n",
    "# Tabular Input\n",
    "tabular_input = Input(shape=(3,))\n",
    "\n",
    "# Normalizing the age\n",
    "normalized_age = age_normalizer(tabular_input[:, 0:1]) # slice it to maintain a 2D shape\n",
    "\n",
    "# One hot encoding the sex, and feeding it to an embedding layer\n",
    "embedding_layer = Embedding(input_dim=2, output_dim=2)\n",
    "embedded_sex = embedding_layer(tabular_input[:, 1])\n",
    "\n",
    "# One Hot encoding the localization, and feeding it to an embedding layer\n",
    "embedding_layer = Embedding(input_dim=15, output_dim=3)\n",
    "embedded_localization = embedding_layer(tabular_input[:, 2])\n",
    "\n",
    "# Combine features from both inputs\n",
    "combined_features = concatenate([image_features, normalized_age, embedded_sex, embedded_localization])\n",
    "\n",
    "# Final Classification\n",
    "x = Dropout(0.5)(combined_features)\n",
    "final_output = Dense(num_classes, activation='softmax', kernel_regularizer=l2(0.1))(x)\n",
    "\n",
    "# Create the final model\n",
    "model = Model(inputs=[image_input, tabular_input], outputs=final_output, name=MODEL_NAME)"
   ]
  },
  {
   "cell_type": "code",
   "execution_count": null,
   "metadata": {},
   "outputs": [],
   "source": [
    "model.compile(\n",
    "    optimizer=Adam_legacy(learning_rate=0.001), \n",
    "    loss='categorical_crossentropy',\n",
    "    metrics=['accuracy', mh.f1_score])\n",
    "\n",
    "# Print model summary\n",
    "#model.summary()"
   ]
  },
  {
   "cell_type": "markdown",
   "metadata": {},
   "source": [
    "### Callback functions"
   ]
  },
  {
   "cell_type": "markdown",
   "metadata": {},
   "source": [
    "#### Learning rate scheduler for model compilation"
   ]
  },
  {
   "cell_type": "code",
   "execution_count": null,
   "metadata": {},
   "outputs": [],
   "source": [
    "# Define a learning rate schedule function\n",
    "def lr_schedule(epoch):\n",
    "    \"\"\"\n",
    "    Learning rate schedule function.\n",
    "    \n",
    "    Args:\n",
    "        epoch (int): The current epoch number.\n",
    "        \n",
    "    Returns:\n",
    "        float: The learning rate for the current epoch.\n",
    "    \"\"\"\n",
    "    initial_lr = 0.0001  # Initial learning rate\n",
    "    drop = 0.5  # Learning rate drop factor\n",
    "    epochs_drop = 5  # Number of epochs after which learning rate will drop\n",
    "\n",
    "    # Calculate the learning rate for the current epoch\n",
    "    lr = initial_lr * math.pow(drop, math.floor((1 + epoch) / epochs_drop))\n",
    "    return lr\n",
    "\n",
    "# Create a LearningRateScheduler callback\n",
    "lr_scheduler = LearningRateScheduler(lr_schedule)"
   ]
  },
  {
   "cell_type": "markdown",
   "metadata": {},
   "source": [
    "#### Early stopping"
   ]
  },
  {
   "cell_type": "code",
   "execution_count": null,
   "metadata": {},
   "outputs": [],
   "source": [
    "# Define the early stopping callback\n",
    "early_stopping = EarlyStopping(\n",
    "    monitor='val_accuracy',  # Metric to monitor for early stopping\n",
    "    patience=8,         # Number of epochs with no improvement to wait before stopping\n",
    "    restore_best_weights=True  # Restore the model weights to the best epoch\n",
    "    # set range in loss function\n",
    ")"
   ]
  },
  {
   "cell_type": "markdown",
   "metadata": {},
   "source": [
    "#### Model checkpoint"
   ]
  },
  {
   "cell_type": "code",
   "execution_count": null,
   "metadata": {},
   "outputs": [],
   "source": [
    "timestamp = datetime.now()\n",
    "\n",
    "best_weights_checkpoint = ModelCheckpoint(\n",
    "    filepath = f'{FILEPATH_MODELS}model_best-epoch_{timestamp}.h5', \n",
    "    save_best_only=True, \n",
    "    save_weights_only=False,\n",
    "    monitor='val_accuracy', \n",
    "    mode='max', \n",
    "    verbose=1\n",
    ")"
   ]
  },
  {
   "cell_type": "markdown",
   "metadata": {},
   "source": [
    "### Class weights "
   ]
  },
  {
   "cell_type": "code",
   "execution_count": null,
   "metadata": {},
   "outputs": [
    {
     "data": {
      "text/plain": [
       "{0: 2.335384615384615, 1: 0.7776639344262295, 2: 0.7776639344262295}"
      ]
     },
     "execution_count": 40,
     "metadata": {},
     "output_type": "execute_result"
    }
   ],
   "source": [
    "class_weights = class_weight.compute_class_weight('balanced',\n",
    "                                                 classes=np.unique(train_df[TARGET_LABEL]),\n",
    "                                                    y=train_df[TARGET_LABEL])\n",
    "class_weights = dict(enumerate(class_weights))\n",
    "class_weights"
   ]
  },
  {
   "cell_type": "markdown",
   "metadata": {},
   "source": [
    "## Model Training"
   ]
  },
  {
   "cell_type": "code",
   "execution_count": null,
   "metadata": {},
   "outputs": [
    {
     "name": "stdout",
     "output_type": "stream",
     "text": [
      "<class 'numpy.ndarray'> float32 (16, 224, 224, 3)\n",
      "<class 'numpy.ndarray'> float64 (16, 3)\n",
      "<class 'numpy.ndarray'> float32 (16, 3)\n"
     ]
    }
   ],
   "source": [
    "iterator = iter(train_data_generator)\n",
    "(inputs, labels) = next(iterator)\n",
    "images, tabular_data = inputs\n",
    "\n",
    "print(type(images), images.dtype, images.shape)\n",
    "print(type(tabular_data), tabular_data.dtype, tabular_data.shape)\n",
    "print(type(labels), labels.dtype, labels.shape)\n"
   ]
  },
  {
   "cell_type": "code",
   "execution_count": null,
   "metadata": {},
   "outputs": [
    {
     "name": "stdout",
     "output_type": "stream",
     "text": [
      "float32 float64 float32\n",
      "[0. 1.]\n",
      "[ 0.  1.  5.  8.  9. 12. 13.]\n"
     ]
    }
   ],
   "source": [
    "(inputs, labels) = next(iterator)\n",
    "images, tabular_data = inputs\n",
    "\n",
    "print(images.dtype, tabular_data.dtype, labels.dtype)\n",
    "print(np.unique(tabular_data[:, 1]))  # Check unique values for 'sex'\n",
    "print(np.unique(tabular_data[:, 2]))  # Check unique values for 'localization'\n"
   ]
  },
  {
   "cell_type": "code",
   "execution_count": null,
   "metadata": {},
   "outputs": [
    {
     "name": "stdout",
     "output_type": "stream",
     "text": [
      "Epoch 1/20\n",
      "285/285 [==============================] - ETA: 0s - loss: 14.8171 - accuracy: 0.6502 - f1_score: 0.6226\n",
      "Epoch 1: val_accuracy improved from -inf to 0.21578, saving model to ../models/model_best-epoch_2023-10-11 23:13:03.000718.h5\n"
     ]
    },
    {
     "name": "stderr",
     "output_type": "stream",
     "text": [
      "/Users/stefanberkenhoff/code/capstone-healthy-skin/.venv/lib/python3.11/site-packages/keras/src/engine/training.py:3000: UserWarning: You are saving your model as an HDF5 file via `model.save()`. This file format is considered legacy. We recommend using instead the native Keras format, e.g. `model.save('my_model.keras')`.\n",
      "  saving_api.save_model(\n"
     ]
    },
    {
     "name": "stdout",
     "output_type": "stream",
     "text": [
      "285/285 [==============================] - 871s 3s/step - loss: 14.8171 - accuracy: 0.6502 - f1_score: 0.6226 - val_loss: 9.9515 - val_accuracy: 0.2158 - val_f1_score: 0.0643 - lr: 1.0000e-04\n",
      "Epoch 2/20\n",
      "285/285 [==============================] - ETA: 0s - loss: 6.9399 - accuracy: 0.7374 - f1_score: 0.7172\n",
      "Epoch 2: val_accuracy improved from 0.21578 to 0.50150, saving model to ../models/model_best-epoch_2023-10-11 23:13:03.000718.h5\n"
     ]
    },
    {
     "name": "stderr",
     "output_type": "stream",
     "text": [
      "/Users/stefanberkenhoff/code/capstone-healthy-skin/.venv/lib/python3.11/site-packages/keras/src/engine/training.py:3000: UserWarning: You are saving your model as an HDF5 file via `model.save()`. This file format is considered legacy. We recommend using instead the native Keras format, e.g. `model.save('my_model.keras')`.\n",
      "  saving_api.save_model(\n"
     ]
    },
    {
     "name": "stdout",
     "output_type": "stream",
     "text": [
      "285/285 [==============================] - 901s 3s/step - loss: 6.9399 - accuracy: 0.7374 - f1_score: 0.7172 - val_loss: 5.6885 - val_accuracy: 0.5015 - val_f1_score: 0.1982 - lr: 1.0000e-04\n",
      "Epoch 3/20\n",
      "285/285 [==============================] - ETA: 0s - loss: 4.1783 - accuracy: 0.7758 - f1_score: 0.7671\n",
      "Epoch 3: val_accuracy improved from 0.50150 to 0.69031, saving model to ../models/model_best-epoch_2023-10-11 23:13:03.000718.h5\n"
     ]
    },
    {
     "name": "stderr",
     "output_type": "stream",
     "text": [
      "/Users/stefanberkenhoff/code/capstone-healthy-skin/.venv/lib/python3.11/site-packages/keras/src/engine/training.py:3000: UserWarning: You are saving your model as an HDF5 file via `model.save()`. This file format is considered legacy. We recommend using instead the native Keras format, e.g. `model.save('my_model.keras')`.\n",
      "  saving_api.save_model(\n"
     ]
    },
    {
     "name": "stdout",
     "output_type": "stream",
     "text": [
      "285/285 [==============================] - 904s 3s/step - loss: 4.1783 - accuracy: 0.7758 - f1_score: 0.7671 - val_loss: 3.7703 - val_accuracy: 0.6903 - val_f1_score: 0.6938 - lr: 1.0000e-04\n",
      "Epoch 4/20\n",
      "285/285 [==============================] - ETA: 0s - loss: 2.7477 - accuracy: 0.7991 - f1_score: 0.7928\n",
      "Epoch 4: val_accuracy did not improve from 0.69031\n",
      "285/285 [==============================] - 910s 3s/step - loss: 2.7477 - accuracy: 0.7991 - f1_score: 0.7928 - val_loss: 2.7518 - val_accuracy: 0.6773 - val_f1_score: 0.6779 - lr: 1.0000e-04\n",
      "Epoch 5/20\n",
      "285/285 [==============================] - ETA: 0s - loss: 1.9791 - accuracy: 0.8474 - f1_score: 0.8405\n",
      "Epoch 5: val_accuracy improved from 0.69031 to 0.84116, saving model to ../models/model_best-epoch_2023-10-11 23:13:03.000718.h5\n"
     ]
    },
    {
     "name": "stderr",
     "output_type": "stream",
     "text": [
      "/Users/stefanberkenhoff/code/capstone-healthy-skin/.venv/lib/python3.11/site-packages/keras/src/engine/training.py:3000: UserWarning: You are saving your model as an HDF5 file via `model.save()`. This file format is considered legacy. We recommend using instead the native Keras format, e.g. `model.save('my_model.keras')`.\n",
      "  saving_api.save_model(\n"
     ]
    },
    {
     "name": "stdout",
     "output_type": "stream",
     "text": [
      "285/285 [==============================] - 902s 3s/step - loss: 1.9791 - accuracy: 0.8474 - f1_score: 0.8405 - val_loss: 1.9150 - val_accuracy: 0.8412 - val_f1_score: 0.8353 - lr: 5.0000e-05\n",
      "Epoch 6/20\n",
      "285/285 [==============================] - ETA: 0s - loss: 1.5895 - accuracy: 0.8685 - f1_score: 0.8652\n",
      "Epoch 6: val_accuracy did not improve from 0.84116\n",
      "285/285 [==============================] - 898s 3s/step - loss: 1.5895 - accuracy: 0.8685 - f1_score: 0.8652 - val_loss: 1.8463 - val_accuracy: 0.7852 - val_f1_score: 0.7797 - lr: 5.0000e-05\n",
      "Epoch 7/20\n",
      "285/285 [==============================] - ETA: 0s - loss: 1.2937 - accuracy: 0.8898 - f1_score: 0.8858\n",
      "Epoch 7: val_accuracy did not improve from 0.84116\n",
      "285/285 [==============================] - 902s 3s/step - loss: 1.2937 - accuracy: 0.8898 - f1_score: 0.8858 - val_loss: 2.0147 - val_accuracy: 0.7493 - val_f1_score: 0.7484 - lr: 5.0000e-05\n",
      "Epoch 8/20\n",
      "285/285 [==============================] - ETA: 0s - loss: 1.0828 - accuracy: 0.8847 - f1_score: 0.8827\n",
      "Epoch 8: val_accuracy did not improve from 0.84116\n",
      "285/285 [==============================] - 905s 3s/step - loss: 1.0828 - accuracy: 0.8847 - f1_score: 0.8827 - val_loss: 1.2936 - val_accuracy: 0.8102 - val_f1_score: 0.8080 - lr: 5.0000e-05\n",
      "Epoch 9/20\n",
      "285/285 [==============================] - ETA: 0s - loss: 0.8880 - accuracy: 0.9005 - f1_score: 0.8944\n",
      "Epoch 9: val_accuracy did not improve from 0.84116\n",
      "285/285 [==============================] - 907s 3s/step - loss: 0.8880 - accuracy: 0.9005 - f1_score: 0.8944 - val_loss: 1.2523 - val_accuracy: 0.7972 - val_f1_score: 0.8015 - lr: 5.0000e-05\n",
      "Epoch 10/20\n",
      "285/285 [==============================] - ETA: 0s - loss: 0.7198 - accuracy: 0.9260 - f1_score: 0.9258\n",
      "Epoch 10: val_accuracy did not improve from 0.84116\n",
      "285/285 [==============================] - 913s 3s/step - loss: 0.7198 - accuracy: 0.9260 - f1_score: 0.9258 - val_loss: 1.1512 - val_accuracy: 0.8192 - val_f1_score: 0.8201 - lr: 2.5000e-05\n",
      "Epoch 11/20\n",
      "285/285 [==============================] - ETA: 0s - loss: 0.6354 - accuracy: 0.9427 - f1_score: 0.9428\n",
      "Epoch 11: val_accuracy did not improve from 0.84116\n",
      "285/285 [==============================] - 901s 3s/step - loss: 0.6354 - accuracy: 0.9427 - f1_score: 0.9428 - val_loss: 1.3516 - val_accuracy: 0.7672 - val_f1_score: 0.7662 - lr: 2.5000e-05\n",
      "Epoch 12/20\n",
      "285/285 [==============================] - ETA: 0s - loss: 0.5778 - accuracy: 0.9464 - f1_score: 0.9452\n",
      "Epoch 12: val_accuracy did not improve from 0.84116\n",
      "285/285 [==============================] - 895s 3s/step - loss: 0.5778 - accuracy: 0.9464 - f1_score: 0.9452 - val_loss: 1.0680 - val_accuracy: 0.8312 - val_f1_score: 0.8310 - lr: 2.5000e-05\n",
      "Epoch 13/20\n",
      "285/285 [==============================] - ETA: 0s - loss: 0.5184 - accuracy: 0.9513 - f1_score: 0.9515\n",
      "Epoch 13: val_accuracy did not improve from 0.84116\n",
      "285/285 [==============================] - 906s 3s/step - loss: 0.5184 - accuracy: 0.9513 - f1_score: 0.9515 - val_loss: 1.3836 - val_accuracy: 0.7582 - val_f1_score: 0.7548 - lr: 2.5000e-05\n"
     ]
    }
   ],
   "source": [
    "# Train the model\n",
    "history = model.fit(\n",
    "    train_data_generator,       # Training data generator\n",
    "    epochs=NUM_EPOCHS,          # Number of training epochs\n",
    "    verbose=1,                  # Verbosity level during training (0, 1, or 2)\n",
    "    batch_size=BATCH_SIZE,      # Batch size for training\n",
    "    callbacks=[\n",
    "        lr_scheduler, \n",
    "        early_stopping,\n",
    "        best_weights_checkpoint],\n",
    "    validation_split=0.0,       # Fraction of the training data to use as validation data (0.0 means no split)\n",
    "    validation_data=validation_generator,  # Validation data generator\n",
    "    shuffle=True,               # Shuffle the training data before each epoch\n",
    "    sample_weight=None,         # Optional sample weights for training data\n",
    "    class_weight=class_weights,  # Optional class weights for loss calculation\n",
    "    initial_epoch=0,            # Initial training epoch (useful for resuming training)\n",
    "    steps_per_epoch=None,       # Number of steps per epoch (default is len(x_train) // batch_size)\n",
    "    validation_steps=None,      # Number of steps for validation (default is len(x_val) // batch_size)\n",
    "    validation_batch_size=None,  # Batch size for validation (default is batch_size)\n",
    "    validation_freq=1,          # Frequency to validate the model on the validation set\n",
    "    max_queue_size=10,          # Maximum size of the generator queue\n",
    "    workers=-1,                 # Maximum number of processes to generate data in parallel (-1 means all CPUs)\n",
    "    use_multiprocessing=False   # Use multiprocessing for data generation (True or False)\n",
    ")"
   ]
  },
  {
   "cell_type": "markdown",
   "metadata": {},
   "source": [
    "## Plotting accuracy and loss of train and validation set"
   ]
  },
  {
   "cell_type": "markdown",
   "metadata": {},
   "source": [
    "#### Plotting Accuracy  of train and validation set"
   ]
  },
  {
   "cell_type": "code",
   "execution_count": null,
   "metadata": {},
   "outputs": [
    {
     "data": {
      "text/plain": [
       "(0.0, 1.0)"
      ]
     },
     "execution_count": 44,
     "metadata": {},
     "output_type": "execute_result"
    },
    {
     "data": {
      "image/png": "[encoded data removed]",
      "text/plain": [
       "<Figure size 640x480 with 1 Axes>"
      ]
     },
     "metadata": {},
     "output_type": "display_data"
    }
   ],
   "source": [
    "# plotting accuracy of train and validation\n",
    "mh.model_plot_accuracy(history)\n",
    "plt.ylim(0,1)"
   ]
  },
  {
   "cell_type": "markdown",
   "metadata": {},
   "source": [
    "#### F1 Score of train and validation set"
   ]
  },
  {
   "cell_type": "code",
   "execution_count": null,
   "metadata": {},
   "outputs": [
    {
     "data": {
      "image/png": "[encoded data removed]",
      "text/plain": [
       "<Figure size 640x480 with 1 Axes>"
      ]
     },
     "metadata": {},
     "output_type": "display_data"
    }
   ],
   "source": [
    "# Assuming you have a variable named 'history' containing the training history\n",
    "# (e.g., history = model.fit(...) where model is your Keras model)\n",
    "# You can access the loss values from 'history.history'\n",
    "\n",
    "# Plot the loss functions\n",
    "plt.plot(history.history['f1_score'], label='Training F1 Score')\n",
    "plt.plot(history.history['val_f1_score'], label='Validation F1 Score')\n",
    "plt.xlabel('Epoch')\n",
    "plt.ylabel('F1 Score')\n",
    "plt.ylim([0, 1])  # Set the y-axis limits as needed\n",
    "plt.legend(loc='lower right')  # You can adjust the legend position\n",
    "plt.show()  # Show the plot"
   ]
  },
  {
   "cell_type": "markdown",
   "metadata": {},
   "source": [
    "#### Plotting Loss of train and validation set"
   ]
  },
  {
   "cell_type": "code",
   "execution_count": null,
   "metadata": {},
   "outputs": [
    {
     "data": {
      "image/png": "[encoded data removed]",
      "text/plain": [
       "<Figure size 640x480 with 1 Axes>"
      ]
     },
     "metadata": {},
     "output_type": "display_data"
    }
   ],
   "source": [
    "plt.plot(history.history['loss'], label='Training Loss')\n",
    "plt.plot(history.history['val_loss'], label='Validation Loss')\n",
    "plt.xlabel('Epoch')\n",
    "plt.ylabel('Loss')\n",
    "plt.ylim([0, 3])  # Set the y-axis limits as needed\n",
    "plt.legend(loc='upper right')  # You can adjust the legend position\n",
    "plt.show()  # Show the plot\n"
   ]
  },
  {
   "cell_type": "markdown",
   "metadata": {},
   "source": [
    "## Evaluating the model on the test set"
   ]
  },
  {
   "cell_type": "code",
   "execution_count": 3,
   "metadata": {},
   "outputs": [],
   "source": [
    "custom_objects = {\n",
    "    'f1_score': mh.f1_score,\n",
    "    'multi_class_focal_loss': mh.focal_loss_multiclass,\n",
    "    #add more if needed\n",
    "}"
   ]
  },
  {
   "cell_type": "code",
   "execution_count": 4,
   "metadata": {},
   "outputs": [],
   "source": [
    "model = load_model(\"./../models/model_best-epoch_2023-10-11 23:13:03.000718.h5\", custom_objects=custom_objects)"
   ]
  },
  {
   "cell_type": "code",
   "execution_count": 5,
   "metadata": {},
   "outputs": [
    {
     "name": "stdout",
     "output_type": "stream",
     "text": [
      " > Evaluating model Resnet50_tertiary_new_setup:\n",
      " > Loading test images...\n",
      " > Test images loaded.\n",
      "\n",
      "\n",
      " > Converting labels to one hot format...\n",
      " > Getting model predictions...\n",
      "32/32 [==============================] - 42s 1s/step\n",
      " > Model predictions obtained.\n",
      " > Macro AUC: 0.9226216964733318\n",
      " > Micro AUC: 0.9478154469504105\n"
     ]
    },
    {
     "data": {
      "image/png": "[encoded data removed]",
      "text/plain": [
       "<Figure size 1000x700 with 2 Axes>"
      ]
     },
     "metadata": {},
     "output_type": "display_data"
    },
    {
     "name": "stdout",
     "output_type": "stream",
     "text": [
      "\n",
      "\n",
      " > Computing classification report...\n",
      "              precision    recall  f1-score   support\n",
      "\n",
      "           0       0.87      0.95      0.91       671\n",
      "           1       0.71      0.63      0.67       196\n",
      "           2       0.75      0.50      0.60       135\n",
      "\n",
      "    accuracy                           0.83      1002\n",
      "   macro avg       0.78      0.69      0.73      1002\n",
      "weighted avg       0.82      0.83      0.82      1002\n",
      "\n",
      " > Evaluating model on test set...\n",
      "32/32 [==============================] - 50s 2s/step - loss: 1.9323 - accuracy: 0.8293 - f1_score: 0.8275\n",
      "loss: 1.932348608970642\n",
      "accuracy: 0.8293412923812866\n",
      "f1_score: 0.8275473117828369\n",
      " > Done.\n"
     ]
    },
    {
     "data": {
      "text/plain": [
       "([{'loss': 1.932348608970642},\n",
       "  {'accuracy': 0.8293412923812866},\n",
       "  {'f1_score': 0.8275473117828369}],\n",
       " array([[640,  21,  10],\n",
       "        [ 60, 124,  12],\n",
       "        [ 38,  30,  67]]),\n",
       " (0.9478154469504105, 0.9226216964733318))"
      ]
     },
     "execution_count": 5,
     "metadata": {},
     "output_type": "execute_result"
    }
   ],
   "source": [
    "mh.model_accuracy_on_test(model, test_df, TARGET_LABEL, IMAGE_SIZE, moredata=True)"
   ]
  },
  {
   "cell_type": "markdown",
   "metadata": {},
   "source": [
    "## Saving the model"
   ]
  },
  {
   "cell_type": "code",
   "execution_count": null,
   "metadata": {},
   "outputs": [
    {
     "name": "stderr",
     "output_type": "stream",
     "text": [
      "/Users/stefanberkenhoff/code/capstone-healthy-skin/.venv/lib/python3.11/site-packages/keras/src/engine/training.py:3000: UserWarning: You are saving your model as an HDF5 file via `model.save()`. This file format is considered legacy. We recommend using instead the native Keras format, e.g. `model.save('my_model.keras')`.\n",
      "  saving_api.save_model(\n"
     ]
    }
   ],
   "source": [
    "timestamp = datetime.now()\n",
    "model_path = f\"{FILEPATH_MODELS}model_last-epoch_{timestamp}.h5\"\n",
    "model.save(model_path)"
   ]
  },
  {
   "cell_type": "markdown",
   "metadata": {},
   "source": [
    "## Optional: Continue training "
   ]
  },
  {
   "cell_type": "code",
   "execution_count": null,
   "metadata": {},
   "outputs": [],
   "source": [
    "# Continue training for another 10 epochs\n",
    "additional_epochs = 10\n",
    "continue_training = False\n",
    "\n",
    "if continue_training:\n",
    "    history_continued = model.fit(\n",
    "        train_data_generator,\n",
    "        steps_per_epoch=None,\n",
    "        epochs=NUM_EPOCHS + additional_epochs,\n",
    "        initial_epoch=NUM_EPOCHS,  # start from the epoch after your last training session\n",
    "        validation_data=validation_generator)\n"
   ]
  },
  {
   "cell_type": "code",
   "execution_count": null,
   "metadata": {},
   "outputs": [],
   "source": [
    "if continue_training:\n",
    "    mh.model_plot_accuracy(history_continued)"
   ]
  },
  {
   "cell_type": "code",
   "execution_count": null,
   "metadata": {},
   "outputs": [],
   "source": [
    "if continue_training:\n",
    "    mh.model_accuracy_on_test(model, test_df, TARGET_LABEL, IMAGE_SIZE)"
   ]
  },
  {
   "cell_type": "code",
   "execution_count": null,
   "metadata": {},
   "outputs": [],
   "source": [
    "if continue_training:\n",
    "    timestamp = datetime.now()\n",
    "    model_path = f\"../models/model_last-epoch_{timestamp}.h5.h5\"\n",
    "    model.save(model_path)"
   ]
  }
 ],
 "metadata": {
  "kernelspec": {
   "display_name": ".venv",
   "language": "python",
   "name": "python3"
  },
  "language_info": {
   "codemirror_mode": {
    "name": "ipython",
    "version": 3
   },
   "file_extension": ".py",
   "mimetype": "text/x-python",
   "name": "python",
   "nbconvert_exporter": "python",
   "pygments_lexer": "ipython3",
   "version": "3.11.3"
  },
  "orig_nbformat": 4
 },
 "nbformat": 4,
 "nbformat_minor": 2
}
