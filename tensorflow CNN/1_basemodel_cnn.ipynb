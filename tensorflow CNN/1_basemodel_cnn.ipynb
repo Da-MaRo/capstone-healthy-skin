{
 "cells": [
  {
   "cell_type": "markdown",
   "metadata": {},
   "source": [
    "# CNN Model Template"
   ]
  },
  {
   "cell_type": "markdown",
   "metadata": {},
   "source": [
    "This notebook is a template for building a CNN model."
   ]
  },
  {
   "cell_type": "markdown",
   "metadata": {},
   "source": [
    "## Imports and inital setup"
   ]
  },
  {
   "cell_type": "code",
   "execution_count": 1,
   "metadata": {},
   "outputs": [],
   "source": [
    "# Imports\n",
    "import pandas as pd\n",
    "\n",
    "from tensorflow.keras.preprocessing.image import ImageDataGenerator\n",
    "import tensorflow as tf\n",
    "\n",
    "import sys\n",
    "\n",
    "sys.path.append(\"..\")\n",
    "from helperfunctions import modelhelper as mh\n",
    "from helperfunctions import imagehelper as ih\n",
    "\n",
    "SEED = 42\n",
    "NUM_EPOCHS = 1\n",
    "\n",
    "# File path variables\n",
    "# please make sure to use the correct path to the meta data file\n",
    "\n",
    "FILEPATH_JPGS = './../data/jpgs/'\n",
    "FILEPATH_PROCESSED=\"./../data/processed/\"\n",
    "FILEPATH_OUTPUT = './../data/jpgs/'  # Replace with your folder path\n",
    "\n",
    "TARGET_LABEL=\"dx\"\n",
    "BALANCE_LABEL=\"dx\"\n",
    "IMAGE_SIZE = (64, 64)"
   ]
  },
  {
   "cell_type": "markdown",
   "metadata": {},
   "source": [
    "### Loading (augmented) metadata as test, train, validation from files"
   ]
  },
  {
   "cell_type": "code",
   "execution_count": 4,
   "metadata": {},
   "outputs": [
    {
     "data": {
      "text/html": [
       "<div>\n",
       "<style scoped>\n",
       "    .dataframe tbody tr th:only-of-type {\n",
       "        vertical-align: middle;\n",
       "    }\n",
       "\n",
       "    .dataframe tbody tr th {\n",
       "        vertical-align: top;\n",
       "    }\n",
       "\n",
       "    .dataframe thead th {\n",
       "        text-align: right;\n",
       "    }\n",
       "</style>\n",
       "<table border=\"1\" class=\"dataframe\">\n",
       "  <thead>\n",
       "    <tr style=\"text-align: right;\">\n",
       "      <th></th>\n",
       "      <th>lesion_id</th>\n",
       "      <th>image_id</th>\n",
       "      <th>dx</th>\n",
       "      <th>dx_type</th>\n",
       "      <th>age</th>\n",
       "      <th>sex</th>\n",
       "      <th>localization</th>\n",
       "      <th>dataset</th>\n",
       "      <th>dx_binary</th>\n",
       "      <th>image_path</th>\n",
       "    </tr>\n",
       "  </thead>\n",
       "  <tbody>\n",
       "    <tr>\n",
       "      <th>10853</th>\n",
       "      <td>HAM_0006770</td>\n",
       "      <td>aug_m7XNUiISIC_0028309.jpg</td>\n",
       "      <td>bkl</td>\n",
       "      <td>consensus</td>\n",
       "      <td>70.0</td>\n",
       "      <td>female</td>\n",
       "      <td>back</td>\n",
       "      <td>vidir_modern</td>\n",
       "      <td>not_skin_cancer</td>\n",
       "      <td>./../data/jpgs/aug_m7XNUiISIC_0028309.jpg</td>\n",
       "    </tr>\n",
       "    <tr>\n",
       "      <th>6986</th>\n",
       "      <td>HAM_0002343</td>\n",
       "      <td>aug_SWyTMHISIC_0028158.jpg</td>\n",
       "      <td>akiec</td>\n",
       "      <td>histo</td>\n",
       "      <td>70.0</td>\n",
       "      <td>female</td>\n",
       "      <td>back</td>\n",
       "      <td>rosendahl</td>\n",
       "      <td>skin_cancer</td>\n",
       "      <td>./../data/jpgs/aug_SWyTMHISIC_0028158.jpg</td>\n",
       "    </tr>\n",
       "    <tr>\n",
       "      <th>10103</th>\n",
       "      <td>HAM_0001781</td>\n",
       "      <td>ISIC_0029823.jpg</td>\n",
       "      <td>bkl</td>\n",
       "      <td>consensus</td>\n",
       "      <td>30.0</td>\n",
       "      <td>female</td>\n",
       "      <td>back</td>\n",
       "      <td>vidir_modern</td>\n",
       "      <td>not_skin_cancer</td>\n",
       "      <td>./../data/jpgs/ISIC_0029823.jpg</td>\n",
       "    </tr>\n",
       "    <tr>\n",
       "      <th>5586</th>\n",
       "      <td>HAM_0002817</td>\n",
       "      <td>aug_IOCy1YISIC_0030255.jpg</td>\n",
       "      <td>mel</td>\n",
       "      <td>histo</td>\n",
       "      <td>70.0</td>\n",
       "      <td>female</td>\n",
       "      <td>upper extremity</td>\n",
       "      <td>rosendahl</td>\n",
       "      <td>skin_cancer</td>\n",
       "      <td>./../data/jpgs/aug_IOCy1YISIC_0030255.jpg</td>\n",
       "    </tr>\n",
       "    <tr>\n",
       "      <th>11874</th>\n",
       "      <td>HAM_0001721</td>\n",
       "      <td>aug_Yc7KG1ISIC_0031181.jpg</td>\n",
       "      <td>bkl</td>\n",
       "      <td>histo</td>\n",
       "      <td>40.0</td>\n",
       "      <td>male</td>\n",
       "      <td>face</td>\n",
       "      <td>rosendahl</td>\n",
       "      <td>not_skin_cancer</td>\n",
       "      <td>./../data/jpgs/aug_Yc7KG1ISIC_0031181.jpg</td>\n",
       "    </tr>\n",
       "    <tr>\n",
       "      <th>10531</th>\n",
       "      <td>HAM_0000728</td>\n",
       "      <td>ISIC_0025286.jpg</td>\n",
       "      <td>bkl</td>\n",
       "      <td>histo</td>\n",
       "      <td>50.0</td>\n",
       "      <td>male</td>\n",
       "      <td>lower extremity</td>\n",
       "      <td>rosendahl</td>\n",
       "      <td>not_skin_cancer</td>\n",
       "      <td>./../data/jpgs/ISIC_0025286.jpg</td>\n",
       "    </tr>\n",
       "    <tr>\n",
       "      <th>1098</th>\n",
       "      <td>HAM_0005015</td>\n",
       "      <td>ISIC_0026355.jpg</td>\n",
       "      <td>nv</td>\n",
       "      <td>follow_up</td>\n",
       "      <td>60.0</td>\n",
       "      <td>male</td>\n",
       "      <td>trunk</td>\n",
       "      <td>vidir_molemax</td>\n",
       "      <td>not_skin_cancer</td>\n",
       "      <td>./../data/jpgs/ISIC_0026355.jpg</td>\n",
       "    </tr>\n",
       "    <tr>\n",
       "      <th>8371</th>\n",
       "      <td>HAM_0004549</td>\n",
       "      <td>aug_nSCkNIISIC_0031201.jpg</td>\n",
       "      <td>vasc</td>\n",
       "      <td>consensus</td>\n",
       "      <td>45.0</td>\n",
       "      <td>male</td>\n",
       "      <td>trunk</td>\n",
       "      <td>vidir_molemax</td>\n",
       "      <td>not_skin_cancer</td>\n",
       "      <td>./../data/jpgs/aug_nSCkNIISIC_0031201.jpg</td>\n",
       "    </tr>\n",
       "    <tr>\n",
       "      <th>11019</th>\n",
       "      <td>HAM_0000581</td>\n",
       "      <td>aug_LfkKUlISIC_0034115.jpg</td>\n",
       "      <td>bkl</td>\n",
       "      <td>histo</td>\n",
       "      <td>40.0</td>\n",
       "      <td>female</td>\n",
       "      <td>chest</td>\n",
       "      <td>vidir_modern</td>\n",
       "      <td>not_skin_cancer</td>\n",
       "      <td>./../data/jpgs/aug_LfkKUlISIC_0034115.jpg</td>\n",
       "    </tr>\n",
       "    <tr>\n",
       "      <th>12013</th>\n",
       "      <td>HAM_0005112</td>\n",
       "      <td>ISIC_0024386.jpg</td>\n",
       "      <td>df</td>\n",
       "      <td>consensus</td>\n",
       "      <td>40.0</td>\n",
       "      <td>female</td>\n",
       "      <td>lower extremity</td>\n",
       "      <td>vidir_molemax</td>\n",
       "      <td>not_skin_cancer</td>\n",
       "      <td>./../data/jpgs/ISIC_0024386.jpg</td>\n",
       "    </tr>\n",
       "    <tr>\n",
       "      <th>2616</th>\n",
       "      <td>HAM_0001296</td>\n",
       "      <td>aug_EtJDMMISIC_0028316.jpg</td>\n",
       "      <td>bcc</td>\n",
       "      <td>histo</td>\n",
       "      <td>60.0</td>\n",
       "      <td>female</td>\n",
       "      <td>lower extremity</td>\n",
       "      <td>rosendahl</td>\n",
       "      <td>skin_cancer</td>\n",
       "      <td>./../data/jpgs/aug_EtJDMMISIC_0028316.jpg</td>\n",
       "    </tr>\n",
       "    <tr>\n",
       "      <th>1416</th>\n",
       "      <td>HAM_0005042</td>\n",
       "      <td>ISIC_0026220.jpg</td>\n",
       "      <td>nv</td>\n",
       "      <td>follow_up</td>\n",
       "      <td>60.0</td>\n",
       "      <td>female</td>\n",
       "      <td>lower extremity</td>\n",
       "      <td>vidir_molemax</td>\n",
       "      <td>not_skin_cancer</td>\n",
       "      <td>./../data/jpgs/ISIC_0026220.jpg</td>\n",
       "    </tr>\n",
       "    <tr>\n",
       "      <th>8626</th>\n",
       "      <td>HAM_0006748</td>\n",
       "      <td>aug_1HJby0ISIC_0025924.jpg</td>\n",
       "      <td>vasc</td>\n",
       "      <td>consensus</td>\n",
       "      <td>30.0</td>\n",
       "      <td>female</td>\n",
       "      <td>lower extremity</td>\n",
       "      <td>vidir_modern</td>\n",
       "      <td>not_skin_cancer</td>\n",
       "      <td>./../data/jpgs/aug_1HJby0ISIC_0025924.jpg</td>\n",
       "    </tr>\n",
       "    <tr>\n",
       "      <th>551</th>\n",
       "      <td>HAM_0006809</td>\n",
       "      <td>ISIC_0031690.jpg</td>\n",
       "      <td>nv</td>\n",
       "      <td>follow_up</td>\n",
       "      <td>40.0</td>\n",
       "      <td>male</td>\n",
       "      <td>abdomen</td>\n",
       "      <td>vidir_molemax</td>\n",
       "      <td>not_skin_cancer</td>\n",
       "      <td>./../data/jpgs/ISIC_0031690.jpg</td>\n",
       "    </tr>\n",
       "    <tr>\n",
       "      <th>2723</th>\n",
       "      <td>HAM_0004685</td>\n",
       "      <td>aug_6M55W3ISIC_0030767.jpg</td>\n",
       "      <td>bcc</td>\n",
       "      <td>histo</td>\n",
       "      <td>75.0</td>\n",
       "      <td>male</td>\n",
       "      <td>scalp</td>\n",
       "      <td>vidir_modern</td>\n",
       "      <td>skin_cancer</td>\n",
       "      <td>./../data/jpgs/aug_6M55W3ISIC_0030767.jpg</td>\n",
       "    </tr>\n",
       "  </tbody>\n",
       "</table>\n",
       "</div>"
      ],
      "text/plain": [
       "         lesion_id                    image_id     dx    dx_type   age   \n",
       "10853  HAM_0006770  aug_m7XNUiISIC_0028309.jpg    bkl  consensus  70.0  \\\n",
       "6986   HAM_0002343  aug_SWyTMHISIC_0028158.jpg  akiec      histo  70.0   \n",
       "10103  HAM_0001781            ISIC_0029823.jpg    bkl  consensus  30.0   \n",
       "5586   HAM_0002817  aug_IOCy1YISIC_0030255.jpg    mel      histo  70.0   \n",
       "11874  HAM_0001721  aug_Yc7KG1ISIC_0031181.jpg    bkl      histo  40.0   \n",
       "10531  HAM_0000728            ISIC_0025286.jpg    bkl      histo  50.0   \n",
       "1098   HAM_0005015            ISIC_0026355.jpg     nv  follow_up  60.0   \n",
       "8371   HAM_0004549  aug_nSCkNIISIC_0031201.jpg   vasc  consensus  45.0   \n",
       "11019  HAM_0000581  aug_LfkKUlISIC_0034115.jpg    bkl      histo  40.0   \n",
       "12013  HAM_0005112            ISIC_0024386.jpg     df  consensus  40.0   \n",
       "2616   HAM_0001296  aug_EtJDMMISIC_0028316.jpg    bcc      histo  60.0   \n",
       "1416   HAM_0005042            ISIC_0026220.jpg     nv  follow_up  60.0   \n",
       "8626   HAM_0006748  aug_1HJby0ISIC_0025924.jpg   vasc  consensus  30.0   \n",
       "551    HAM_0006809            ISIC_0031690.jpg     nv  follow_up  40.0   \n",
       "2723   HAM_0004685  aug_6M55W3ISIC_0030767.jpg    bcc      histo  75.0   \n",
       "\n",
       "          sex     localization        dataset        dx_binary   \n",
       "10853  female             back   vidir_modern  not_skin_cancer  \\\n",
       "6986   female             back      rosendahl      skin_cancer   \n",
       "10103  female             back   vidir_modern  not_skin_cancer   \n",
       "5586   female  upper extremity      rosendahl      skin_cancer   \n",
       "11874    male             face      rosendahl  not_skin_cancer   \n",
       "10531    male  lower extremity      rosendahl  not_skin_cancer   \n",
       "1098     male            trunk  vidir_molemax  not_skin_cancer   \n",
       "8371     male            trunk  vidir_molemax  not_skin_cancer   \n",
       "11019  female            chest   vidir_modern  not_skin_cancer   \n",
       "12013  female  lower extremity  vidir_molemax  not_skin_cancer   \n",
       "2616   female  lower extremity      rosendahl      skin_cancer   \n",
       "1416   female  lower extremity  vidir_molemax  not_skin_cancer   \n",
       "8626   female  lower extremity   vidir_modern  not_skin_cancer   \n",
       "551      male          abdomen  vidir_molemax  not_skin_cancer   \n",
       "2723     male            scalp   vidir_modern      skin_cancer   \n",
       "\n",
       "                                      image_path  \n",
       "10853  ./../data/jpgs/aug_m7XNUiISIC_0028309.jpg  \n",
       "6986   ./../data/jpgs/aug_SWyTMHISIC_0028158.jpg  \n",
       "10103            ./../data/jpgs/ISIC_0029823.jpg  \n",
       "5586   ./../data/jpgs/aug_IOCy1YISIC_0030255.jpg  \n",
       "11874  ./../data/jpgs/aug_Yc7KG1ISIC_0031181.jpg  \n",
       "10531            ./../data/jpgs/ISIC_0025286.jpg  \n",
       "1098             ./../data/jpgs/ISIC_0026355.jpg  \n",
       "8371   ./../data/jpgs/aug_nSCkNIISIC_0031201.jpg  \n",
       "11019  ./../data/jpgs/aug_LfkKUlISIC_0034115.jpg  \n",
       "12013            ./../data/jpgs/ISIC_0024386.jpg  \n",
       "2616   ./../data/jpgs/aug_EtJDMMISIC_0028316.jpg  \n",
       "1416             ./../data/jpgs/ISIC_0026220.jpg  \n",
       "8626   ./../data/jpgs/aug_1HJby0ISIC_0025924.jpg  \n",
       "551              ./../data/jpgs/ISIC_0031690.jpg  \n",
       "2723   ./../data/jpgs/aug_6M55W3ISIC_0030767.jpg  "
      ]
     },
     "execution_count": 4,
     "metadata": {},
     "output_type": "execute_result"
    }
   ],
   "source": [
    "# Read the metadata file\n",
    "train_df = pd.read_csv(FILEPATH_PROCESSED+\"train_from_Metadata_processed.csv\")\n",
    "validation_df = pd.read_csv(FILEPATH_PROCESSED+\"validation_from_Metadata_processed.csv\")\n",
    "test_df = pd.read_csv(FILEPATH_PROCESSED+\"test_from_Metadata_processed.csv\")\n",
    "\n",
    "train_df.sample(15)"
   ]
  },
  {
   "cell_type": "markdown",
   "metadata": {},
   "source": [
    "## Setting up the image data generator for training and validation"
   ]
  },
  {
   "cell_type": "code",
   "execution_count": 2,
   "metadata": {},
   "outputs": [],
   "source": [
    "def custom_preprocessing(np_image, image_size):\n",
    "    np_image = ih.center_crop(np_image, image_size)\n",
    "    np_image = ih.resize_image(np_image, image_size)\n",
    "    return np_image"
   ]
  },
  {
   "cell_type": "code",
   "execution_count": 5,
   "metadata": {},
   "outputs": [
    {
     "name": "stdout",
     "output_type": "stream",
     "text": [
      "Found 2003 validated image filenames belonging to 7 classes.\n",
      "Found 14006 validated image filenames belonging to 7 classes.\n"
     ]
    }
   ],
   "source": [
    "# Setting up the Image Data Generator for the train data set - including augmentation\n",
    "\n",
    "datagen_train = ImageDataGenerator(\n",
    "    preprocessing_function=lambda x: custom_preprocessing(x, IMAGE_SIZE),\n",
    "    rescale=1.0 / 255.0,  # Rescale pixel values to [0, 1], important for CNNs to perform better, deactivate to see images down below\n",
    ")\n",
    "\n",
    "datagen_validation = ImageDataGenerator(\n",
    "    preprocessing_function=lambda x: custom_preprocessing(x, IMAGE_SIZE),\n",
    "    rescale=1.0 / 255.0 #see above\n",
    ")\n",
    "\n",
    "validation_generator = datagen_validation.flow_from_dataframe(\n",
    "    dataframe=validation_df,\n",
    "    directory=FILEPATH_JPGS,\n",
    "    x_col=\"image_id\",\n",
    "    y_col=TARGET_LABEL,\n",
    "    class_mode=\"categorical\",\n",
    "    target_size=IMAGE_SIZE,\n",
    "    batch_size=32\n",
    ")\n",
    "\n",
    "train_data_generator = datagen_train.flow_from_dataframe(\n",
    "        dataframe=train_df,\n",
    "        directory=FILEPATH_JPGS,\n",
    "        x_col=\"image_id\",\n",
    "        y_col=TARGET_LABEL,\n",
    "        class_mode=\"categorical\",\n",
    "        target_size=IMAGE_SIZE,\n",
    "        batch_size=32\n",
    ")"
   ]
  },
  {
   "cell_type": "markdown",
   "metadata": {},
   "source": [
    "# Adding an neural network model to test the data"
   ]
  },
  {
   "cell_type": "markdown",
   "metadata": {},
   "source": [
    "## Simple Model Architecture\n",
    "\n",
    "Source: https://www.tensorflow.org/tutorials/images/cnn (with minor changes)"
   ]
  },
  {
   "cell_type": "code",
   "execution_count": 4,
   "metadata": {},
   "outputs": [
    {
     "name": "stdout",
     "output_type": "stream",
     "text": [
      "Model: \"sequential\"\n",
      "_________________________________________________________________\n",
      " Layer (type)                Output Shape              Param #   \n",
      "=================================================================\n",
      " conv2d (Conv2D)             (None, 62, 62, 32)        896       \n",
      "                                                                 \n",
      " max_pooling2d (MaxPooling2  (None, 31, 31, 32)        0         \n",
      " D)                                                              \n",
      "                                                                 \n",
      " conv2d_1 (Conv2D)           (None, 29, 29, 64)        18496     \n",
      "                                                                 \n",
      " max_pooling2d_1 (MaxPoolin  (None, 14, 14, 64)        0         \n",
      " g2D)                                                            \n",
      "                                                                 \n",
      " conv2d_2 (Conv2D)           (None, 12, 12, 64)        36928     \n",
      "                                                                 \n",
      " flatten (Flatten)           (None, 9216)              0         \n",
      "                                                                 \n",
      " dense (Dense)               (None, 64)                589888    \n",
      "                                                                 \n",
      " dense_1 (Dense)             (None, 7)                 455       \n",
      "                                                                 \n",
      "=================================================================\n",
      "Total params: 646663 (2.47 MB)\n",
      "Trainable params: 646663 (2.47 MB)\n",
      "Non-trainable params: 0 (0.00 Byte)\n",
      "_________________________________________________________________\n"
     ]
    }
   ],
   "source": [
    "# Define super basic neural network architecture\n",
    "model = tf.keras.models.Sequential([\n",
    "    # Input layer\n",
    "    tf.keras.layers.InputLayer(input_shape=(IMAGE_SIZE[0], IMAGE_SIZE[1], 3)),\n",
    "\n",
    "    # Convolutional block 1\n",
    "    tf.keras.layers.Conv2D(32, (3, 3), activation='relu'),\n",
    "    tf.keras.layers.MaxPooling2D(2, 2),\n",
    "\n",
    "    # Convolutional block 2\n",
    "    tf.keras.layers.Conv2D(64, (3, 3), activation='relu'),\n",
    "    tf.keras.layers.MaxPooling2D(2, 2),\n",
    "\n",
    "    # Convolutional block 3\n",
    "    tf.keras.layers.Conv2D(64, (3, 3), activation='relu'),\n",
    "\n",
    "    # Flattening the output of the convolutional layers\n",
    "    tf.keras.layers.Flatten(),\n",
    "\n",
    "    # Dense (fully connected) layers\n",
    "    tf.keras.layers.Dense(64, activation='relu'),\n",
    "\n",
    "    # Output layer\n",
    "    tf.keras.layers.Dense(train_df[TARGET_LABEL].nunique(), activation='softmax')\n",
    "])\n",
    "\n",
    "\n",
    "# Compile the model\n",
    "model.compile(optimizer='adam', loss='binary_crossentropy', metrics=['accuracy'])\n",
    "\n",
    "# Summary of the model architecture\n",
    "model.summary()"
   ]
  },
  {
   "cell_type": "markdown",
   "metadata": {},
   "source": [
    "## Model Training"
   ]
  },
  {
   "cell_type": "code",
   "execution_count": 5,
   "metadata": {},
   "outputs": [
    {
     "name": "stdout",
     "output_type": "stream",
     "text": [
      "44/44 [==============================] - 22s 506ms/step - loss: 0.4361 - accuracy: 0.1568 - val_loss: 0.4312 - val_accuracy: 0.0749\n"
     ]
    }
   ],
   "source": [
    "# Train the model\n",
    "\n",
    "history = model.fit(\n",
    "    train_data_generator,\n",
    "    epochs=NUM_EPOCHS,              \n",
    "    verbose=1,                      # Adjust verbosity level\n",
    "    batch_size=None,                # Set the batch size, default is 32, can be increased to speed up training\n",
    "    callbacks=None,                 # List of callbacks to apply during training \n",
    "    validation_split=0.0,           # not needed as we use a validation data generator\n",
    "    validation_data=validation_generator,\n",
    "    shuffle=True,                   # Shuffle the training data before each epoch\n",
    "    sample_weight=None,             # Set the weights for the train data set !\n",
    "    class_weight=None,              # Set the weights for the classes, not needed if we use sample weights\n",
    "    initial_epoch=0,                # Use this to continue training from a specific epoch\n",
    "    steps_per_epoch=None,           # Set the number of steps per epoch, default is len(x_train) // batch_size\n",
    "    validation_steps=None,          # Set the number of steps for validation, default is len(x_val) // batch_size\n",
    "    validation_batch_size=None,     # Set the batch size for validation, default is batch_size\n",
    "    validation_freq=1,              # Only relevant if validation data is a generator. Set the frequency to validate the model on the validation set\n",
    "    max_queue_size=10,              # Set the max size for the generator queue\n",
    "    workers=-1,                     # Set the max number of processes to generate the data in parallel, -1 means all CPUs\n",
    "    use_multiprocessing=False       # Set to True if you use a generator in parallel, e.g. model.predict_generator()\n",
    ")"
   ]
  },
  {
   "cell_type": "markdown",
   "metadata": {},
   "source": [
    "## Plotting accuracy and loss of train and validation set"
   ]
  },
  {
   "cell_type": "code",
   "execution_count": 6,
   "metadata": {},
   "outputs": [
    {
     "data": {
      "image/png": "[encoded data removed]",
      "text/plain": [
       "<Figure size 640x480 with 1 Axes>"
      ]
     },
     "metadata": {},
     "output_type": "display_data"
    }
   ],
   "source": [
    "mh.model_plot_accuracy(history)"
   ]
  },
  {
   "cell_type": "markdown",
   "metadata": {},
   "source": [
    "## Evaluating the model on the test set"
   ]
  },
  {
   "cell_type": "code",
   "execution_count": 7,
   "metadata": {},
   "outputs": [
    {
     "name": "stdout",
     "output_type": "stream",
     "text": [
      "63/63 - 2s - loss: 65.1376 - accuracy: 0.0704 - 2s/epoch - 36ms/step\n"
     ]
    }
   ],
   "source": [
    "mh.model_accuracy_on_test(model, test_df, TARGET_LABEL, IMAGE_SIZE)"
   ]
  },
  {
   "cell_type": "markdown",
   "metadata": {},
   "source": [
    "## Saving the model"
   ]
  },
  {
   "cell_type": "code",
   "execution_count": 8,
   "metadata": {},
   "outputs": [
    {
     "name": "stderr",
     "output_type": "stream",
     "text": [
      "/Users/stefanberkenhoff/code/capstone-healthy-skin/.venv/lib/python3.11/site-packages/keras/src/engine/training.py:3000: UserWarning: You are saving your model as an HDF5 file via `model.save()`. This file format is considered legacy. We recommend using instead the native Keras format, e.g. `model.save('my_model.keras')`.\n",
      "  saving_api.save_model(\n"
     ]
    }
   ],
   "source": [
    "from datetime import datetime\n",
    "timestamp = datetime.now()\n",
    "model_path = f\"../models/model_{timestamp}.h5\"\n",
    "model.save(model_path)"
   ]
  }
 ],
 "metadata": {
  "kernelspec": {
   "display_name": ".venv",
   "language": "python",
   "name": "python3"
  },
  "language_info": {
   "codemirror_mode": {
    "name": "ipython",
    "version": 3
   },
   "file_extension": ".py",
   "mimetype": "text/x-python",
   "name": "python",
   "nbconvert_exporter": "python",
   "pygments_lexer": "ipython3",
   "version": "3.11.3"
  },
  "orig_nbformat": 4
 },
 "nbformat": 4,
 "nbformat_minor": 2
}
