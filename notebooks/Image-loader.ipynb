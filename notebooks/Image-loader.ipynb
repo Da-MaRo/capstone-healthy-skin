{
 "cells": [
  {
   "cell_type": "markdown",
   "metadata": {},
   "source": [
    "## Imports and inital setup"
   ]
  },
  {
   "cell_type": "code",
   "execution_count": 81,
   "metadata": {},
   "outputs": [],
   "source": [
    "# Imports\n",
    "import pandas as pd\n",
    "\n",
    "from tensorflow.keras.preprocessing.image import ImageDataGenerator\n",
    "import tensorflow as tf\n",
    "\n",
    "from sklearn.model_selection import train_test_split\n",
    "from sklearn.preprocessing import LabelEncoder\n",
    "\n",
    "import matplotlib.pyplot as plt\n",
    "import seaborn as sns\n",
    "\n",
    "import os\n",
    "import random\n",
    "import string\n",
    "import sys\n",
    "\n",
    "SEED = 42\n",
    "MAX_SAMPLES = 1500\n",
    "NUM_CLASSES = 7\n",
    "NUM_EPOCHS = 10\n",
    "\n",
    "# File path variables\n",
    "# please make sure to use the correct path to the meta data file\n",
    "\n",
    "FILEPATH_JPGS = './../data/jpgs/'\n",
    "FILEPATH_METADATA=\"./../data/processed/Metadata_processed.csv\"\n",
    "FILEPATH_OUTPUT = './../data/jpgs/'  # Replace with your folder path\n",
    "TARGET_LABEL=\"dx_binary\"\n",
    "BALANCE_LABEL=\"dx\"\n",
    "IMAGE_SIZE = (224, 224)"
   ]
  },
  {
   "cell_type": "markdown",
   "metadata": {},
   "source": [
    "### Deleting all previously augmented images in advance"
   ]
  },
  {
   "cell_type": "code",
   "execution_count": 82,
   "metadata": {},
   "outputs": [
    {
     "name": "stdout",
     "output_type": "stream",
     "text": [
      "Deleted augmented images with 'aug_' prefix in ./../data/jpgs/\n"
     ]
    }
   ],
   "source": [
    "# Define the bash script as a string\n",
    "bash_script = \"\"\"\n",
    "#!/bin/bash\n",
    "\n",
    "output_folder=\"./../data/jpgs/\" \n",
    "\n",
    "# Delete images with the \"aug_\" prefix\n",
    "find \"$output_folder\" -type f -name \"aug_*\" -delete\n",
    "\n",
    "echo \"Deleted augmented images with 'aug_' prefix in $output_folder\"\n",
    "\"\"\"\n",
    "\n",
    "# Save the bash script to a file\n",
    "with open('delete_augmented_images.sh', 'w') as script_file:\n",
    "    script_file.write(bash_script)\n",
    "\n",
    "# Make the script executable\n",
    "!chmod +x delete_augmented_images.sh\n",
    "\n",
    "# Execute the script\n",
    "!./delete_augmented_images.sh"
   ]
  },
  {
   "cell_type": "markdown",
   "metadata": {},
   "source": [
    "### Loading the metadata file"
   ]
  },
  {
   "cell_type": "code",
   "execution_count": 83,
   "metadata": {},
   "outputs": [
    {
     "data": {
      "text/html": [
       "<div>\n",
       "<style scoped>\n",
       "    .dataframe tbody tr th:only-of-type {\n",
       "        vertical-align: middle;\n",
       "    }\n",
       "\n",
       "    .dataframe tbody tr th {\n",
       "        vertical-align: top;\n",
       "    }\n",
       "\n",
       "    .dataframe thead th {\n",
       "        text-align: right;\n",
       "    }\n",
       "</style>\n",
       "<table border=\"1\" class=\"dataframe\">\n",
       "  <thead>\n",
       "    <tr style=\"text-align: right;\">\n",
       "      <th></th>\n",
       "      <th>lesion_id</th>\n",
       "      <th>image_id</th>\n",
       "      <th>dx</th>\n",
       "      <th>dx_type</th>\n",
       "      <th>age</th>\n",
       "      <th>sex</th>\n",
       "      <th>localization</th>\n",
       "      <th>dataset</th>\n",
       "      <th>dx_binary</th>\n",
       "      <th>image_path</th>\n",
       "    </tr>\n",
       "  </thead>\n",
       "  <tbody>\n",
       "    <tr>\n",
       "      <th>0</th>\n",
       "      <td>HAM_0000118</td>\n",
       "      <td>ISIC_0027419.jpg</td>\n",
       "      <td>bkl</td>\n",
       "      <td>histo</td>\n",
       "      <td>80.0</td>\n",
       "      <td>male</td>\n",
       "      <td>scalp</td>\n",
       "      <td>vidir_modern</td>\n",
       "      <td>not_skin_cancer</td>\n",
       "      <td>./../data/jpgs/ISIC_0027419.jpg</td>\n",
       "    </tr>\n",
       "    <tr>\n",
       "      <th>1</th>\n",
       "      <td>HAM_0000118</td>\n",
       "      <td>ISIC_0025030.jpg</td>\n",
       "      <td>bkl</td>\n",
       "      <td>histo</td>\n",
       "      <td>80.0</td>\n",
       "      <td>male</td>\n",
       "      <td>scalp</td>\n",
       "      <td>vidir_modern</td>\n",
       "      <td>not_skin_cancer</td>\n",
       "      <td>./../data/jpgs/ISIC_0025030.jpg</td>\n",
       "    </tr>\n",
       "    <tr>\n",
       "      <th>2</th>\n",
       "      <td>HAM_0002730</td>\n",
       "      <td>ISIC_0026769.jpg</td>\n",
       "      <td>bkl</td>\n",
       "      <td>histo</td>\n",
       "      <td>80.0</td>\n",
       "      <td>male</td>\n",
       "      <td>scalp</td>\n",
       "      <td>vidir_modern</td>\n",
       "      <td>not_skin_cancer</td>\n",
       "      <td>./../data/jpgs/ISIC_0026769.jpg</td>\n",
       "    </tr>\n",
       "    <tr>\n",
       "      <th>3</th>\n",
       "      <td>HAM_0002730</td>\n",
       "      <td>ISIC_0025661.jpg</td>\n",
       "      <td>bkl</td>\n",
       "      <td>histo</td>\n",
       "      <td>80.0</td>\n",
       "      <td>male</td>\n",
       "      <td>scalp</td>\n",
       "      <td>vidir_modern</td>\n",
       "      <td>not_skin_cancer</td>\n",
       "      <td>./../data/jpgs/ISIC_0025661.jpg</td>\n",
       "    </tr>\n",
       "    <tr>\n",
       "      <th>4</th>\n",
       "      <td>HAM_0001466</td>\n",
       "      <td>ISIC_0031633.jpg</td>\n",
       "      <td>bkl</td>\n",
       "      <td>histo</td>\n",
       "      <td>75.0</td>\n",
       "      <td>male</td>\n",
       "      <td>ear</td>\n",
       "      <td>vidir_modern</td>\n",
       "      <td>not_skin_cancer</td>\n",
       "      <td>./../data/jpgs/ISIC_0031633.jpg</td>\n",
       "    </tr>\n",
       "  </tbody>\n",
       "</table>\n",
       "</div>"
      ],
      "text/plain": [
       "     lesion_id          image_id   dx dx_type   age   sex localization   \n",
       "0  HAM_0000118  ISIC_0027419.jpg  bkl   histo  80.0  male        scalp  \\\n",
       "1  HAM_0000118  ISIC_0025030.jpg  bkl   histo  80.0  male        scalp   \n",
       "2  HAM_0002730  ISIC_0026769.jpg  bkl   histo  80.0  male        scalp   \n",
       "3  HAM_0002730  ISIC_0025661.jpg  bkl   histo  80.0  male        scalp   \n",
       "4  HAM_0001466  ISIC_0031633.jpg  bkl   histo  75.0  male          ear   \n",
       "\n",
       "        dataset        dx_binary                       image_path  \n",
       "0  vidir_modern  not_skin_cancer  ./../data/jpgs/ISIC_0027419.jpg  \n",
       "1  vidir_modern  not_skin_cancer  ./../data/jpgs/ISIC_0025030.jpg  \n",
       "2  vidir_modern  not_skin_cancer  ./../data/jpgs/ISIC_0026769.jpg  \n",
       "3  vidir_modern  not_skin_cancer  ./../data/jpgs/ISIC_0025661.jpg  \n",
       "4  vidir_modern  not_skin_cancer  ./../data/jpgs/ISIC_0031633.jpg  "
      ]
     },
     "execution_count": 83,
     "metadata": {},
     "output_type": "execute_result"
    }
   ],
   "source": [
    "# Read the metadata file\n",
    "metadata = pd.read_csv(FILEPATH_METADATA)\n",
    "\n",
    "# Concatenate the base directory with the image filename to add the full path\n",
    "metadata['image_path'] = FILEPATH_JPGS + metadata['image_id']\n",
    "\n",
    "metadata.head()"
   ]
  },
  {
   "cell_type": "markdown",
   "metadata": {},
   "source": [
    "# Splitting the data in train, validation and test sets"
   ]
  },
  {
   "cell_type": "code",
   "execution_count": 84,
   "metadata": {},
   "outputs": [
    {
     "data": {
      "text/plain": [
       "(6009, 10)"
      ]
     },
     "metadata": {},
     "output_type": "display_data"
    },
    {
     "data": {
      "text/plain": [
       "(2003, 10)"
      ]
     },
     "metadata": {},
     "output_type": "display_data"
    },
    {
     "data": {
      "text/plain": [
       "(2003, 10)"
      ]
     },
     "metadata": {},
     "output_type": "display_data"
    }
   ],
   "source": [
    "# Splitting the data into train, validation and test using train_test_split\n",
    "\n",
    "# Split the data into two subsets: train and temp (60% train, 40% temp)\n",
    "train_df, temp_df = train_test_split(metadata, test_size=0.4, stratify=metadata[TARGET_LABEL], random_state=SEED)\n",
    "\n",
    "# Split the temp data into validation and test sets (50% each)\n",
    "validation_df, test_df = train_test_split(temp_df, test_size=0.5, stratify=temp_df[TARGET_LABEL], random_state=SEED)\n",
    "\n",
    "# resetting the index\n",
    "train_df = train_df.reset_index(drop=True)\n",
    "validation_df = validation_df.reset_index(drop=True)\n",
    "test_df = test_df.reset_index(drop=True)\n",
    "\n",
    "display(\n",
    "    train_df.shape,\n",
    "    validation_df.shape,\n",
    "    test_df.shape\n",
    ")"
   ]
  },
  {
   "cell_type": "markdown",
   "metadata": {},
   "source": [
    "# Tackling Class imbalances in the training set"
   ]
  },
  {
   "cell_type": "markdown",
   "metadata": {},
   "source": [
    "## Setting up the image data generator for training"
   ]
  },
  {
   "cell_type": "code",
   "execution_count": 85,
   "metadata": {},
   "outputs": [],
   "source": [
    "# Setting up the Image Data Generator for the train data set - including augmentation\n",
    "\n",
    "datagen_train = ImageDataGenerator(\n",
    "    rescale=1.0 / 255.0,  # Rescale pixel values to [0, 1], important for CNNs to perform better, deactivate to see images down below\n",
    ")\n",
    "\n",
    "datagen_augment = ImageDataGenerator(\n",
    "    rotation_range=40,   # Randomly rotate images by up to 40 degrees\n",
    "    width_shift_range=0.2,  # Randomly shift the width by up to 20%\n",
    "    height_shift_range=0.2, # Randomly shift the height by up to 20%\n",
    "    shear_range=0.2,     # Apply shear transformations\n",
    "    zoom_range=0.2,      # Apply zoom transformations\n",
    "    horizontal_flip=True, # Randomly flip images horizontally\n",
    "    fill_mode='nearest'  # Fill in missing pixels with the nearest value\n",
    ")\n",
    "\n",
    "# Create an ImageDataGenerator for validation data (no augmentation)\n",
    "\n",
    "datagen_validation = ImageDataGenerator(\n",
    "    rescale=1.0 / 255.0 #see above\n",
    ")\n"
   ]
  },
  {
   "cell_type": "markdown",
   "metadata": {},
   "source": [
    "### Helper Function: Load images from directory and return as numpy array"
   ]
  },
  {
   "cell_type": "code",
   "execution_count": 86,
   "metadata": {},
   "outputs": [],
   "source": [
    "from PIL import Image\n",
    "import numpy as np\n",
    "\n",
    "def load_and_preprocess_image(image_path, target_size=IMAGE_SIZE):\n",
    "    # Load the image using PIL\n",
    "    image = Image.open(image_path)\n",
    "    \n",
    "    # Resize the image to the target size\n",
    "    image = image.resize(target_size)\n",
    "    \n",
    "    # Convert the PIL image to a NumPy array\n",
    "    image_array = np.array(image)\n",
    "    \n",
    "    # Perform any additional preprocessing steps here\n",
    "    # For example, you can normalize pixel values to [0, 1]\n",
    "    # image_array = image_array / 255.0\n",
    "    \n",
    "    return image_array"
   ]
  },
  {
   "cell_type": "markdown",
   "metadata": {},
   "source": [
    "### Helper Function: Generate hash-string"
   ]
  },
  {
   "cell_type": "code",
   "execution_count": 87,
   "metadata": {},
   "outputs": [],
   "source": [
    "# Define a function to generate a random string for image ID prefixes\n",
    "def generate_random_string(length=6):\n",
    "    letters_and_digits = string.ascii_letters + string.digits\n",
    "    return ''.join(random.choice(letters_and_digits) for i in range(length))"
   ]
  },
  {
   "cell_type": "markdown",
   "metadata": {},
   "source": [
    "## Preparing data for augmentation"
   ]
  },
  {
   "cell_type": "code",
   "execution_count": 88,
   "metadata": {},
   "outputs": [
    {
     "name": "stdout",
     "output_type": "stream",
     "text": [
      "Class bkl has 660 samples\n",
      "Class mel has 654 samples\n",
      "Class nv has 4018 samples\n",
      "Class akiec has 203 samples\n",
      "Class bcc has 315 samples\n",
      "Class df has 77 samples\n",
      "Class vasc has 82 samples\n"
     ]
    }
   ],
   "source": [
    "# Create separate DataFrames for each class \n",
    "\n",
    "class_dataframes = {}\n",
    "for class_label in train_df[BALANCE_LABEL].unique():\n",
    "    class_dataframes[class_label] = train_df[train_df[BALANCE_LABEL] == class_label]\n",
    "    print(f\"Class {class_label} has {class_dataframes[class_label].shape[0]} samples\")\n",
    "    #display(class_dataframes[class_label].head())"
   ]
  },
  {
   "cell_type": "code",
   "execution_count": 89,
   "metadata": {},
   "outputs": [
    {
     "name": "stdout",
     "output_type": "stream",
     "text": [
      "\n",
      "Checking class bkl...\n",
      "> Result: Class bkl needs 840 more images\n",
      "Progress: 840/840\n",
      "Checking class mel...\n",
      "> Result: Class mel needs 846 more images\n",
      "Progress: 846/846\n",
      "Checking class nv...\n",
      "> Result: Class nv was reduced to 1500 samples\n",
      "\n",
      "Checking class akiec...\n",
      "> Result: Class akiec needs 1297 more images\n",
      "Progress: 1297/1297\n",
      "Checking class bcc...\n",
      "> Result: Class bcc needs 1185 more images\n",
      "Progress: 1185/1185\n",
      "Checking class df...\n",
      "> Result: Class df needs 1423 more images\n",
      "Progress: 1423/1423\n",
      "Checking class vasc...\n",
      "> Result: Class vasc needs 1418 more images\n",
      "Progress: 1418/1418"
     ]
    },
    {
     "data": {
      "text/plain": [
       "(10506, 10)"
      ]
     },
     "execution_count": 89,
     "metadata": {},
     "output_type": "execute_result"
    }
   ],
   "source": [
    "# Initialize a dictionary to keep track of the number of augmented images per class\n",
    "class_augmentation_counts = {class_label: 0 for class_label in class_dataframes.keys()}\n",
    "\n",
    "# Create a list to store DataFrames for each class\n",
    "augmented_dataframes = []\n",
    "\n",
    "# Apply data augmentation for classes with few examples, trim classes with too many examples\n",
    "for class_label, class_df in class_dataframes.items():\n",
    "    \n",
    "    # Describing the overall progress\n",
    "    print(f\"\\nChecking class {class_label}...\")\n",
    "\n",
    "    # Check if the class has already reached the maximum number of augmented images // TO BE DELETED\n",
    "    #if class_augmentation_counts[class_label] >= MAX_SAMPLES:\n",
    "    #    continue\n",
    "\n",
    "    # Calculate the number of images needed to reach MAX_SAMPLES for this class\n",
    "    images_needed = MAX_SAMPLES - class_df.shape[0]\n",
    "    \n",
    "    # If images_needed is negative, randomly select MAX_SAMPLES from the class_df\n",
    "    if images_needed < 0:\n",
    "        print(f\"> Result: Class {class_label} was reduced to {MAX_SAMPLES} samples\")\n",
    "        reduced_df = class_df.sample(n=MAX_SAMPLES, random_state=SEED)\n",
    "        augmented_dataframes.append(reduced_df)\n",
    "        continue\n",
    "    # If images_needed is zero, skip this class\n",
    "    elif images_needed == 0:\n",
    "        print(f\"> Result: Class {class_label} already has exactly {MAX_SAMPLES} samples\")\n",
    "        augmented_dataframes.append(class_df)\n",
    "        continue\n",
    "\n",
    "    # Generate augmented data - this part only runs if images_needed is positive\n",
    "    print(f\"> Result: Class {class_label} needs {images_needed} more images\")\n",
    "    augmented_dataframes.append(class_df)\n",
    "\n",
    "    while class_augmentation_counts[class_label] <= images_needed:\n",
    "\n",
    "        # Describing the subprocess progress for each class\n",
    "        sys.stdout.write(f\"\\rProgress: {class_augmentation_counts[class_label]}/{images_needed}\")\n",
    "        sys.stdout.flush()\n",
    "\n",
    "        # Randomly select an image from the class_df\n",
    "        i = random.randint(0, class_df.shape[0] - 1)\n",
    "        image_path = class_df.iloc[i]['image_path']\n",
    "\n",
    "        # Load and preprocess the image\n",
    "        img = load_and_preprocess_image(image_path)\n",
    "\n",
    "        # Apply data augmentation via generator\n",
    "        augmented_img = datagen_augment.random_transform(img)\n",
    "\n",
    "        # Create a new image ID with prefix\n",
    "        augmented_image_id = f'aug_{generate_random_string()}' + os.path.basename(image_path)\n",
    "\n",
    "        # Create a new image path with the augmented image ID as string\n",
    "        augmented_image_path = FILEPATH_JPGS + augmented_image_id\n",
    "        \n",
    "        # Create a new DataFrame for the augmented data for this instance only\n",
    "        augmented_instance_df = class_df.iloc[i:i+1].copy()\n",
    "        \n",
    "        # Reset the index of the new DataFrame\n",
    "        augmented_instance_df.reset_index(drop=True, inplace=True)\n",
    "\n",
    "        # Update the \"image_id\" column with the augmented image ID\n",
    "        augmented_instance_df.at[0, 'image_id'] = augmented_image_id\n",
    "        \n",
    "        # Update the \"image_path\" column with the augmented image path\n",
    "        augmented_instance_df.at[0, 'image_path'] = augmented_image_path\n",
    "        \n",
    "        # Append the augmented DataFrame for this instance to the list\n",
    "        augmented_dataframes.append(augmented_instance_df)\n",
    "\n",
    "        # Save the augmented image to the output folder\n",
    "        augmented_image_path = os.path.join(FILEPATH_OUTPUT, augmented_image_id)\n",
    "        plt.imsave(augmented_image_path, augmented_img)\n",
    "\n",
    "        # Update the counter for the class\n",
    "        class_augmentation_counts[class_label] += 1\n",
    "\n",
    "        #if class_augmentation_counts[class_label] > 18:\n",
    "        #    break\n",
    "\n",
    "# Combine all augmented DataFrames into a single DataFrame\n",
    "balanced_train_df = pd.concat(augmented_dataframes, ignore_index=True)\n",
    "\n",
    "balanced_train_df.shape\n"
   ]
  },
  {
   "cell_type": "code",
   "execution_count": 90,
   "metadata": {},
   "outputs": [
    {
     "data": {
      "text/plain": [
       "dx_binary\n",
       "not_skin_cancer    6003\n",
       "skin_cancer        4503\n",
       "Name: count, dtype: int64"
      ]
     },
     "execution_count": 90,
     "metadata": {},
     "output_type": "execute_result"
    }
   ],
   "source": [
    "# counting the number of samples per class\n",
    "balanced_train_df[TARGET_LABEL].value_counts()"
   ]
  },
  {
   "cell_type": "markdown",
   "metadata": {},
   "source": [
    "### Helper Function: Checking the image file folder"
   ]
  },
  {
   "cell_type": "code",
   "execution_count": 91,
   "metadata": {},
   "outputs": [
    {
     "name": "stdout",
     "output_type": "stream",
     "text": [
      "Total files in folder: 17030\n",
      "Files starting with 'aug_': 7015\n"
     ]
    }
   ],
   "source": [
    "# Checking what's going on in the fleder\n",
    "\n",
    "def count_files_in_folder(folder_path):\n",
    "    # Initialize counters\n",
    "    total_files = 0\n",
    "    aug_files = 0\n",
    "\n",
    "    # Check if the folder exists\n",
    "    if os.path.exists(folder_path):\n",
    "        # List all files in the folder\n",
    "        files = os.listdir(folder_path)\n",
    "        \n",
    "        # Count all files and files starting with \"aug_\"\n",
    "        for file in files:\n",
    "            total_files += 1\n",
    "            if file.startswith(\"aug_\"):\n",
    "                aug_files += 1\n",
    "\n",
    "        # Display the counts\n",
    "        print(f\"Total files in folder: {total_files}\")\n",
    "        print(f\"Files starting with 'aug_': {aug_files}\")\n",
    "    else:\n",
    "        print(f\"Folder '{folder_path}' does not exist.\")\n",
    "\n",
    "# Example usage:\n",
    "folder_path = \"./../data/jpgs/\"  # Replace with your folder path\n",
    "count_files_in_folder(folder_path)\n"
   ]
  },
  {
   "cell_type": "code",
   "execution_count": 92,
   "metadata": {},
   "outputs": [
    {
     "data": {
      "text/html": [
       "<div>\n",
       "<style scoped>\n",
       "    .dataframe tbody tr th:only-of-type {\n",
       "        vertical-align: middle;\n",
       "    }\n",
       "\n",
       "    .dataframe tbody tr th {\n",
       "        vertical-align: top;\n",
       "    }\n",
       "\n",
       "    .dataframe thead th {\n",
       "        text-align: right;\n",
       "    }\n",
       "</style>\n",
       "<table border=\"1\" class=\"dataframe\">\n",
       "  <thead>\n",
       "    <tr style=\"text-align: right;\">\n",
       "      <th></th>\n",
       "      <th>lesion_id</th>\n",
       "      <th>image_id</th>\n",
       "      <th>dx</th>\n",
       "      <th>dx_type</th>\n",
       "      <th>age</th>\n",
       "      <th>sex</th>\n",
       "      <th>localization</th>\n",
       "      <th>dataset</th>\n",
       "      <th>dx_binary</th>\n",
       "      <th>image_path</th>\n",
       "    </tr>\n",
       "  </thead>\n",
       "  <tbody>\n",
       "    <tr>\n",
       "      <th>4799</th>\n",
       "      <td>HAM_0006560</td>\n",
       "      <td>aug_yiOOTgISIC_0027802.jpg</td>\n",
       "      <td>akiec</td>\n",
       "      <td>histo</td>\n",
       "      <td>50.0</td>\n",
       "      <td>male</td>\n",
       "      <td>face</td>\n",
       "      <td>rosendahl</td>\n",
       "      <td>skin_cancer</td>\n",
       "      <td>./../data/jpgs/aug_yiOOTgISIC_0027802.jpg</td>\n",
       "    </tr>\n",
       "    <tr>\n",
       "      <th>9723</th>\n",
       "      <td>HAM_0002914</td>\n",
       "      <td>aug_dPkGx7ISIC_0026092.jpg</td>\n",
       "      <td>vasc</td>\n",
       "      <td>histo</td>\n",
       "      <td>75.0</td>\n",
       "      <td>male</td>\n",
       "      <td>upper extremity</td>\n",
       "      <td>vidir_modern</td>\n",
       "      <td>not_skin_cancer</td>\n",
       "      <td>./../data/jpgs/aug_dPkGx7ISIC_0026092.jpg</td>\n",
       "    </tr>\n",
       "    <tr>\n",
       "      <th>5962</th>\n",
       "      <td>HAM_0005389</td>\n",
       "      <td>aug_JoAxGwISIC_0024372.jpg</td>\n",
       "      <td>akiec</td>\n",
       "      <td>histo</td>\n",
       "      <td>70.0</td>\n",
       "      <td>male</td>\n",
       "      <td>lower extremity</td>\n",
       "      <td>rosendahl</td>\n",
       "      <td>skin_cancer</td>\n",
       "      <td>./../data/jpgs/aug_JoAxGwISIC_0024372.jpg</td>\n",
       "    </tr>\n",
       "    <tr>\n",
       "      <th>5658</th>\n",
       "      <td>HAM_0002648</td>\n",
       "      <td>aug_500DcqISIC_0027650.jpg</td>\n",
       "      <td>akiec</td>\n",
       "      <td>histo</td>\n",
       "      <td>40.0</td>\n",
       "      <td>male</td>\n",
       "      <td>neck</td>\n",
       "      <td>rosendahl</td>\n",
       "      <td>skin_cancer</td>\n",
       "      <td>./../data/jpgs/aug_500DcqISIC_0027650.jpg</td>\n",
       "    </tr>\n",
       "    <tr>\n",
       "      <th>10459</th>\n",
       "      <td>HAM_0006889</td>\n",
       "      <td>aug_1bNS1MISIC_0031270.jpg</td>\n",
       "      <td>vasc</td>\n",
       "      <td>histo</td>\n",
       "      <td>20.0</td>\n",
       "      <td>male</td>\n",
       "      <td>upper extremity</td>\n",
       "      <td>vidir_modern</td>\n",
       "      <td>not_skin_cancer</td>\n",
       "      <td>./../data/jpgs/aug_1bNS1MISIC_0031270.jpg</td>\n",
       "    </tr>\n",
       "    <tr>\n",
       "      <th>8192</th>\n",
       "      <td>HAM_0003081</td>\n",
       "      <td>aug_U8ngGmISIC_0033847.jpg</td>\n",
       "      <td>df</td>\n",
       "      <td>consensus</td>\n",
       "      <td>45.0</td>\n",
       "      <td>male</td>\n",
       "      <td>abdomen</td>\n",
       "      <td>vidir_modern</td>\n",
       "      <td>not_skin_cancer</td>\n",
       "      <td>./../data/jpgs/aug_U8ngGmISIC_0033847.jpg</td>\n",
       "    </tr>\n",
       "    <tr>\n",
       "      <th>10187</th>\n",
       "      <td>HAM_0003480</td>\n",
       "      <td>aug_hONJOYISIC_0033844.jpg</td>\n",
       "      <td>vasc</td>\n",
       "      <td>consensus</td>\n",
       "      <td>70.0</td>\n",
       "      <td>female</td>\n",
       "      <td>lower extremity</td>\n",
       "      <td>vidir_modern</td>\n",
       "      <td>not_skin_cancer</td>\n",
       "      <td>./../data/jpgs/aug_hONJOYISIC_0033844.jpg</td>\n",
       "    </tr>\n",
       "    <tr>\n",
       "      <th>3967</th>\n",
       "      <td>HAM_0004802</td>\n",
       "      <td>ISIC_0026551.jpg</td>\n",
       "      <td>nv</td>\n",
       "      <td>histo</td>\n",
       "      <td>45.0</td>\n",
       "      <td>female</td>\n",
       "      <td>back</td>\n",
       "      <td>rosendahl</td>\n",
       "      <td>not_skin_cancer</td>\n",
       "      <td>./../data/jpgs/ISIC_0026551.jpg</td>\n",
       "    </tr>\n",
       "    <tr>\n",
       "      <th>7081</th>\n",
       "      <td>HAM_0003328</td>\n",
       "      <td>aug_4NrMwSISIC_0031489.jpg</td>\n",
       "      <td>bcc</td>\n",
       "      <td>histo</td>\n",
       "      <td>55.0</td>\n",
       "      <td>female</td>\n",
       "      <td>back</td>\n",
       "      <td>vidir_modern</td>\n",
       "      <td>skin_cancer</td>\n",
       "      <td>./../data/jpgs/aug_4NrMwSISIC_0031489.jpg</td>\n",
       "    </tr>\n",
       "    <tr>\n",
       "      <th>8501</th>\n",
       "      <td>HAM_0007410</td>\n",
       "      <td>aug_lDCpDOISIC_0031457.jpg</td>\n",
       "      <td>df</td>\n",
       "      <td>histo</td>\n",
       "      <td>65.0</td>\n",
       "      <td>male</td>\n",
       "      <td>foot</td>\n",
       "      <td>rosendahl</td>\n",
       "      <td>not_skin_cancer</td>\n",
       "      <td>./../data/jpgs/aug_lDCpDOISIC_0031457.jpg</td>\n",
       "    </tr>\n",
       "    <tr>\n",
       "      <th>1558</th>\n",
       "      <td>HAM_0007245</td>\n",
       "      <td>ISIC_0032870.jpg</td>\n",
       "      <td>mel</td>\n",
       "      <td>histo</td>\n",
       "      <td>85.0</td>\n",
       "      <td>male</td>\n",
       "      <td>upper extremity</td>\n",
       "      <td>vidir_modern</td>\n",
       "      <td>skin_cancer</td>\n",
       "      <td>./../data/jpgs/ISIC_0032870.jpg</td>\n",
       "    </tr>\n",
       "    <tr>\n",
       "      <th>7326</th>\n",
       "      <td>HAM_0003991</td>\n",
       "      <td>aug_78iIp2ISIC_0029602.jpg</td>\n",
       "      <td>bcc</td>\n",
       "      <td>histo</td>\n",
       "      <td>60.0</td>\n",
       "      <td>female</td>\n",
       "      <td>back</td>\n",
       "      <td>rosendahl</td>\n",
       "      <td>skin_cancer</td>\n",
       "      <td>./../data/jpgs/aug_78iIp2ISIC_0029602.jpg</td>\n",
       "    </tr>\n",
       "    <tr>\n",
       "      <th>4563</th>\n",
       "      <td>HAM_0000982</td>\n",
       "      <td>ISIC_0032356.jpg</td>\n",
       "      <td>akiec</td>\n",
       "      <td>histo</td>\n",
       "      <td>60.0</td>\n",
       "      <td>male</td>\n",
       "      <td>lower extremity</td>\n",
       "      <td>rosendahl</td>\n",
       "      <td>skin_cancer</td>\n",
       "      <td>./../data/jpgs/ISIC_0032356.jpg</td>\n",
       "    </tr>\n",
       "    <tr>\n",
       "      <th>1357</th>\n",
       "      <td>HAM_0003260</td>\n",
       "      <td>aug_8bAWoRISIC_0029345.jpg</td>\n",
       "      <td>bkl</td>\n",
       "      <td>consensus</td>\n",
       "      <td>80.0</td>\n",
       "      <td>male</td>\n",
       "      <td>back</td>\n",
       "      <td>vidir_molemax</td>\n",
       "      <td>not_skin_cancer</td>\n",
       "      <td>./../data/jpgs/aug_8bAWoRISIC_0029345.jpg</td>\n",
       "    </tr>\n",
       "    <tr>\n",
       "      <th>5111</th>\n",
       "      <td>HAM_0000552</td>\n",
       "      <td>aug_CZk0gVISIC_0028872.jpg</td>\n",
       "      <td>akiec</td>\n",
       "      <td>histo</td>\n",
       "      <td>55.0</td>\n",
       "      <td>male</td>\n",
       "      <td>lower extremity</td>\n",
       "      <td>rosendahl</td>\n",
       "      <td>skin_cancer</td>\n",
       "      <td>./../data/jpgs/aug_CZk0gVISIC_0028872.jpg</td>\n",
       "    </tr>\n",
       "  </tbody>\n",
       "</table>\n",
       "</div>"
      ],
      "text/plain": [
       "         lesion_id                    image_id     dx    dx_type   age   \n",
       "4799   HAM_0006560  aug_yiOOTgISIC_0027802.jpg  akiec      histo  50.0  \\\n",
       "9723   HAM_0002914  aug_dPkGx7ISIC_0026092.jpg   vasc      histo  75.0   \n",
       "5962   HAM_0005389  aug_JoAxGwISIC_0024372.jpg  akiec      histo  70.0   \n",
       "5658   HAM_0002648  aug_500DcqISIC_0027650.jpg  akiec      histo  40.0   \n",
       "10459  HAM_0006889  aug_1bNS1MISIC_0031270.jpg   vasc      histo  20.0   \n",
       "8192   HAM_0003081  aug_U8ngGmISIC_0033847.jpg     df  consensus  45.0   \n",
       "10187  HAM_0003480  aug_hONJOYISIC_0033844.jpg   vasc  consensus  70.0   \n",
       "3967   HAM_0004802            ISIC_0026551.jpg     nv      histo  45.0   \n",
       "7081   HAM_0003328  aug_4NrMwSISIC_0031489.jpg    bcc      histo  55.0   \n",
       "8501   HAM_0007410  aug_lDCpDOISIC_0031457.jpg     df      histo  65.0   \n",
       "1558   HAM_0007245            ISIC_0032870.jpg    mel      histo  85.0   \n",
       "7326   HAM_0003991  aug_78iIp2ISIC_0029602.jpg    bcc      histo  60.0   \n",
       "4563   HAM_0000982            ISIC_0032356.jpg  akiec      histo  60.0   \n",
       "1357   HAM_0003260  aug_8bAWoRISIC_0029345.jpg    bkl  consensus  80.0   \n",
       "5111   HAM_0000552  aug_CZk0gVISIC_0028872.jpg  akiec      histo  55.0   \n",
       "\n",
       "          sex     localization        dataset        dx_binary   \n",
       "4799     male             face      rosendahl      skin_cancer  \\\n",
       "9723     male  upper extremity   vidir_modern  not_skin_cancer   \n",
       "5962     male  lower extremity      rosendahl      skin_cancer   \n",
       "5658     male             neck      rosendahl      skin_cancer   \n",
       "10459    male  upper extremity   vidir_modern  not_skin_cancer   \n",
       "8192     male          abdomen   vidir_modern  not_skin_cancer   \n",
       "10187  female  lower extremity   vidir_modern  not_skin_cancer   \n",
       "3967   female             back      rosendahl  not_skin_cancer   \n",
       "7081   female             back   vidir_modern      skin_cancer   \n",
       "8501     male             foot      rosendahl  not_skin_cancer   \n",
       "1558     male  upper extremity   vidir_modern      skin_cancer   \n",
       "7326   female             back      rosendahl      skin_cancer   \n",
       "4563     male  lower extremity      rosendahl      skin_cancer   \n",
       "1357     male             back  vidir_molemax  not_skin_cancer   \n",
       "5111     male  lower extremity      rosendahl      skin_cancer   \n",
       "\n",
       "                                      image_path  \n",
       "4799   ./../data/jpgs/aug_yiOOTgISIC_0027802.jpg  \n",
       "9723   ./../data/jpgs/aug_dPkGx7ISIC_0026092.jpg  \n",
       "5962   ./../data/jpgs/aug_JoAxGwISIC_0024372.jpg  \n",
       "5658   ./../data/jpgs/aug_500DcqISIC_0027650.jpg  \n",
       "10459  ./../data/jpgs/aug_1bNS1MISIC_0031270.jpg  \n",
       "8192   ./../data/jpgs/aug_U8ngGmISIC_0033847.jpg  \n",
       "10187  ./../data/jpgs/aug_hONJOYISIC_0033844.jpg  \n",
       "3967             ./../data/jpgs/ISIC_0026551.jpg  \n",
       "7081   ./../data/jpgs/aug_4NrMwSISIC_0031489.jpg  \n",
       "8501   ./../data/jpgs/aug_lDCpDOISIC_0031457.jpg  \n",
       "1558             ./../data/jpgs/ISIC_0032870.jpg  \n",
       "7326   ./../data/jpgs/aug_78iIp2ISIC_0029602.jpg  \n",
       "4563             ./../data/jpgs/ISIC_0032356.jpg  \n",
       "1357   ./../data/jpgs/aug_8bAWoRISIC_0029345.jpg  \n",
       "5111   ./../data/jpgs/aug_CZk0gVISIC_0028872.jpg  "
      ]
     },
     "execution_count": 92,
     "metadata": {},
     "output_type": "execute_result"
    }
   ],
   "source": [
    "balanced_train_df.sample(15)"
   ]
  },
  {
   "cell_type": "markdown",
   "metadata": {},
   "source": [
    "## Plotting the balanced classes"
   ]
  },
  {
   "cell_type": "code",
   "execution_count": 93,
   "metadata": {},
   "outputs": [
    {
     "data": {
      "image/png": "[encoded data removed]",
      "text/plain": [
       "<Figure size 1000x600 with 1 Axes>"
      ]
     },
     "metadata": {},
     "output_type": "display_data"
    }
   ],
   "source": [
    "# Count the occurrences of each class in the DataFrame\n",
    "class_counts = balanced_train_df[TARGET_LABEL].value_counts()\n",
    "\n",
    "# Plot the histogram\n",
    "plt.figure(figsize=(10, 6))\n",
    "plt.bar(class_counts.index, class_counts.values)\n",
    "plt.xlabel('Class Label')\n",
    "plt.ylabel('Count')\n",
    "plt.title('Class Distribution Histogram')\n",
    "plt.xticks(rotation=45)\n",
    "plt.show()"
   ]
  },
  {
   "cell_type": "markdown",
   "metadata": {},
   "source": [
    "## Setting upt the image data generator for validation"
   ]
  },
  {
   "cell_type": "code",
   "execution_count": 94,
   "metadata": {},
   "outputs": [
    {
     "name": "stdout",
     "output_type": "stream",
     "text": [
      "Found 2003 validated image filenames belonging to 2 classes.\n"
     ]
    }
   ],
   "source": [
    "validation_generator = datagen_validation.flow_from_dataframe(\n",
    "    dataframe=validation_df,\n",
    "    directory=FILEPATH_JPGS,\n",
    "    x_col=\"image_id\",\n",
    "    y_col=TARGET_LABEL,\n",
    "    #subset=\"validation\",\n",
    "    class_mode=\"categorical\",\n",
    "    target_size=IMAGE_SIZE,\n",
    "    batch_size=32\n",
    ")"
   ]
  },
  {
   "cell_type": "markdown",
   "metadata": {},
   "source": [
    "## Saving Test, Validation and Training data to csv"
   ]
  },
  {
   "cell_type": "code",
   "execution_count": null,
   "metadata": {},
   "outputs": [],
   "source": [
    "balanced_train_df.to_csv('../data/processed/train_from_Metadata_processed.csv', index=False)\n",
    "validation_df.to_csv('../data/processed/validation_from_Metadata_processed.csv', index=False)\n",
    "test_df.to_csv('../data/processed/test_from_Metadata_processed.csv', index=False)"
   ]
  }
 ],
 "metadata": {
  "kernelspec": {
   "display_name": ".venv",
   "language": "python",
   "name": "python3"
  },
  "language_info": {
   "codemirror_mode": {
    "name": "ipython",
    "version": 3
   },
   "file_extension": ".py",
   "mimetype": "text/x-python",
   "name": "python",
   "nbconvert_exporter": "python",
   "pygments_lexer": "ipython3",
   "version": "3.11.3"
  },
  "orig_nbformat": 4
 },
 "nbformat": 4,
 "nbformat_minor": 2
}
